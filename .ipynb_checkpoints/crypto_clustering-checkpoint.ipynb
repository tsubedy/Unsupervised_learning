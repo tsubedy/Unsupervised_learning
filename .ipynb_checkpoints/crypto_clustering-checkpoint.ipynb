{
 "cells": [
  {
   "cell_type": "code",
   "execution_count": 71,
   "id": "41efb1e2",
   "metadata": {},
   "outputs": [],
   "source": [
    "import pandas as pd\n",
    "import matplotlib.pyplot as plt\n",
    "import numpy as np\n",
    "import plotly.express as px\n",
    "from sklearn.preprocessing import StandardScaler, MinMaxScaler, LabelEncoder\n",
    "from sklearn.decomposition import PCA\n",
    "from sklearn.cluster import KMeans\n"
   ]
  },
  {
   "cell_type": "markdown",
   "id": "99c1910b",
   "metadata": {},
   "source": [
    "# Retrieving data"
   ]
  },
  {
   "cell_type": "code",
   "execution_count": 51,
   "id": "11a7c666",
   "metadata": {},
   "outputs": [],
   "source": [
    "# Reading csv data file\n",
    "data = pd.read_csv('crypto_data.csv')\n"
   ]
  },
  {
   "cell_type": "code",
   "execution_count": 52,
   "id": "00f0a7bf",
   "metadata": {},
   "outputs": [
    {
     "data": {
      "text/html": [
       "<div>\n",
       "<style scoped>\n",
       "    .dataframe tbody tr th:only-of-type {\n",
       "        vertical-align: middle;\n",
       "    }\n",
       "\n",
       "    .dataframe tbody tr th {\n",
       "        vertical-align: top;\n",
       "    }\n",
       "\n",
       "    .dataframe thead th {\n",
       "        text-align: right;\n",
       "    }\n",
       "</style>\n",
       "<table border=\"1\" class=\"dataframe\">\n",
       "  <thead>\n",
       "    <tr style=\"text-align: right;\">\n",
       "      <th></th>\n",
       "      <th>Unnamed: 0</th>\n",
       "      <th>CoinName</th>\n",
       "      <th>Algorithm</th>\n",
       "      <th>IsTrading</th>\n",
       "      <th>ProofType</th>\n",
       "      <th>TotalCoinsMined</th>\n",
       "      <th>TotalCoinSupply</th>\n",
       "    </tr>\n",
       "  </thead>\n",
       "  <tbody>\n",
       "    <tr>\n",
       "      <th>0</th>\n",
       "      <td>42</td>\n",
       "      <td>42 Coin</td>\n",
       "      <td>Scrypt</td>\n",
       "      <td>True</td>\n",
       "      <td>PoW/PoS</td>\n",
       "      <td>4.199995e+01</td>\n",
       "      <td>42</td>\n",
       "    </tr>\n",
       "    <tr>\n",
       "      <th>1</th>\n",
       "      <td>365</td>\n",
       "      <td>365Coin</td>\n",
       "      <td>X11</td>\n",
       "      <td>True</td>\n",
       "      <td>PoW/PoS</td>\n",
       "      <td>NaN</td>\n",
       "      <td>2300000000</td>\n",
       "    </tr>\n",
       "    <tr>\n",
       "      <th>2</th>\n",
       "      <td>404</td>\n",
       "      <td>404Coin</td>\n",
       "      <td>Scrypt</td>\n",
       "      <td>True</td>\n",
       "      <td>PoW/PoS</td>\n",
       "      <td>1.055185e+09</td>\n",
       "      <td>532000000</td>\n",
       "    </tr>\n",
       "    <tr>\n",
       "      <th>3</th>\n",
       "      <td>611</td>\n",
       "      <td>SixEleven</td>\n",
       "      <td>SHA-256</td>\n",
       "      <td>True</td>\n",
       "      <td>PoW</td>\n",
       "      <td>NaN</td>\n",
       "      <td>611000</td>\n",
       "    </tr>\n",
       "    <tr>\n",
       "      <th>4</th>\n",
       "      <td>808</td>\n",
       "      <td>808</td>\n",
       "      <td>SHA-256</td>\n",
       "      <td>True</td>\n",
       "      <td>PoW/PoS</td>\n",
       "      <td>0.000000e+00</td>\n",
       "      <td>0</td>\n",
       "    </tr>\n",
       "    <tr>\n",
       "      <th>...</th>\n",
       "      <td>...</td>\n",
       "      <td>...</td>\n",
       "      <td>...</td>\n",
       "      <td>...</td>\n",
       "      <td>...</td>\n",
       "      <td>...</td>\n",
       "      <td>...</td>\n",
       "    </tr>\n",
       "    <tr>\n",
       "      <th>1247</th>\n",
       "      <td>XBC</td>\n",
       "      <td>BitcoinPlus</td>\n",
       "      <td>Scrypt</td>\n",
       "      <td>True</td>\n",
       "      <td>PoS</td>\n",
       "      <td>1.283270e+05</td>\n",
       "      <td>1000000</td>\n",
       "    </tr>\n",
       "    <tr>\n",
       "      <th>1248</th>\n",
       "      <td>DVTC</td>\n",
       "      <td>DivotyCoin</td>\n",
       "      <td>Scrypt</td>\n",
       "      <td>False</td>\n",
       "      <td>PoW/PoS</td>\n",
       "      <td>2.149121e+07</td>\n",
       "      <td>100000000</td>\n",
       "    </tr>\n",
       "    <tr>\n",
       "      <th>1249</th>\n",
       "      <td>GIOT</td>\n",
       "      <td>Giotto Coin</td>\n",
       "      <td>Scrypt</td>\n",
       "      <td>False</td>\n",
       "      <td>PoW/PoS</td>\n",
       "      <td>NaN</td>\n",
       "      <td>233100000</td>\n",
       "    </tr>\n",
       "    <tr>\n",
       "      <th>1250</th>\n",
       "      <td>OPSC</td>\n",
       "      <td>OpenSourceCoin</td>\n",
       "      <td>SHA-256</td>\n",
       "      <td>False</td>\n",
       "      <td>PoW/PoS</td>\n",
       "      <td>NaN</td>\n",
       "      <td>21000000</td>\n",
       "    </tr>\n",
       "    <tr>\n",
       "      <th>1251</th>\n",
       "      <td>PUNK</td>\n",
       "      <td>SteamPunk</td>\n",
       "      <td>PoS</td>\n",
       "      <td>False</td>\n",
       "      <td>PoS</td>\n",
       "      <td>NaN</td>\n",
       "      <td>40000000</td>\n",
       "    </tr>\n",
       "  </tbody>\n",
       "</table>\n",
       "<p>1252 rows × 7 columns</p>\n",
       "</div>"
      ],
      "text/plain": [
       "     Unnamed: 0        CoinName Algorithm  IsTrading ProofType  \\\n",
       "0            42         42 Coin    Scrypt       True   PoW/PoS   \n",
       "1           365         365Coin       X11       True   PoW/PoS   \n",
       "2           404         404Coin    Scrypt       True   PoW/PoS   \n",
       "3           611       SixEleven   SHA-256       True       PoW   \n",
       "4           808             808   SHA-256       True   PoW/PoS   \n",
       "...         ...             ...       ...        ...       ...   \n",
       "1247        XBC     BitcoinPlus    Scrypt       True       PoS   \n",
       "1248       DVTC      DivotyCoin    Scrypt      False   PoW/PoS   \n",
       "1249       GIOT     Giotto Coin    Scrypt      False   PoW/PoS   \n",
       "1250       OPSC  OpenSourceCoin   SHA-256      False   PoW/PoS   \n",
       "1251       PUNK       SteamPunk       PoS      False       PoS   \n",
       "\n",
       "      TotalCoinsMined TotalCoinSupply  \n",
       "0        4.199995e+01              42  \n",
       "1                 NaN      2300000000  \n",
       "2        1.055185e+09       532000000  \n",
       "3                 NaN          611000  \n",
       "4        0.000000e+00               0  \n",
       "...               ...             ...  \n",
       "1247     1.283270e+05         1000000  \n",
       "1248     2.149121e+07       100000000  \n",
       "1249              NaN       233100000  \n",
       "1250              NaN        21000000  \n",
       "1251              NaN        40000000  \n",
       "\n",
       "[1252 rows x 7 columns]"
      ]
     },
     "execution_count": 52,
     "metadata": {},
     "output_type": "execute_result"
    }
   ],
   "source": [
    "data"
   ]
  },
  {
   "cell_type": "markdown",
   "id": "1607b135",
   "metadata": {},
   "source": [
    "# Data Processing"
   ]
  },
  {
   "cell_type": "code",
   "execution_count": 53,
   "id": "448efb0e",
   "metadata": {},
   "outputs": [
    {
     "data": {
      "text/html": [
       "<div>\n",
       "<style scoped>\n",
       "    .dataframe tbody tr th:only-of-type {\n",
       "        vertical-align: middle;\n",
       "    }\n",
       "\n",
       "    .dataframe tbody tr th {\n",
       "        vertical-align: top;\n",
       "    }\n",
       "\n",
       "    .dataframe thead th {\n",
       "        text-align: right;\n",
       "    }\n",
       "</style>\n",
       "<table border=\"1\" class=\"dataframe\">\n",
       "  <thead>\n",
       "    <tr style=\"text-align: right;\">\n",
       "      <th></th>\n",
       "      <th>Unnamed: 0</th>\n",
       "      <th>CoinName</th>\n",
       "      <th>Algorithm</th>\n",
       "      <th>IsTrading</th>\n",
       "      <th>ProofType</th>\n",
       "      <th>TotalCoinsMined</th>\n",
       "      <th>TotalCoinSupply</th>\n",
       "    </tr>\n",
       "  </thead>\n",
       "  <tbody>\n",
       "    <tr>\n",
       "      <th>0</th>\n",
       "      <td>42</td>\n",
       "      <td>42 Coin</td>\n",
       "      <td>Scrypt</td>\n",
       "      <td>True</td>\n",
       "      <td>PoW/PoS</td>\n",
       "      <td>4.199995e+01</td>\n",
       "      <td>42</td>\n",
       "    </tr>\n",
       "    <tr>\n",
       "      <th>1</th>\n",
       "      <td>365</td>\n",
       "      <td>365Coin</td>\n",
       "      <td>X11</td>\n",
       "      <td>True</td>\n",
       "      <td>PoW/PoS</td>\n",
       "      <td>NaN</td>\n",
       "      <td>2300000000</td>\n",
       "    </tr>\n",
       "    <tr>\n",
       "      <th>2</th>\n",
       "      <td>404</td>\n",
       "      <td>404Coin</td>\n",
       "      <td>Scrypt</td>\n",
       "      <td>True</td>\n",
       "      <td>PoW/PoS</td>\n",
       "      <td>1.055185e+09</td>\n",
       "      <td>532000000</td>\n",
       "    </tr>\n",
       "    <tr>\n",
       "      <th>3</th>\n",
       "      <td>611</td>\n",
       "      <td>SixEleven</td>\n",
       "      <td>SHA-256</td>\n",
       "      <td>True</td>\n",
       "      <td>PoW</td>\n",
       "      <td>NaN</td>\n",
       "      <td>611000</td>\n",
       "    </tr>\n",
       "    <tr>\n",
       "      <th>4</th>\n",
       "      <td>808</td>\n",
       "      <td>808</td>\n",
       "      <td>SHA-256</td>\n",
       "      <td>True</td>\n",
       "      <td>PoW/PoS</td>\n",
       "      <td>0.000000e+00</td>\n",
       "      <td>0</td>\n",
       "    </tr>\n",
       "    <tr>\n",
       "      <th>...</th>\n",
       "      <td>...</td>\n",
       "      <td>...</td>\n",
       "      <td>...</td>\n",
       "      <td>...</td>\n",
       "      <td>...</td>\n",
       "      <td>...</td>\n",
       "      <td>...</td>\n",
       "    </tr>\n",
       "    <tr>\n",
       "      <th>1243</th>\n",
       "      <td>SERO</td>\n",
       "      <td>Super Zero</td>\n",
       "      <td>Ethash</td>\n",
       "      <td>True</td>\n",
       "      <td>PoW</td>\n",
       "      <td>NaN</td>\n",
       "      <td>1000000000</td>\n",
       "    </tr>\n",
       "    <tr>\n",
       "      <th>1244</th>\n",
       "      <td>UOS</td>\n",
       "      <td>UOS</td>\n",
       "      <td>SHA-256</td>\n",
       "      <td>True</td>\n",
       "      <td>DPoI</td>\n",
       "      <td>NaN</td>\n",
       "      <td>1000000000</td>\n",
       "    </tr>\n",
       "    <tr>\n",
       "      <th>1245</th>\n",
       "      <td>BDX</td>\n",
       "      <td>Beldex</td>\n",
       "      <td>CryptoNight</td>\n",
       "      <td>True</td>\n",
       "      <td>PoW</td>\n",
       "      <td>9.802226e+08</td>\n",
       "      <td>1400222610</td>\n",
       "    </tr>\n",
       "    <tr>\n",
       "      <th>1246</th>\n",
       "      <td>ZEN</td>\n",
       "      <td>Horizen</td>\n",
       "      <td>Equihash</td>\n",
       "      <td>True</td>\n",
       "      <td>PoW</td>\n",
       "      <td>7.296538e+06</td>\n",
       "      <td>21000000</td>\n",
       "    </tr>\n",
       "    <tr>\n",
       "      <th>1247</th>\n",
       "      <td>XBC</td>\n",
       "      <td>BitcoinPlus</td>\n",
       "      <td>Scrypt</td>\n",
       "      <td>True</td>\n",
       "      <td>PoS</td>\n",
       "      <td>1.283270e+05</td>\n",
       "      <td>1000000</td>\n",
       "    </tr>\n",
       "  </tbody>\n",
       "</table>\n",
       "<p>1144 rows × 7 columns</p>\n",
       "</div>"
      ],
      "text/plain": [
       "     Unnamed: 0     CoinName    Algorithm  IsTrading ProofType  \\\n",
       "0            42      42 Coin       Scrypt       True   PoW/PoS   \n",
       "1           365      365Coin          X11       True   PoW/PoS   \n",
       "2           404      404Coin       Scrypt       True   PoW/PoS   \n",
       "3           611    SixEleven      SHA-256       True       PoW   \n",
       "4           808          808      SHA-256       True   PoW/PoS   \n",
       "...         ...          ...          ...        ...       ...   \n",
       "1243       SERO   Super Zero       Ethash       True       PoW   \n",
       "1244        UOS          UOS      SHA-256       True      DPoI   \n",
       "1245        BDX       Beldex  CryptoNight       True       PoW   \n",
       "1246        ZEN      Horizen     Equihash       True       PoW   \n",
       "1247        XBC  BitcoinPlus       Scrypt       True       PoS   \n",
       "\n",
       "      TotalCoinsMined TotalCoinSupply  \n",
       "0        4.199995e+01              42  \n",
       "1                 NaN      2300000000  \n",
       "2        1.055185e+09       532000000  \n",
       "3                 NaN          611000  \n",
       "4        0.000000e+00               0  \n",
       "...               ...             ...  \n",
       "1243              NaN      1000000000  \n",
       "1244              NaN      1000000000  \n",
       "1245     9.802226e+08      1400222610  \n",
       "1246     7.296538e+06        21000000  \n",
       "1247     1.283270e+05         1000000  \n",
       "\n",
       "[1144 rows x 7 columns]"
      ]
     },
     "execution_count": 53,
     "metadata": {},
     "output_type": "execute_result"
    }
   ],
   "source": [
    "# Keep only cryptocurrencies that are on trading\n",
    "data = data.loc[data['IsTrading'] == True]\n",
    "data"
   ]
  },
  {
   "cell_type": "code",
   "execution_count": 54,
   "id": "05add335",
   "metadata": {},
   "outputs": [
    {
     "data": {
      "text/html": [
       "<div>\n",
       "<style scoped>\n",
       "    .dataframe tbody tr th:only-of-type {\n",
       "        vertical-align: middle;\n",
       "    }\n",
       "\n",
       "    .dataframe tbody tr th {\n",
       "        vertical-align: top;\n",
       "    }\n",
       "\n",
       "    .dataframe thead th {\n",
       "        text-align: right;\n",
       "    }\n",
       "</style>\n",
       "<table border=\"1\" class=\"dataframe\">\n",
       "  <thead>\n",
       "    <tr style=\"text-align: right;\">\n",
       "      <th></th>\n",
       "      <th>Unnamed: 0</th>\n",
       "      <th>CoinName</th>\n",
       "      <th>Algorithm</th>\n",
       "      <th>IsTrading</th>\n",
       "      <th>ProofType</th>\n",
       "      <th>TotalCoinsMined</th>\n",
       "      <th>TotalCoinSupply</th>\n",
       "    </tr>\n",
       "  </thead>\n",
       "  <tbody>\n",
       "    <tr>\n",
       "      <th>0</th>\n",
       "      <td>42</td>\n",
       "      <td>42 Coin</td>\n",
       "      <td>Scrypt</td>\n",
       "      <td>True</td>\n",
       "      <td>PoW/PoS</td>\n",
       "      <td>4.199995e+01</td>\n",
       "      <td>42</td>\n",
       "    </tr>\n",
       "    <tr>\n",
       "      <th>1</th>\n",
       "      <td>365</td>\n",
       "      <td>365Coin</td>\n",
       "      <td>X11</td>\n",
       "      <td>True</td>\n",
       "      <td>PoW/PoS</td>\n",
       "      <td>NaN</td>\n",
       "      <td>2300000000</td>\n",
       "    </tr>\n",
       "    <tr>\n",
       "      <th>2</th>\n",
       "      <td>404</td>\n",
       "      <td>404Coin</td>\n",
       "      <td>Scrypt</td>\n",
       "      <td>True</td>\n",
       "      <td>PoW/PoS</td>\n",
       "      <td>1.055185e+09</td>\n",
       "      <td>532000000</td>\n",
       "    </tr>\n",
       "    <tr>\n",
       "      <th>3</th>\n",
       "      <td>611</td>\n",
       "      <td>SixEleven</td>\n",
       "      <td>SHA-256</td>\n",
       "      <td>True</td>\n",
       "      <td>PoW</td>\n",
       "      <td>NaN</td>\n",
       "      <td>611000</td>\n",
       "    </tr>\n",
       "    <tr>\n",
       "      <th>4</th>\n",
       "      <td>808</td>\n",
       "      <td>808</td>\n",
       "      <td>SHA-256</td>\n",
       "      <td>True</td>\n",
       "      <td>PoW/PoS</td>\n",
       "      <td>0.000000e+00</td>\n",
       "      <td>0</td>\n",
       "    </tr>\n",
       "    <tr>\n",
       "      <th>...</th>\n",
       "      <td>...</td>\n",
       "      <td>...</td>\n",
       "      <td>...</td>\n",
       "      <td>...</td>\n",
       "      <td>...</td>\n",
       "      <td>...</td>\n",
       "      <td>...</td>\n",
       "    </tr>\n",
       "    <tr>\n",
       "      <th>1243</th>\n",
       "      <td>SERO</td>\n",
       "      <td>Super Zero</td>\n",
       "      <td>Ethash</td>\n",
       "      <td>True</td>\n",
       "      <td>PoW</td>\n",
       "      <td>NaN</td>\n",
       "      <td>1000000000</td>\n",
       "    </tr>\n",
       "    <tr>\n",
       "      <th>1244</th>\n",
       "      <td>UOS</td>\n",
       "      <td>UOS</td>\n",
       "      <td>SHA-256</td>\n",
       "      <td>True</td>\n",
       "      <td>DPoI</td>\n",
       "      <td>NaN</td>\n",
       "      <td>1000000000</td>\n",
       "    </tr>\n",
       "    <tr>\n",
       "      <th>1245</th>\n",
       "      <td>BDX</td>\n",
       "      <td>Beldex</td>\n",
       "      <td>CryptoNight</td>\n",
       "      <td>True</td>\n",
       "      <td>PoW</td>\n",
       "      <td>9.802226e+08</td>\n",
       "      <td>1400222610</td>\n",
       "    </tr>\n",
       "    <tr>\n",
       "      <th>1246</th>\n",
       "      <td>ZEN</td>\n",
       "      <td>Horizen</td>\n",
       "      <td>Equihash</td>\n",
       "      <td>True</td>\n",
       "      <td>PoW</td>\n",
       "      <td>7.296538e+06</td>\n",
       "      <td>21000000</td>\n",
       "    </tr>\n",
       "    <tr>\n",
       "      <th>1247</th>\n",
       "      <td>XBC</td>\n",
       "      <td>BitcoinPlus</td>\n",
       "      <td>Scrypt</td>\n",
       "      <td>True</td>\n",
       "      <td>PoS</td>\n",
       "      <td>1.283270e+05</td>\n",
       "      <td>1000000</td>\n",
       "    </tr>\n",
       "  </tbody>\n",
       "</table>\n",
       "<p>1144 rows × 7 columns</p>\n",
       "</div>"
      ],
      "text/plain": [
       "     Unnamed: 0     CoinName    Algorithm  IsTrading ProofType  \\\n",
       "0            42      42 Coin       Scrypt       True   PoW/PoS   \n",
       "1           365      365Coin          X11       True   PoW/PoS   \n",
       "2           404      404Coin       Scrypt       True   PoW/PoS   \n",
       "3           611    SixEleven      SHA-256       True       PoW   \n",
       "4           808          808      SHA-256       True   PoW/PoS   \n",
       "...         ...          ...          ...        ...       ...   \n",
       "1243       SERO   Super Zero       Ethash       True       PoW   \n",
       "1244        UOS          UOS      SHA-256       True      DPoI   \n",
       "1245        BDX       Beldex  CryptoNight       True       PoW   \n",
       "1246        ZEN      Horizen     Equihash       True       PoW   \n",
       "1247        XBC  BitcoinPlus       Scrypt       True       PoS   \n",
       "\n",
       "      TotalCoinsMined TotalCoinSupply  \n",
       "0        4.199995e+01              42  \n",
       "1                 NaN      2300000000  \n",
       "2        1.055185e+09       532000000  \n",
       "3                 NaN          611000  \n",
       "4        0.000000e+00               0  \n",
       "...               ...             ...  \n",
       "1243              NaN      1000000000  \n",
       "1244              NaN      1000000000  \n",
       "1245     9.802226e+08      1400222610  \n",
       "1246     7.296538e+06        21000000  \n",
       "1247     1.283270e+05         1000000  \n",
       "\n",
       "[1144 rows x 7 columns]"
      ]
     },
     "execution_count": 54,
     "metadata": {},
     "output_type": "execute_result"
    }
   ],
   "source": [
    "# Keep only cryptocurrencies with a working algorithm\n",
    "data = data.loc[data['Algorithm'] != 'N/A']\n",
    "data"
   ]
  },
  {
   "cell_type": "code",
   "execution_count": 55,
   "id": "f18b838f",
   "metadata": {},
   "outputs": [
    {
     "data": {
      "text/html": [
       "<div>\n",
       "<style scoped>\n",
       "    .dataframe tbody tr th:only-of-type {\n",
       "        vertical-align: middle;\n",
       "    }\n",
       "\n",
       "    .dataframe tbody tr th {\n",
       "        vertical-align: top;\n",
       "    }\n",
       "\n",
       "    .dataframe thead th {\n",
       "        text-align: right;\n",
       "    }\n",
       "</style>\n",
       "<table border=\"1\" class=\"dataframe\">\n",
       "  <thead>\n",
       "    <tr style=\"text-align: right;\">\n",
       "      <th></th>\n",
       "      <th>Unnamed: 0</th>\n",
       "      <th>CoinName</th>\n",
       "      <th>Algorithm</th>\n",
       "      <th>ProofType</th>\n",
       "      <th>TotalCoinsMined</th>\n",
       "      <th>TotalCoinSupply</th>\n",
       "    </tr>\n",
       "  </thead>\n",
       "  <tbody>\n",
       "    <tr>\n",
       "      <th>0</th>\n",
       "      <td>42</td>\n",
       "      <td>42 Coin</td>\n",
       "      <td>Scrypt</td>\n",
       "      <td>PoW/PoS</td>\n",
       "      <td>4.199995e+01</td>\n",
       "      <td>42</td>\n",
       "    </tr>\n",
       "    <tr>\n",
       "      <th>1</th>\n",
       "      <td>365</td>\n",
       "      <td>365Coin</td>\n",
       "      <td>X11</td>\n",
       "      <td>PoW/PoS</td>\n",
       "      <td>NaN</td>\n",
       "      <td>2300000000</td>\n",
       "    </tr>\n",
       "    <tr>\n",
       "      <th>2</th>\n",
       "      <td>404</td>\n",
       "      <td>404Coin</td>\n",
       "      <td>Scrypt</td>\n",
       "      <td>PoW/PoS</td>\n",
       "      <td>1.055185e+09</td>\n",
       "      <td>532000000</td>\n",
       "    </tr>\n",
       "    <tr>\n",
       "      <th>3</th>\n",
       "      <td>611</td>\n",
       "      <td>SixEleven</td>\n",
       "      <td>SHA-256</td>\n",
       "      <td>PoW</td>\n",
       "      <td>NaN</td>\n",
       "      <td>611000</td>\n",
       "    </tr>\n",
       "    <tr>\n",
       "      <th>4</th>\n",
       "      <td>808</td>\n",
       "      <td>808</td>\n",
       "      <td>SHA-256</td>\n",
       "      <td>PoW/PoS</td>\n",
       "      <td>0.000000e+00</td>\n",
       "      <td>0</td>\n",
       "    </tr>\n",
       "    <tr>\n",
       "      <th>...</th>\n",
       "      <td>...</td>\n",
       "      <td>...</td>\n",
       "      <td>...</td>\n",
       "      <td>...</td>\n",
       "      <td>...</td>\n",
       "      <td>...</td>\n",
       "    </tr>\n",
       "    <tr>\n",
       "      <th>1243</th>\n",
       "      <td>SERO</td>\n",
       "      <td>Super Zero</td>\n",
       "      <td>Ethash</td>\n",
       "      <td>PoW</td>\n",
       "      <td>NaN</td>\n",
       "      <td>1000000000</td>\n",
       "    </tr>\n",
       "    <tr>\n",
       "      <th>1244</th>\n",
       "      <td>UOS</td>\n",
       "      <td>UOS</td>\n",
       "      <td>SHA-256</td>\n",
       "      <td>DPoI</td>\n",
       "      <td>NaN</td>\n",
       "      <td>1000000000</td>\n",
       "    </tr>\n",
       "    <tr>\n",
       "      <th>1245</th>\n",
       "      <td>BDX</td>\n",
       "      <td>Beldex</td>\n",
       "      <td>CryptoNight</td>\n",
       "      <td>PoW</td>\n",
       "      <td>9.802226e+08</td>\n",
       "      <td>1400222610</td>\n",
       "    </tr>\n",
       "    <tr>\n",
       "      <th>1246</th>\n",
       "      <td>ZEN</td>\n",
       "      <td>Horizen</td>\n",
       "      <td>Equihash</td>\n",
       "      <td>PoW</td>\n",
       "      <td>7.296538e+06</td>\n",
       "      <td>21000000</td>\n",
       "    </tr>\n",
       "    <tr>\n",
       "      <th>1247</th>\n",
       "      <td>XBC</td>\n",
       "      <td>BitcoinPlus</td>\n",
       "      <td>Scrypt</td>\n",
       "      <td>PoS</td>\n",
       "      <td>1.283270e+05</td>\n",
       "      <td>1000000</td>\n",
       "    </tr>\n",
       "  </tbody>\n",
       "</table>\n",
       "<p>1144 rows × 6 columns</p>\n",
       "</div>"
      ],
      "text/plain": [
       "     Unnamed: 0     CoinName    Algorithm ProofType  TotalCoinsMined  \\\n",
       "0            42      42 Coin       Scrypt   PoW/PoS     4.199995e+01   \n",
       "1           365      365Coin          X11   PoW/PoS              NaN   \n",
       "2           404      404Coin       Scrypt   PoW/PoS     1.055185e+09   \n",
       "3           611    SixEleven      SHA-256       PoW              NaN   \n",
       "4           808          808      SHA-256   PoW/PoS     0.000000e+00   \n",
       "...         ...          ...          ...       ...              ...   \n",
       "1243       SERO   Super Zero       Ethash       PoW              NaN   \n",
       "1244        UOS          UOS      SHA-256      DPoI              NaN   \n",
       "1245        BDX       Beldex  CryptoNight       PoW     9.802226e+08   \n",
       "1246        ZEN      Horizen     Equihash       PoW     7.296538e+06   \n",
       "1247        XBC  BitcoinPlus       Scrypt       PoS     1.283270e+05   \n",
       "\n",
       "     TotalCoinSupply  \n",
       "0                 42  \n",
       "1         2300000000  \n",
       "2          532000000  \n",
       "3             611000  \n",
       "4                  0  \n",
       "...              ...  \n",
       "1243      1000000000  \n",
       "1244      1000000000  \n",
       "1245      1400222610  \n",
       "1246        21000000  \n",
       "1247         1000000  \n",
       "\n",
       "[1144 rows x 6 columns]"
      ]
     },
     "execution_count": 55,
     "metadata": {},
     "output_type": "execute_result"
    }
   ],
   "source": [
    "# Remove the \"IsTrading\" column\n",
    "data = data.drop(columns='IsTrading')\n",
    "data"
   ]
  },
  {
   "cell_type": "code",
   "execution_count": 56,
   "id": "b6477665",
   "metadata": {},
   "outputs": [
    {
     "data": {
      "text/html": [
       "<div>\n",
       "<style scoped>\n",
       "    .dataframe tbody tr th:only-of-type {\n",
       "        vertical-align: middle;\n",
       "    }\n",
       "\n",
       "    .dataframe tbody tr th {\n",
       "        vertical-align: top;\n",
       "    }\n",
       "\n",
       "    .dataframe thead th {\n",
       "        text-align: right;\n",
       "    }\n",
       "</style>\n",
       "<table border=\"1\" class=\"dataframe\">\n",
       "  <thead>\n",
       "    <tr style=\"text-align: right;\">\n",
       "      <th></th>\n",
       "      <th>Unnamed: 0</th>\n",
       "      <th>CoinName</th>\n",
       "      <th>Algorithm</th>\n",
       "      <th>ProofType</th>\n",
       "      <th>TotalCoinsMined</th>\n",
       "      <th>TotalCoinSupply</th>\n",
       "    </tr>\n",
       "  </thead>\n",
       "  <tbody>\n",
       "    <tr>\n",
       "      <th>0</th>\n",
       "      <td>42</td>\n",
       "      <td>42 Coin</td>\n",
       "      <td>Scrypt</td>\n",
       "      <td>PoW/PoS</td>\n",
       "      <td>4.199995e+01</td>\n",
       "      <td>42</td>\n",
       "    </tr>\n",
       "    <tr>\n",
       "      <th>2</th>\n",
       "      <td>404</td>\n",
       "      <td>404Coin</td>\n",
       "      <td>Scrypt</td>\n",
       "      <td>PoW/PoS</td>\n",
       "      <td>1.055185e+09</td>\n",
       "      <td>532000000</td>\n",
       "    </tr>\n",
       "    <tr>\n",
       "      <th>4</th>\n",
       "      <td>808</td>\n",
       "      <td>808</td>\n",
       "      <td>SHA-256</td>\n",
       "      <td>PoW/PoS</td>\n",
       "      <td>0.000000e+00</td>\n",
       "      <td>0</td>\n",
       "    </tr>\n",
       "    <tr>\n",
       "      <th>5</th>\n",
       "      <td>1337</td>\n",
       "      <td>EliteCoin</td>\n",
       "      <td>X13</td>\n",
       "      <td>PoW/PoS</td>\n",
       "      <td>2.927942e+10</td>\n",
       "      <td>314159265359</td>\n",
       "    </tr>\n",
       "    <tr>\n",
       "      <th>7</th>\n",
       "      <td>BTC</td>\n",
       "      <td>Bitcoin</td>\n",
       "      <td>SHA-256</td>\n",
       "      <td>PoW</td>\n",
       "      <td>1.792718e+07</td>\n",
       "      <td>21000000</td>\n",
       "    </tr>\n",
       "    <tr>\n",
       "      <th>...</th>\n",
       "      <td>...</td>\n",
       "      <td>...</td>\n",
       "      <td>...</td>\n",
       "      <td>...</td>\n",
       "      <td>...</td>\n",
       "      <td>...</td>\n",
       "    </tr>\n",
       "    <tr>\n",
       "      <th>1238</th>\n",
       "      <td>ZEPH</td>\n",
       "      <td>ZEPHYR</td>\n",
       "      <td>SHA-256</td>\n",
       "      <td>DPoS</td>\n",
       "      <td>2.000000e+09</td>\n",
       "      <td>2000000000</td>\n",
       "    </tr>\n",
       "    <tr>\n",
       "      <th>1242</th>\n",
       "      <td>GAP</td>\n",
       "      <td>Gapcoin</td>\n",
       "      <td>Scrypt</td>\n",
       "      <td>PoW/PoS</td>\n",
       "      <td>1.493105e+07</td>\n",
       "      <td>250000000</td>\n",
       "    </tr>\n",
       "    <tr>\n",
       "      <th>1245</th>\n",
       "      <td>BDX</td>\n",
       "      <td>Beldex</td>\n",
       "      <td>CryptoNight</td>\n",
       "      <td>PoW</td>\n",
       "      <td>9.802226e+08</td>\n",
       "      <td>1400222610</td>\n",
       "    </tr>\n",
       "    <tr>\n",
       "      <th>1246</th>\n",
       "      <td>ZEN</td>\n",
       "      <td>Horizen</td>\n",
       "      <td>Equihash</td>\n",
       "      <td>PoW</td>\n",
       "      <td>7.296538e+06</td>\n",
       "      <td>21000000</td>\n",
       "    </tr>\n",
       "    <tr>\n",
       "      <th>1247</th>\n",
       "      <td>XBC</td>\n",
       "      <td>BitcoinPlus</td>\n",
       "      <td>Scrypt</td>\n",
       "      <td>PoS</td>\n",
       "      <td>1.283270e+05</td>\n",
       "      <td>1000000</td>\n",
       "    </tr>\n",
       "  </tbody>\n",
       "</table>\n",
       "<p>685 rows × 6 columns</p>\n",
       "</div>"
      ],
      "text/plain": [
       "     Unnamed: 0     CoinName    Algorithm ProofType  TotalCoinsMined  \\\n",
       "0            42      42 Coin       Scrypt   PoW/PoS     4.199995e+01   \n",
       "2           404      404Coin       Scrypt   PoW/PoS     1.055185e+09   \n",
       "4           808          808      SHA-256   PoW/PoS     0.000000e+00   \n",
       "5          1337    EliteCoin          X13   PoW/PoS     2.927942e+10   \n",
       "7           BTC      Bitcoin      SHA-256       PoW     1.792718e+07   \n",
       "...         ...          ...          ...       ...              ...   \n",
       "1238       ZEPH       ZEPHYR      SHA-256      DPoS     2.000000e+09   \n",
       "1242        GAP      Gapcoin       Scrypt   PoW/PoS     1.493105e+07   \n",
       "1245        BDX       Beldex  CryptoNight       PoW     9.802226e+08   \n",
       "1246        ZEN      Horizen     Equihash       PoW     7.296538e+06   \n",
       "1247        XBC  BitcoinPlus       Scrypt       PoS     1.283270e+05   \n",
       "\n",
       "     TotalCoinSupply  \n",
       "0                 42  \n",
       "2          532000000  \n",
       "4                  0  \n",
       "5       314159265359  \n",
       "7           21000000  \n",
       "...              ...  \n",
       "1238      2000000000  \n",
       "1242       250000000  \n",
       "1245      1400222610  \n",
       "1246        21000000  \n",
       "1247         1000000  \n",
       "\n",
       "[685 rows x 6 columns]"
      ]
     },
     "execution_count": 56,
     "metadata": {},
     "output_type": "execute_result"
    }
   ],
   "source": [
    "# Removing rows with at least 1 null value\n",
    "data = data.dropna()\n",
    "data"
   ]
  },
  {
   "cell_type": "code",
   "execution_count": 57,
   "id": "1ccf8686",
   "metadata": {},
   "outputs": [
    {
     "data": {
      "text/html": [
       "<div>\n",
       "<style scoped>\n",
       "    .dataframe tbody tr th:only-of-type {\n",
       "        vertical-align: middle;\n",
       "    }\n",
       "\n",
       "    .dataframe tbody tr th {\n",
       "        vertical-align: top;\n",
       "    }\n",
       "\n",
       "    .dataframe thead th {\n",
       "        text-align: right;\n",
       "    }\n",
       "</style>\n",
       "<table border=\"1\" class=\"dataframe\">\n",
       "  <thead>\n",
       "    <tr style=\"text-align: right;\">\n",
       "      <th></th>\n",
       "      <th>Unnamed: 0</th>\n",
       "      <th>CoinName</th>\n",
       "      <th>Algorithm</th>\n",
       "      <th>ProofType</th>\n",
       "      <th>TotalCoinsMined</th>\n",
       "      <th>TotalCoinSupply</th>\n",
       "    </tr>\n",
       "  </thead>\n",
       "  <tbody>\n",
       "    <tr>\n",
       "      <th>0</th>\n",
       "      <td>42</td>\n",
       "      <td>42 Coin</td>\n",
       "      <td>Scrypt</td>\n",
       "      <td>PoW/PoS</td>\n",
       "      <td>4.199995e+01</td>\n",
       "      <td>42</td>\n",
       "    </tr>\n",
       "    <tr>\n",
       "      <th>2</th>\n",
       "      <td>404</td>\n",
       "      <td>404Coin</td>\n",
       "      <td>Scrypt</td>\n",
       "      <td>PoW/PoS</td>\n",
       "      <td>1.055185e+09</td>\n",
       "      <td>532000000</td>\n",
       "    </tr>\n",
       "    <tr>\n",
       "      <th>5</th>\n",
       "      <td>1337</td>\n",
       "      <td>EliteCoin</td>\n",
       "      <td>X13</td>\n",
       "      <td>PoW/PoS</td>\n",
       "      <td>2.927942e+10</td>\n",
       "      <td>314159265359</td>\n",
       "    </tr>\n",
       "    <tr>\n",
       "      <th>7</th>\n",
       "      <td>BTC</td>\n",
       "      <td>Bitcoin</td>\n",
       "      <td>SHA-256</td>\n",
       "      <td>PoW</td>\n",
       "      <td>1.792718e+07</td>\n",
       "      <td>21000000</td>\n",
       "    </tr>\n",
       "    <tr>\n",
       "      <th>8</th>\n",
       "      <td>ETH</td>\n",
       "      <td>Ethereum</td>\n",
       "      <td>Ethash</td>\n",
       "      <td>PoW</td>\n",
       "      <td>1.076842e+08</td>\n",
       "      <td>0</td>\n",
       "    </tr>\n",
       "    <tr>\n",
       "      <th>...</th>\n",
       "      <td>...</td>\n",
       "      <td>...</td>\n",
       "      <td>...</td>\n",
       "      <td>...</td>\n",
       "      <td>...</td>\n",
       "      <td>...</td>\n",
       "    </tr>\n",
       "    <tr>\n",
       "      <th>1238</th>\n",
       "      <td>ZEPH</td>\n",
       "      <td>ZEPHYR</td>\n",
       "      <td>SHA-256</td>\n",
       "      <td>DPoS</td>\n",
       "      <td>2.000000e+09</td>\n",
       "      <td>2000000000</td>\n",
       "    </tr>\n",
       "    <tr>\n",
       "      <th>1242</th>\n",
       "      <td>GAP</td>\n",
       "      <td>Gapcoin</td>\n",
       "      <td>Scrypt</td>\n",
       "      <td>PoW/PoS</td>\n",
       "      <td>1.493105e+07</td>\n",
       "      <td>250000000</td>\n",
       "    </tr>\n",
       "    <tr>\n",
       "      <th>1245</th>\n",
       "      <td>BDX</td>\n",
       "      <td>Beldex</td>\n",
       "      <td>CryptoNight</td>\n",
       "      <td>PoW</td>\n",
       "      <td>9.802226e+08</td>\n",
       "      <td>1400222610</td>\n",
       "    </tr>\n",
       "    <tr>\n",
       "      <th>1246</th>\n",
       "      <td>ZEN</td>\n",
       "      <td>Horizen</td>\n",
       "      <td>Equihash</td>\n",
       "      <td>PoW</td>\n",
       "      <td>7.296538e+06</td>\n",
       "      <td>21000000</td>\n",
       "    </tr>\n",
       "    <tr>\n",
       "      <th>1247</th>\n",
       "      <td>XBC</td>\n",
       "      <td>BitcoinPlus</td>\n",
       "      <td>Scrypt</td>\n",
       "      <td>PoS</td>\n",
       "      <td>1.283270e+05</td>\n",
       "      <td>1000000</td>\n",
       "    </tr>\n",
       "  </tbody>\n",
       "</table>\n",
       "<p>533 rows × 6 columns</p>\n",
       "</div>"
      ],
      "text/plain": [
       "     Unnamed: 0     CoinName    Algorithm ProofType  TotalCoinsMined  \\\n",
       "0            42      42 Coin       Scrypt   PoW/PoS     4.199995e+01   \n",
       "2           404      404Coin       Scrypt   PoW/PoS     1.055185e+09   \n",
       "5          1337    EliteCoin          X13   PoW/PoS     2.927942e+10   \n",
       "7           BTC      Bitcoin      SHA-256       PoW     1.792718e+07   \n",
       "8           ETH     Ethereum       Ethash       PoW     1.076842e+08   \n",
       "...         ...          ...          ...       ...              ...   \n",
       "1238       ZEPH       ZEPHYR      SHA-256      DPoS     2.000000e+09   \n",
       "1242        GAP      Gapcoin       Scrypt   PoW/PoS     1.493105e+07   \n",
       "1245        BDX       Beldex  CryptoNight       PoW     9.802226e+08   \n",
       "1246        ZEN      Horizen     Equihash       PoW     7.296538e+06   \n",
       "1247        XBC  BitcoinPlus       Scrypt       PoS     1.283270e+05   \n",
       "\n",
       "     TotalCoinSupply  \n",
       "0                 42  \n",
       "2          532000000  \n",
       "5       314159265359  \n",
       "7           21000000  \n",
       "8                  0  \n",
       "...              ...  \n",
       "1238      2000000000  \n",
       "1242       250000000  \n",
       "1245      1400222610  \n",
       "1246        21000000  \n",
       "1247         1000000  \n",
       "\n",
       "[533 rows x 6 columns]"
      ]
     },
     "execution_count": 57,
     "metadata": {},
     "output_type": "execute_result"
    }
   ],
   "source": [
    "# Removing rows with cryptocurrencies without coins mined\n",
    "data = data.loc[data['TotalCoinsMined'] != 0]\n",
    "data"
   ]
  },
  {
   "cell_type": "code",
   "execution_count": 58,
   "id": "0f11f350",
   "metadata": {},
   "outputs": [
    {
     "data": {
      "text/html": [
       "<div>\n",
       "<style scoped>\n",
       "    .dataframe tbody tr th:only-of-type {\n",
       "        vertical-align: middle;\n",
       "    }\n",
       "\n",
       "    .dataframe tbody tr th {\n",
       "        vertical-align: top;\n",
       "    }\n",
       "\n",
       "    .dataframe thead th {\n",
       "        text-align: right;\n",
       "    }\n",
       "</style>\n",
       "<table border=\"1\" class=\"dataframe\">\n",
       "  <thead>\n",
       "    <tr style=\"text-align: right;\">\n",
       "      <th></th>\n",
       "      <th>Unnamed: 0</th>\n",
       "      <th>CoinName</th>\n",
       "      <th>Algorithm</th>\n",
       "      <th>ProofType</th>\n",
       "      <th>TotalCoinsMined</th>\n",
       "      <th>TotalCoinSupply</th>\n",
       "    </tr>\n",
       "  </thead>\n",
       "  <tbody>\n",
       "    <tr>\n",
       "      <th>0</th>\n",
       "      <td>42</td>\n",
       "      <td>42 Coin</td>\n",
       "      <td>Scrypt</td>\n",
       "      <td>PoW/PoS</td>\n",
       "      <td>4.199995e+01</td>\n",
       "      <td>42</td>\n",
       "    </tr>\n",
       "    <tr>\n",
       "      <th>2</th>\n",
       "      <td>404</td>\n",
       "      <td>404Coin</td>\n",
       "      <td>Scrypt</td>\n",
       "      <td>PoW/PoS</td>\n",
       "      <td>1.055185e+09</td>\n",
       "      <td>532000000</td>\n",
       "    </tr>\n",
       "    <tr>\n",
       "      <th>5</th>\n",
       "      <td>1337</td>\n",
       "      <td>EliteCoin</td>\n",
       "      <td>X13</td>\n",
       "      <td>PoW/PoS</td>\n",
       "      <td>2.927942e+10</td>\n",
       "      <td>314159265359</td>\n",
       "    </tr>\n",
       "    <tr>\n",
       "      <th>7</th>\n",
       "      <td>BTC</td>\n",
       "      <td>Bitcoin</td>\n",
       "      <td>SHA-256</td>\n",
       "      <td>PoW</td>\n",
       "      <td>1.792718e+07</td>\n",
       "      <td>21000000</td>\n",
       "    </tr>\n",
       "    <tr>\n",
       "      <th>8</th>\n",
       "      <td>ETH</td>\n",
       "      <td>Ethereum</td>\n",
       "      <td>Ethash</td>\n",
       "      <td>PoW</td>\n",
       "      <td>1.076842e+08</td>\n",
       "      <td>0</td>\n",
       "    </tr>\n",
       "    <tr>\n",
       "      <th>...</th>\n",
       "      <td>...</td>\n",
       "      <td>...</td>\n",
       "      <td>...</td>\n",
       "      <td>...</td>\n",
       "      <td>...</td>\n",
       "      <td>...</td>\n",
       "    </tr>\n",
       "    <tr>\n",
       "      <th>1238</th>\n",
       "      <td>ZEPH</td>\n",
       "      <td>ZEPHYR</td>\n",
       "      <td>SHA-256</td>\n",
       "      <td>DPoS</td>\n",
       "      <td>2.000000e+09</td>\n",
       "      <td>2000000000</td>\n",
       "    </tr>\n",
       "    <tr>\n",
       "      <th>1242</th>\n",
       "      <td>GAP</td>\n",
       "      <td>Gapcoin</td>\n",
       "      <td>Scrypt</td>\n",
       "      <td>PoW/PoS</td>\n",
       "      <td>1.493105e+07</td>\n",
       "      <td>250000000</td>\n",
       "    </tr>\n",
       "    <tr>\n",
       "      <th>1245</th>\n",
       "      <td>BDX</td>\n",
       "      <td>Beldex</td>\n",
       "      <td>CryptoNight</td>\n",
       "      <td>PoW</td>\n",
       "      <td>9.802226e+08</td>\n",
       "      <td>1400222610</td>\n",
       "    </tr>\n",
       "    <tr>\n",
       "      <th>1246</th>\n",
       "      <td>ZEN</td>\n",
       "      <td>Horizen</td>\n",
       "      <td>Equihash</td>\n",
       "      <td>PoW</td>\n",
       "      <td>7.296538e+06</td>\n",
       "      <td>21000000</td>\n",
       "    </tr>\n",
       "    <tr>\n",
       "      <th>1247</th>\n",
       "      <td>XBC</td>\n",
       "      <td>BitcoinPlus</td>\n",
       "      <td>Scrypt</td>\n",
       "      <td>PoS</td>\n",
       "      <td>1.283270e+05</td>\n",
       "      <td>1000000</td>\n",
       "    </tr>\n",
       "  </tbody>\n",
       "</table>\n",
       "<p>533 rows × 6 columns</p>\n",
       "</div>"
      ],
      "text/plain": [
       "     Unnamed: 0     CoinName    Algorithm ProofType  TotalCoinsMined  \\\n",
       "0            42      42 Coin       Scrypt   PoW/PoS     4.199995e+01   \n",
       "2           404      404Coin       Scrypt   PoW/PoS     1.055185e+09   \n",
       "5          1337    EliteCoin          X13   PoW/PoS     2.927942e+10   \n",
       "7           BTC      Bitcoin      SHA-256       PoW     1.792718e+07   \n",
       "8           ETH     Ethereum       Ethash       PoW     1.076842e+08   \n",
       "...         ...          ...          ...       ...              ...   \n",
       "1238       ZEPH       ZEPHYR      SHA-256      DPoS     2.000000e+09   \n",
       "1242        GAP      Gapcoin       Scrypt   PoW/PoS     1.493105e+07   \n",
       "1245        BDX       Beldex  CryptoNight       PoW     9.802226e+08   \n",
       "1246        ZEN      Horizen     Equihash       PoW     7.296538e+06   \n",
       "1247        XBC  BitcoinPlus       Scrypt       PoS     1.283270e+05   \n",
       "\n",
       "     TotalCoinSupply  \n",
       "0                 42  \n",
       "2          532000000  \n",
       "5       314159265359  \n",
       "7           21000000  \n",
       "8                  0  \n",
       "...              ...  \n",
       "1238      2000000000  \n",
       "1242       250000000  \n",
       "1245      1400222610  \n",
       "1246        21000000  \n",
       "1247         1000000  \n",
       "\n",
       "[533 rows x 6 columns]"
      ]
     },
     "execution_count": 58,
     "metadata": {},
     "output_type": "execute_result"
    }
   ],
   "source": [
    "# Dropping rows where there are 'N/A' text values\n",
    "data = data.loc[data['TotalCoinSupply'] != 'N/A']\n",
    "data = data.loc[data['ProofType'] != 'N/A']\n",
    "data"
   ]
  },
  {
   "cell_type": "code",
   "execution_count": 59,
   "id": "0e25d53f",
   "metadata": {},
   "outputs": [
    {
     "data": {
      "text/html": [
       "<div>\n",
       "<style scoped>\n",
       "    .dataframe tbody tr th:only-of-type {\n",
       "        vertical-align: middle;\n",
       "    }\n",
       "\n",
       "    .dataframe tbody tr th {\n",
       "        vertical-align: top;\n",
       "    }\n",
       "\n",
       "    .dataframe thead th {\n",
       "        text-align: right;\n",
       "    }\n",
       "</style>\n",
       "<table border=\"1\" class=\"dataframe\">\n",
       "  <thead>\n",
       "    <tr style=\"text-align: right;\">\n",
       "      <th></th>\n",
       "      <th>Unnamed: 0</th>\n",
       "      <th>CoinName</th>\n",
       "      <th>Algorithm</th>\n",
       "      <th>ProofType</th>\n",
       "      <th>TotalCoinsMined</th>\n",
       "      <th>TotalCoinSupply</th>\n",
       "    </tr>\n",
       "  </thead>\n",
       "  <tbody>\n",
       "    <tr>\n",
       "      <th>0</th>\n",
       "      <td>42</td>\n",
       "      <td>42 Coin</td>\n",
       "      <td>Scrypt</td>\n",
       "      <td>PoW/PoS</td>\n",
       "      <td>4.199995e+01</td>\n",
       "      <td>42</td>\n",
       "    </tr>\n",
       "    <tr>\n",
       "      <th>2</th>\n",
       "      <td>404</td>\n",
       "      <td>404Coin</td>\n",
       "      <td>Scrypt</td>\n",
       "      <td>PoW/PoS</td>\n",
       "      <td>1.055185e+09</td>\n",
       "      <td>532000000</td>\n",
       "    </tr>\n",
       "    <tr>\n",
       "      <th>5</th>\n",
       "      <td>1337</td>\n",
       "      <td>EliteCoin</td>\n",
       "      <td>X13</td>\n",
       "      <td>PoW/PoS</td>\n",
       "      <td>2.927942e+10</td>\n",
       "      <td>314159265359</td>\n",
       "    </tr>\n",
       "    <tr>\n",
       "      <th>7</th>\n",
       "      <td>BTC</td>\n",
       "      <td>Bitcoin</td>\n",
       "      <td>SHA-256</td>\n",
       "      <td>PoW</td>\n",
       "      <td>1.792718e+07</td>\n",
       "      <td>21000000</td>\n",
       "    </tr>\n",
       "    <tr>\n",
       "      <th>8</th>\n",
       "      <td>ETH</td>\n",
       "      <td>Ethereum</td>\n",
       "      <td>Ethash</td>\n",
       "      <td>PoW</td>\n",
       "      <td>1.076842e+08</td>\n",
       "      <td>0</td>\n",
       "    </tr>\n",
       "    <tr>\n",
       "      <th>...</th>\n",
       "      <td>...</td>\n",
       "      <td>...</td>\n",
       "      <td>...</td>\n",
       "      <td>...</td>\n",
       "      <td>...</td>\n",
       "      <td>...</td>\n",
       "    </tr>\n",
       "    <tr>\n",
       "      <th>1238</th>\n",
       "      <td>ZEPH</td>\n",
       "      <td>ZEPHYR</td>\n",
       "      <td>SHA-256</td>\n",
       "      <td>DPoS</td>\n",
       "      <td>2.000000e+09</td>\n",
       "      <td>2000000000</td>\n",
       "    </tr>\n",
       "    <tr>\n",
       "      <th>1242</th>\n",
       "      <td>GAP</td>\n",
       "      <td>Gapcoin</td>\n",
       "      <td>Scrypt</td>\n",
       "      <td>PoW/PoS</td>\n",
       "      <td>1.493105e+07</td>\n",
       "      <td>250000000</td>\n",
       "    </tr>\n",
       "    <tr>\n",
       "      <th>1245</th>\n",
       "      <td>BDX</td>\n",
       "      <td>Beldex</td>\n",
       "      <td>CryptoNight</td>\n",
       "      <td>PoW</td>\n",
       "      <td>9.802226e+08</td>\n",
       "      <td>1400222610</td>\n",
       "    </tr>\n",
       "    <tr>\n",
       "      <th>1246</th>\n",
       "      <td>ZEN</td>\n",
       "      <td>Horizen</td>\n",
       "      <td>Equihash</td>\n",
       "      <td>PoW</td>\n",
       "      <td>7.296538e+06</td>\n",
       "      <td>21000000</td>\n",
       "    </tr>\n",
       "    <tr>\n",
       "      <th>1247</th>\n",
       "      <td>XBC</td>\n",
       "      <td>BitcoinPlus</td>\n",
       "      <td>Scrypt</td>\n",
       "      <td>PoS</td>\n",
       "      <td>1.283270e+05</td>\n",
       "      <td>1000000</td>\n",
       "    </tr>\n",
       "  </tbody>\n",
       "</table>\n",
       "<p>533 rows × 6 columns</p>\n",
       "</div>"
      ],
      "text/plain": [
       "     Unnamed: 0     CoinName    Algorithm ProofType  TotalCoinsMined  \\\n",
       "0            42      42 Coin       Scrypt   PoW/PoS     4.199995e+01   \n",
       "2           404      404Coin       Scrypt   PoW/PoS     1.055185e+09   \n",
       "5          1337    EliteCoin          X13   PoW/PoS     2.927942e+10   \n",
       "7           BTC      Bitcoin      SHA-256       PoW     1.792718e+07   \n",
       "8           ETH     Ethereum       Ethash       PoW     1.076842e+08   \n",
       "...         ...          ...          ...       ...              ...   \n",
       "1238       ZEPH       ZEPHYR      SHA-256      DPoS     2.000000e+09   \n",
       "1242        GAP      Gapcoin       Scrypt   PoW/PoS     1.493105e+07   \n",
       "1245        BDX       Beldex  CryptoNight       PoW     9.802226e+08   \n",
       "1246        ZEN      Horizen     Equihash       PoW     7.296538e+06   \n",
       "1247        XBC  BitcoinPlus       Scrypt       PoS     1.283270e+05   \n",
       "\n",
       "     TotalCoinSupply  \n",
       "0                 42  \n",
       "2          532000000  \n",
       "5       314159265359  \n",
       "7           21000000  \n",
       "8                  0  \n",
       "...              ...  \n",
       "1238      2000000000  \n",
       "1242       250000000  \n",
       "1245      1400222610  \n",
       "1246        21000000  \n",
       "1247         1000000  \n",
       "\n",
       "[533 rows x 6 columns]"
      ]
     },
     "execution_count": 59,
     "metadata": {},
     "output_type": "execute_result"
    }
   ],
   "source": [
    "# Fetching the cryptocurrencies names prior to drop them from crypto_df\n",
    "names = data\n",
    "names"
   ]
  },
  {
   "cell_type": "code",
   "execution_count": 60,
   "id": "461beb5f",
   "metadata": {},
   "outputs": [],
   "source": [
    "# Removig the cryptocurrency name since it's not going to be used on the clustering algorithm\n",
    "data = data.drop(columns='CoinName')\n"
   ]
  },
  {
   "cell_type": "code",
   "execution_count": 61,
   "id": "97df9f1a",
   "metadata": {},
   "outputs": [
    {
     "data": {
      "text/plain": [
       "Algorithm           object\n",
       "ProofType           object\n",
       "TotalCoinsMined    float64\n",
       "TotalCoinSupply     object\n",
       "dtype: object"
      ]
     },
     "execution_count": 61,
     "metadata": {},
     "output_type": "execute_result"
    }
   ],
   "source": [
    "data = data.drop(columns = 'Unnamed: 0')\n",
    "data.dtypes"
   ]
  },
  {
   "cell_type": "code",
   "execution_count": 62,
   "id": "98e9f01a",
   "metadata": {},
   "outputs": [
    {
     "data": {
      "text/plain": [
       "Algorithm           object\n",
       "ProofType           object\n",
       "TotalCoinsMined    float64\n",
       "TotalCoinSupply    float64\n",
       "dtype: object"
      ]
     },
     "execution_count": 62,
     "metadata": {},
     "output_type": "execute_result"
    }
   ],
   "source": [
    "# Converting object into float for variable 'TotalCoinSupply'\n",
    "data['TotalCoinSupply'] = data.TotalCoinSupply.astype(float)\n",
    "data.dtypes"
   ]
  },
  {
   "cell_type": "code",
   "execution_count": 63,
   "id": "da2e4b56",
   "metadata": {},
   "outputs": [
    {
     "data": {
      "text/html": [
       "<div>\n",
       "<style scoped>\n",
       "    .dataframe tbody tr th:only-of-type {\n",
       "        vertical-align: middle;\n",
       "    }\n",
       "\n",
       "    .dataframe tbody tr th {\n",
       "        vertical-align: top;\n",
       "    }\n",
       "\n",
       "    .dataframe thead th {\n",
       "        text-align: right;\n",
       "    }\n",
       "</style>\n",
       "<table border=\"1\" class=\"dataframe\">\n",
       "  <thead>\n",
       "    <tr style=\"text-align: right;\">\n",
       "      <th></th>\n",
       "      <th>TotalCoinsMined</th>\n",
       "      <th>TotalCoinSupply</th>\n",
       "      <th>Algorithm_1GB AES Pattern Search</th>\n",
       "      <th>Algorithm_536</th>\n",
       "      <th>Algorithm_Argon2d</th>\n",
       "      <th>Algorithm_BLAKE256</th>\n",
       "      <th>Algorithm_Blake</th>\n",
       "      <th>Algorithm_Blake2S</th>\n",
       "      <th>Algorithm_Blake2b</th>\n",
       "      <th>Algorithm_C11</th>\n",
       "      <th>...</th>\n",
       "      <th>ProofType_PoW/PoS</th>\n",
       "      <th>ProofType_PoW/PoS</th>\n",
       "      <th>ProofType_PoW/PoW</th>\n",
       "      <th>ProofType_PoW/nPoS</th>\n",
       "      <th>ProofType_Pos</th>\n",
       "      <th>ProofType_Proof of Authority</th>\n",
       "      <th>ProofType_Proof of Trust</th>\n",
       "      <th>ProofType_TPoS</th>\n",
       "      <th>ProofType_Zero-Knowledge Proof</th>\n",
       "      <th>ProofType_dPoW/PoW</th>\n",
       "    </tr>\n",
       "  </thead>\n",
       "  <tbody>\n",
       "    <tr>\n",
       "      <th>0</th>\n",
       "      <td>4.199995e+01</td>\n",
       "      <td>4.200000e+01</td>\n",
       "      <td>0</td>\n",
       "      <td>0</td>\n",
       "      <td>0</td>\n",
       "      <td>0</td>\n",
       "      <td>0</td>\n",
       "      <td>0</td>\n",
       "      <td>0</td>\n",
       "      <td>0</td>\n",
       "      <td>...</td>\n",
       "      <td>1</td>\n",
       "      <td>0</td>\n",
       "      <td>0</td>\n",
       "      <td>0</td>\n",
       "      <td>0</td>\n",
       "      <td>0</td>\n",
       "      <td>0</td>\n",
       "      <td>0</td>\n",
       "      <td>0</td>\n",
       "      <td>0</td>\n",
       "    </tr>\n",
       "    <tr>\n",
       "      <th>2</th>\n",
       "      <td>1.055185e+09</td>\n",
       "      <td>5.320000e+08</td>\n",
       "      <td>0</td>\n",
       "      <td>0</td>\n",
       "      <td>0</td>\n",
       "      <td>0</td>\n",
       "      <td>0</td>\n",
       "      <td>0</td>\n",
       "      <td>0</td>\n",
       "      <td>0</td>\n",
       "      <td>...</td>\n",
       "      <td>1</td>\n",
       "      <td>0</td>\n",
       "      <td>0</td>\n",
       "      <td>0</td>\n",
       "      <td>0</td>\n",
       "      <td>0</td>\n",
       "      <td>0</td>\n",
       "      <td>0</td>\n",
       "      <td>0</td>\n",
       "      <td>0</td>\n",
       "    </tr>\n",
       "    <tr>\n",
       "      <th>5</th>\n",
       "      <td>2.927942e+10</td>\n",
       "      <td>3.141593e+11</td>\n",
       "      <td>0</td>\n",
       "      <td>0</td>\n",
       "      <td>0</td>\n",
       "      <td>0</td>\n",
       "      <td>0</td>\n",
       "      <td>0</td>\n",
       "      <td>0</td>\n",
       "      <td>0</td>\n",
       "      <td>...</td>\n",
       "      <td>1</td>\n",
       "      <td>0</td>\n",
       "      <td>0</td>\n",
       "      <td>0</td>\n",
       "      <td>0</td>\n",
       "      <td>0</td>\n",
       "      <td>0</td>\n",
       "      <td>0</td>\n",
       "      <td>0</td>\n",
       "      <td>0</td>\n",
       "    </tr>\n",
       "    <tr>\n",
       "      <th>7</th>\n",
       "      <td>1.792718e+07</td>\n",
       "      <td>2.100000e+07</td>\n",
       "      <td>0</td>\n",
       "      <td>0</td>\n",
       "      <td>0</td>\n",
       "      <td>0</td>\n",
       "      <td>0</td>\n",
       "      <td>0</td>\n",
       "      <td>0</td>\n",
       "      <td>0</td>\n",
       "      <td>...</td>\n",
       "      <td>0</td>\n",
       "      <td>0</td>\n",
       "      <td>0</td>\n",
       "      <td>0</td>\n",
       "      <td>0</td>\n",
       "      <td>0</td>\n",
       "      <td>0</td>\n",
       "      <td>0</td>\n",
       "      <td>0</td>\n",
       "      <td>0</td>\n",
       "    </tr>\n",
       "    <tr>\n",
       "      <th>8</th>\n",
       "      <td>1.076842e+08</td>\n",
       "      <td>0.000000e+00</td>\n",
       "      <td>0</td>\n",
       "      <td>0</td>\n",
       "      <td>0</td>\n",
       "      <td>0</td>\n",
       "      <td>0</td>\n",
       "      <td>0</td>\n",
       "      <td>0</td>\n",
       "      <td>0</td>\n",
       "      <td>...</td>\n",
       "      <td>0</td>\n",
       "      <td>0</td>\n",
       "      <td>0</td>\n",
       "      <td>0</td>\n",
       "      <td>0</td>\n",
       "      <td>0</td>\n",
       "      <td>0</td>\n",
       "      <td>0</td>\n",
       "      <td>0</td>\n",
       "      <td>0</td>\n",
       "    </tr>\n",
       "    <tr>\n",
       "      <th>...</th>\n",
       "      <td>...</td>\n",
       "      <td>...</td>\n",
       "      <td>...</td>\n",
       "      <td>...</td>\n",
       "      <td>...</td>\n",
       "      <td>...</td>\n",
       "      <td>...</td>\n",
       "      <td>...</td>\n",
       "      <td>...</td>\n",
       "      <td>...</td>\n",
       "      <td>...</td>\n",
       "      <td>...</td>\n",
       "      <td>...</td>\n",
       "      <td>...</td>\n",
       "      <td>...</td>\n",
       "      <td>...</td>\n",
       "      <td>...</td>\n",
       "      <td>...</td>\n",
       "      <td>...</td>\n",
       "      <td>...</td>\n",
       "      <td>...</td>\n",
       "    </tr>\n",
       "    <tr>\n",
       "      <th>1238</th>\n",
       "      <td>2.000000e+09</td>\n",
       "      <td>2.000000e+09</td>\n",
       "      <td>0</td>\n",
       "      <td>0</td>\n",
       "      <td>0</td>\n",
       "      <td>0</td>\n",
       "      <td>0</td>\n",
       "      <td>0</td>\n",
       "      <td>0</td>\n",
       "      <td>0</td>\n",
       "      <td>...</td>\n",
       "      <td>0</td>\n",
       "      <td>0</td>\n",
       "      <td>0</td>\n",
       "      <td>0</td>\n",
       "      <td>0</td>\n",
       "      <td>0</td>\n",
       "      <td>0</td>\n",
       "      <td>0</td>\n",
       "      <td>0</td>\n",
       "      <td>0</td>\n",
       "    </tr>\n",
       "    <tr>\n",
       "      <th>1242</th>\n",
       "      <td>1.493105e+07</td>\n",
       "      <td>2.500000e+08</td>\n",
       "      <td>0</td>\n",
       "      <td>0</td>\n",
       "      <td>0</td>\n",
       "      <td>0</td>\n",
       "      <td>0</td>\n",
       "      <td>0</td>\n",
       "      <td>0</td>\n",
       "      <td>0</td>\n",
       "      <td>...</td>\n",
       "      <td>1</td>\n",
       "      <td>0</td>\n",
       "      <td>0</td>\n",
       "      <td>0</td>\n",
       "      <td>0</td>\n",
       "      <td>0</td>\n",
       "      <td>0</td>\n",
       "      <td>0</td>\n",
       "      <td>0</td>\n",
       "      <td>0</td>\n",
       "    </tr>\n",
       "    <tr>\n",
       "      <th>1245</th>\n",
       "      <td>9.802226e+08</td>\n",
       "      <td>1.400223e+09</td>\n",
       "      <td>0</td>\n",
       "      <td>0</td>\n",
       "      <td>0</td>\n",
       "      <td>0</td>\n",
       "      <td>0</td>\n",
       "      <td>0</td>\n",
       "      <td>0</td>\n",
       "      <td>0</td>\n",
       "      <td>...</td>\n",
       "      <td>0</td>\n",
       "      <td>0</td>\n",
       "      <td>0</td>\n",
       "      <td>0</td>\n",
       "      <td>0</td>\n",
       "      <td>0</td>\n",
       "      <td>0</td>\n",
       "      <td>0</td>\n",
       "      <td>0</td>\n",
       "      <td>0</td>\n",
       "    </tr>\n",
       "    <tr>\n",
       "      <th>1246</th>\n",
       "      <td>7.296538e+06</td>\n",
       "      <td>2.100000e+07</td>\n",
       "      <td>0</td>\n",
       "      <td>0</td>\n",
       "      <td>0</td>\n",
       "      <td>0</td>\n",
       "      <td>0</td>\n",
       "      <td>0</td>\n",
       "      <td>0</td>\n",
       "      <td>0</td>\n",
       "      <td>...</td>\n",
       "      <td>0</td>\n",
       "      <td>0</td>\n",
       "      <td>0</td>\n",
       "      <td>0</td>\n",
       "      <td>0</td>\n",
       "      <td>0</td>\n",
       "      <td>0</td>\n",
       "      <td>0</td>\n",
       "      <td>0</td>\n",
       "      <td>0</td>\n",
       "    </tr>\n",
       "    <tr>\n",
       "      <th>1247</th>\n",
       "      <td>1.283270e+05</td>\n",
       "      <td>1.000000e+06</td>\n",
       "      <td>0</td>\n",
       "      <td>0</td>\n",
       "      <td>0</td>\n",
       "      <td>0</td>\n",
       "      <td>0</td>\n",
       "      <td>0</td>\n",
       "      <td>0</td>\n",
       "      <td>0</td>\n",
       "      <td>...</td>\n",
       "      <td>0</td>\n",
       "      <td>0</td>\n",
       "      <td>0</td>\n",
       "      <td>0</td>\n",
       "      <td>0</td>\n",
       "      <td>0</td>\n",
       "      <td>0</td>\n",
       "      <td>0</td>\n",
       "      <td>0</td>\n",
       "      <td>0</td>\n",
       "    </tr>\n",
       "  </tbody>\n",
       "</table>\n",
       "<p>533 rows × 100 columns</p>\n",
       "</div>"
      ],
      "text/plain": [
       "      TotalCoinsMined  TotalCoinSupply  Algorithm_1GB AES Pattern Search  \\\n",
       "0        4.199995e+01     4.200000e+01                                 0   \n",
       "2        1.055185e+09     5.320000e+08                                 0   \n",
       "5        2.927942e+10     3.141593e+11                                 0   \n",
       "7        1.792718e+07     2.100000e+07                                 0   \n",
       "8        1.076842e+08     0.000000e+00                                 0   \n",
       "...               ...              ...                               ...   \n",
       "1238     2.000000e+09     2.000000e+09                                 0   \n",
       "1242     1.493105e+07     2.500000e+08                                 0   \n",
       "1245     9.802226e+08     1.400223e+09                                 0   \n",
       "1246     7.296538e+06     2.100000e+07                                 0   \n",
       "1247     1.283270e+05     1.000000e+06                                 0   \n",
       "\n",
       "      Algorithm_536  Algorithm_Argon2d  Algorithm_BLAKE256  Algorithm_Blake  \\\n",
       "0                 0                  0                   0                0   \n",
       "2                 0                  0                   0                0   \n",
       "5                 0                  0                   0                0   \n",
       "7                 0                  0                   0                0   \n",
       "8                 0                  0                   0                0   \n",
       "...             ...                ...                 ...              ...   \n",
       "1238              0                  0                   0                0   \n",
       "1242              0                  0                   0                0   \n",
       "1245              0                  0                   0                0   \n",
       "1246              0                  0                   0                0   \n",
       "1247              0                  0                   0                0   \n",
       "\n",
       "      Algorithm_Blake2S  Algorithm_Blake2b  Algorithm_C11  ...  \\\n",
       "0                     0                  0              0  ...   \n",
       "2                     0                  0              0  ...   \n",
       "5                     0                  0              0  ...   \n",
       "7                     0                  0              0  ...   \n",
       "8                     0                  0              0  ...   \n",
       "...                 ...                ...            ...  ...   \n",
       "1238                  0                  0              0  ...   \n",
       "1242                  0                  0              0  ...   \n",
       "1245                  0                  0              0  ...   \n",
       "1246                  0                  0              0  ...   \n",
       "1247                  0                  0              0  ...   \n",
       "\n",
       "      ProofType_PoW/PoS  ProofType_PoW/PoS   ProofType_PoW/PoW  \\\n",
       "0                     1                   0                  0   \n",
       "2                     1                   0                  0   \n",
       "5                     1                   0                  0   \n",
       "7                     0                   0                  0   \n",
       "8                     0                   0                  0   \n",
       "...                 ...                 ...                ...   \n",
       "1238                  0                   0                  0   \n",
       "1242                  1                   0                  0   \n",
       "1245                  0                   0                  0   \n",
       "1246                  0                   0                  0   \n",
       "1247                  0                   0                  0   \n",
       "\n",
       "      ProofType_PoW/nPoS  ProofType_Pos  ProofType_Proof of Authority  \\\n",
       "0                      0              0                             0   \n",
       "2                      0              0                             0   \n",
       "5                      0              0                             0   \n",
       "7                      0              0                             0   \n",
       "8                      0              0                             0   \n",
       "...                  ...            ...                           ...   \n",
       "1238                   0              0                             0   \n",
       "1242                   0              0                             0   \n",
       "1245                   0              0                             0   \n",
       "1246                   0              0                             0   \n",
       "1247                   0              0                             0   \n",
       "\n",
       "      ProofType_Proof of Trust  ProofType_TPoS  \\\n",
       "0                            0               0   \n",
       "2                            0               0   \n",
       "5                            0               0   \n",
       "7                            0               0   \n",
       "8                            0               0   \n",
       "...                        ...             ...   \n",
       "1238                         0               0   \n",
       "1242                         0               0   \n",
       "1245                         0               0   \n",
       "1246                         0               0   \n",
       "1247                         0               0   \n",
       "\n",
       "      ProofType_Zero-Knowledge Proof  ProofType_dPoW/PoW  \n",
       "0                                  0                   0  \n",
       "2                                  0                   0  \n",
       "5                                  0                   0  \n",
       "7                                  0                   0  \n",
       "8                                  0                   0  \n",
       "...                              ...                 ...  \n",
       "1238                               0                   0  \n",
       "1242                               0                   0  \n",
       "1245                               0                   0  \n",
       "1246                               0                   0  \n",
       "1247                               0                   0  \n",
       "\n",
       "[533 rows x 100 columns]"
      ]
     },
     "execution_count": 63,
     "metadata": {},
     "output_type": "execute_result"
    }
   ],
   "source": [
    "# Creating dummies variables for text features\n",
    "data_encoded = pd.get_dummies(data=data, columns=['Algorithm', 'ProofType'])\n",
    "data_encoded\n"
   ]
  },
  {
   "cell_type": "code",
   "execution_count": 64,
   "id": "403dde5c",
   "metadata": {},
   "outputs": [
    {
     "data": {
      "text/plain": [
       "array([[-0.11674788, -0.15286468, -0.0433555 , ..., -0.0433555 ,\n",
       "        -0.0433555 , -0.0433555 ],\n",
       "       [-0.09358885, -0.14499604, -0.0433555 , ..., -0.0433555 ,\n",
       "        -0.0433555 , -0.0433555 ],\n",
       "       [ 0.52587231,  4.4937636 , -0.0433555 , ..., -0.0433555 ,\n",
       "        -0.0433555 , -0.0433555 ],\n",
       "       ...,\n",
       "       [-0.09523411, -0.13215444, -0.0433555 , ..., -0.0433555 ,\n",
       "        -0.0433555 , -0.0433555 ],\n",
       "       [-0.11658774, -0.15255408, -0.0433555 , ..., -0.0433555 ,\n",
       "        -0.0433555 , -0.0433555 ],\n",
       "       [-0.11674507, -0.15284989, -0.0433555 , ..., -0.0433555 ,\n",
       "        -0.0433555 , -0.0433555 ]])"
      ]
     },
     "execution_count": 64,
     "metadata": {},
     "output_type": "execute_result"
    }
   ],
   "source": [
    "# Standardizing data\n",
    "data_scaled = StandardScaler().fit_transform(data_encoded)\n",
    "data_scaled"
   ]
  },
  {
   "cell_type": "markdown",
   "id": "e36ec177",
   "metadata": {},
   "source": [
    "# Reducing Dimensions using PCA"
   ]
  },
  {
   "cell_type": "code",
   "execution_count": 65,
   "id": "0e5c6b2e",
   "metadata": {},
   "outputs": [],
   "source": [
    "# Using PCA to reduce dimension to 3 principal components\n",
    "pca = PCA(n_components=3)\n",
    "data_pca = pca.fit_transform(data_scaled)\n"
   ]
  },
  {
   "cell_type": "code",
   "execution_count": 67,
   "id": "6e85a18a",
   "metadata": {},
   "outputs": [
    {
     "data": {
      "text/html": [
       "<div>\n",
       "<style scoped>\n",
       "    .dataframe tbody tr th:only-of-type {\n",
       "        vertical-align: middle;\n",
       "    }\n",
       "\n",
       "    .dataframe tbody tr th {\n",
       "        vertical-align: top;\n",
       "    }\n",
       "\n",
       "    .dataframe thead th {\n",
       "        text-align: right;\n",
       "    }\n",
       "</style>\n",
       "<table border=\"1\" class=\"dataframe\">\n",
       "  <thead>\n",
       "    <tr style=\"text-align: right;\">\n",
       "      <th></th>\n",
       "      <th>PC 1</th>\n",
       "      <th>PC 2</th>\n",
       "      <th>PC 3</th>\n",
       "    </tr>\n",
       "  </thead>\n",
       "  <tbody>\n",
       "    <tr>\n",
       "      <th>0</th>\n",
       "      <td>-0.333737</td>\n",
       "      <td>1.038301</td>\n",
       "      <td>-0.629842</td>\n",
       "    </tr>\n",
       "    <tr>\n",
       "      <th>2</th>\n",
       "      <td>-0.317070</td>\n",
       "      <td>1.038309</td>\n",
       "      <td>-0.630281</td>\n",
       "    </tr>\n",
       "    <tr>\n",
       "      <th>5</th>\n",
       "      <td>2.311407</td>\n",
       "      <td>1.609799</td>\n",
       "      <td>-0.751901</td>\n",
       "    </tr>\n",
       "    <tr>\n",
       "      <th>7</th>\n",
       "      <td>-0.151683</td>\n",
       "      <td>-1.346995</td>\n",
       "      <td>0.215709</td>\n",
       "    </tr>\n",
       "    <tr>\n",
       "      <th>8</th>\n",
       "      <td>-0.141797</td>\n",
       "      <td>-2.023795</td>\n",
       "      <td>0.390169</td>\n",
       "    </tr>\n",
       "    <tr>\n",
       "      <th>...</th>\n",
       "      <td>...</td>\n",
       "      <td>...</td>\n",
       "      <td>...</td>\n",
       "    </tr>\n",
       "    <tr>\n",
       "      <th>1238</th>\n",
       "      <td>2.471022</td>\n",
       "      <td>0.891791</td>\n",
       "      <td>-0.114621</td>\n",
       "    </tr>\n",
       "    <tr>\n",
       "      <th>1242</th>\n",
       "      <td>-0.331781</td>\n",
       "      <td>1.038168</td>\n",
       "      <td>-0.629862</td>\n",
       "    </tr>\n",
       "    <tr>\n",
       "      <th>1245</th>\n",
       "      <td>0.330810</td>\n",
       "      <td>-2.315294</td>\n",
       "      <td>0.459607</td>\n",
       "    </tr>\n",
       "    <tr>\n",
       "      <th>1246</th>\n",
       "      <td>-0.128743</td>\n",
       "      <td>-2.033890</td>\n",
       "      <td>0.388326</td>\n",
       "    </tr>\n",
       "    <tr>\n",
       "      <th>1247</th>\n",
       "      <td>-0.295629</td>\n",
       "      <td>0.814138</td>\n",
       "      <td>-0.243702</td>\n",
       "    </tr>\n",
       "  </tbody>\n",
       "</table>\n",
       "<p>533 rows × 3 columns</p>\n",
       "</div>"
      ],
      "text/plain": [
       "          PC 1      PC 2      PC 3\n",
       "0    -0.333737  1.038301 -0.629842\n",
       "2    -0.317070  1.038309 -0.630281\n",
       "5     2.311407  1.609799 -0.751901\n",
       "7    -0.151683 -1.346995  0.215709\n",
       "8    -0.141797 -2.023795  0.390169\n",
       "...        ...       ...       ...\n",
       "1238  2.471022  0.891791 -0.114621\n",
       "1242 -0.331781  1.038168 -0.629862\n",
       "1245  0.330810 -2.315294  0.459607\n",
       "1246 -0.128743 -2.033890  0.388326\n",
       "1247 -0.295629  0.814138 -0.243702\n",
       "\n",
       "[533 rows x 3 columns]"
      ]
     },
     "execution_count": 67,
     "metadata": {},
     "output_type": "execute_result"
    }
   ],
   "source": [
    "# Creating a DataFrame with the principal components data\n",
    "pca_df = pd.DataFrame(\n",
    "    data=data_pca, columns=[\"PC 1\", \"PC 2\", \"PC 3\"], index=data.index\n",
    ")\n",
    "pca_df"
   ]
  },
  {
   "cell_type": "markdown",
   "id": "cc08de9a",
   "metadata": {},
   "source": [
    "# Clustering Crytocurrencies Using K-Means"
   ]
  },
  {
   "cell_type": "code",
   "execution_count": 73,
   "id": "6df4da35",
   "metadata": {},
   "outputs": [
    {
     "name": "stderr",
     "output_type": "stream",
     "text": [
      "C:\\Users\\tsube\\anaconda3\\lib\\site-packages\\sklearn\\cluster\\_kmeans.py:881: UserWarning: KMeans is known to have a memory leak on Windows with MKL, when there are less chunks than available threads. You can avoid it by setting the environment variable OMP_NUM_THREADS=3.\n",
      "  warnings.warn(\n"
     ]
    },
    {
     "data": {
      "image/png": "[encoded data removed]",
      "text/plain": [
       "<Figure size 432x288 with 1 Axes>"
      ]
     },
     "metadata": {
      "needs_background": "light"
     },
     "output_type": "display_data"
    }
   ],
   "source": [
    "# Finding the best value for k using Elbow curve\n",
    "\n",
    "inertia = []\n",
    "k = list(range(1, 11))\n",
    "\n",
    "# Looking for the best k\n",
    "for i in k:\n",
    "    km = KMeans(n_clusters=i, random_state=0)\n",
    "    km.fit(pca_df)\n",
    "    inertia.append(km.inertia_)\n",
    "\n",
    "# Define a DataFrame to plot the Elbow Curve using hvPlot\n",
    "elbow_data = {\"k\": k, \"inertia\": inertia}\n",
    "df_elbow = pd.DataFrame(elbow_data)\n",
    "\n",
    "plt.plot(df_elbow['k'], df_elbow['inertia'])\n",
    "plt.xticks=(range(1, 11))\n",
    "plt.title=\"Elbow Visualization\"\n",
    "plt.xlabel=\"Number of Clusters\"\n",
    "plt.ylabel=\"Inertia\"\n",
    "plt.show()\n"
   ]
  },
  {
   "cell_type": "markdown",
   "id": "7f8bc282",
   "metadata": {},
   "source": [
    "# Running K-Means with k = 5"
   ]
  },
  {
   "cell_type": "code",
   "execution_count": 105,
   "id": "94ca7433",
   "metadata": {},
   "outputs": [
    {
     "data": {
      "text/html": [
       "<div>\n",
       "<style scoped>\n",
       "    .dataframe tbody tr th:only-of-type {\n",
       "        vertical-align: middle;\n",
       "    }\n",
       "\n",
       "    .dataframe tbody tr th {\n",
       "        vertical-align: top;\n",
       "    }\n",
       "\n",
       "    .dataframe thead th {\n",
       "        text-align: right;\n",
       "    }\n",
       "</style>\n",
       "<table border=\"1\" class=\"dataframe\">\n",
       "  <thead>\n",
       "    <tr style=\"text-align: right;\">\n",
       "      <th></th>\n",
       "      <th>Algorithm</th>\n",
       "      <th>ProofType</th>\n",
       "      <th>TotalCoinsMined</th>\n",
       "      <th>TotalCoinSupply</th>\n",
       "      <th>PC 1</th>\n",
       "      <th>PC 2</th>\n",
       "      <th>PC 3</th>\n",
       "      <th>Class</th>\n",
       "      <th>Predictions</th>\n",
       "    </tr>\n",
       "  </thead>\n",
       "  <tbody>\n",
       "    <tr>\n",
       "      <th>0</th>\n",
       "      <td>Scrypt</td>\n",
       "      <td>PoW/PoS</td>\n",
       "      <td>4.199995e+01</td>\n",
       "      <td>4.200000e+01</td>\n",
       "      <td>-0.333737</td>\n",
       "      <td>1.038301</td>\n",
       "      <td>-0.629842</td>\n",
       "      <td>0</td>\n",
       "      <td>0</td>\n",
       "    </tr>\n",
       "    <tr>\n",
       "      <th>2</th>\n",
       "      <td>Scrypt</td>\n",
       "      <td>PoW/PoS</td>\n",
       "      <td>1.055185e+09</td>\n",
       "      <td>5.320000e+08</td>\n",
       "      <td>-0.317070</td>\n",
       "      <td>1.038309</td>\n",
       "      <td>-0.630281</td>\n",
       "      <td>0</td>\n",
       "      <td>0</td>\n",
       "    </tr>\n",
       "    <tr>\n",
       "      <th>5</th>\n",
       "      <td>X13</td>\n",
       "      <td>PoW/PoS</td>\n",
       "      <td>2.927942e+10</td>\n",
       "      <td>3.141593e+11</td>\n",
       "      <td>2.311407</td>\n",
       "      <td>1.609799</td>\n",
       "      <td>-0.751901</td>\n",
       "      <td>3</td>\n",
       "      <td>3</td>\n",
       "    </tr>\n",
       "    <tr>\n",
       "      <th>7</th>\n",
       "      <td>SHA-256</td>\n",
       "      <td>PoW</td>\n",
       "      <td>1.792718e+07</td>\n",
       "      <td>2.100000e+07</td>\n",
       "      <td>-0.151683</td>\n",
       "      <td>-1.346995</td>\n",
       "      <td>0.215709</td>\n",
       "      <td>4</td>\n",
       "      <td>4</td>\n",
       "    </tr>\n",
       "    <tr>\n",
       "      <th>8</th>\n",
       "      <td>Ethash</td>\n",
       "      <td>PoW</td>\n",
       "      <td>1.076842e+08</td>\n",
       "      <td>0.000000e+00</td>\n",
       "      <td>-0.141797</td>\n",
       "      <td>-2.023795</td>\n",
       "      <td>0.390169</td>\n",
       "      <td>4</td>\n",
       "      <td>4</td>\n",
       "    </tr>\n",
       "  </tbody>\n",
       "</table>\n",
       "</div>"
      ],
      "text/plain": [
       "  Algorithm ProofType  TotalCoinsMined  TotalCoinSupply      PC 1      PC 2  \\\n",
       "0    Scrypt   PoW/PoS     4.199995e+01     4.200000e+01 -0.333737  1.038301   \n",
       "2    Scrypt   PoW/PoS     1.055185e+09     5.320000e+08 -0.317070  1.038309   \n",
       "5       X13   PoW/PoS     2.927942e+10     3.141593e+11  2.311407  1.609799   \n",
       "7   SHA-256       PoW     1.792718e+07     2.100000e+07 -0.151683 -1.346995   \n",
       "8    Ethash       PoW     1.076842e+08     0.000000e+00 -0.141797 -2.023795   \n",
       "\n",
       "       PC 3  Class  Predictions  \n",
       "0 -0.629842      0            0  \n",
       "2 -0.630281      0            0  \n",
       "5 -0.751901      3            3  \n",
       "7  0.215709      4            4  \n",
       "8  0.390169      4            4  "
      ]
     },
     "execution_count": 105,
     "metadata": {},
     "output_type": "execute_result"
    }
   ],
   "source": [
    "kmodel = KMeans(n_clusters=5, random_state=0)\n",
    "\n",
    "# Fit the model\n",
    "kmodel.fit(pca_df)\n",
    "\n",
    "# Predict clusters\n",
    "predictions = kmodel.predict(pca_df)\n",
    "\n",
    "# Creating a new DataFrame including predicted clusters and cryptocurrencies features\n",
    "clustered_df = pd.DataFrame({\n",
    "    \"Algorithm\": data.Algorithm,\n",
    "    \"ProofType\": data.ProofType,\n",
    "    \"TotalCoinsMined\": data.TotalCoinsMined,\n",
    "    \"TotalCoinSupply\": data.TotalCoinSupply,\n",
    "    \"PC 1\": pca_df['PC 1'],\n",
    "    \"PC 2\": pca_df['PC 2'],\n",
    "    \"PC 3\": pca_df['PC 3'],\n",
    "    \"Class\": kmodel.labels_,\n",
    "    \"Predictions\": predictions, \n",
    "    },\n",
    ")\n",
    "clustered_df.head()"
   ]
  },
  {
   "cell_type": "markdown",
   "id": "b06de7b9",
   "metadata": {},
   "source": [
    "# Visualizing Results"
   ]
  },
  {
   "cell_type": "code",
   "execution_count": 106,
   "id": "2a490694",
   "metadata": {},
   "outputs": [
    {
     "data": {
      "application/vnd.plotly.v1+json": {
       "config": {
        "plotlyServerURL": "https://plot.ly"
       },
       "data": [
        {
         "customdata": [
          [
           "Scrypt"
          ],
          [
           "Scrypt"
          ],
          [
           "X11"
          ],
          [
           "SHA-512"
          ],
          [
           "SHA-256"
          ],
          [
           "SHA-256"
          ],
          [
           "X15"
          ],
          [
           "Scrypt"
          ],
          [
           "Scrypt"
          ],
          [
           "Scrypt"
          ],
          [
           "Scrypt"
          ],
          [
           "Scrypt"
          ],
          [
           "Scrypt"
          ],
          [
           "Groestl"
          ],
          [
           "PoS"
          ],
          [
           "Scrypt"
          ],
          [
           "Scrypt"
          ],
          [
           "X11"
          ],
          [
           "X11"
          ],
          [
           "SHA3"
          ],
          [
           "Scrypt"
          ],
          [
           "SHA-256"
          ],
          [
           "Scrypt"
          ],
          [
           "X13"
          ],
          [
           "X13"
          ],
          [
           "NeoScrypt"
          ],
          [
           "Scrypt"
          ],
          [
           "Scrypt"
          ],
          [
           "Scrypt"
          ],
          [
           "X11"
          ],
          [
           "X11"
          ],
          [
           "Multiple"
          ],
          [
           "PHI1612"
          ],
          [
           "X11"
          ],
          [
           "Scrypt"
          ],
          [
           "Scrypt"
          ],
          [
           "Scrypt"
          ],
          [
           "X11"
          ],
          [
           "Multiple"
          ],
          [
           "X13"
          ],
          [
           "Scrypt"
          ],
          [
           "Shabal256"
          ],
          [
           "Counterparty"
          ],
          [
           "SHA-256"
          ],
          [
           "Groestl"
          ],
          [
           "Scrypt"
          ],
          [
           "X13"
          ],
          [
           "Scrypt"
          ],
          [
           "Scrypt"
          ],
          [
           "X13"
          ],
          [
           "X11"
          ],
          [
           "Scrypt"
          ],
          [
           "X11"
          ],
          [
           "SHA3"
          ],
          [
           "QUAIT"
          ],
          [
           "X11"
          ],
          [
           "Scrypt"
          ],
          [
           "X13"
          ],
          [
           "SHA-256"
          ],
          [
           "X15"
          ],
          [
           "BLAKE256"
          ],
          [
           "SHA-256"
          ],
          [
           "X11"
          ],
          [
           "SHA-256"
          ],
          [
           "NIST5"
          ],
          [
           "Scrypt"
          ],
          [
           "Scrypt"
          ],
          [
           "X11"
          ],
          [
           "Scrypt"
          ],
          [
           "SHA-256"
          ],
          [
           "Scrypt"
          ],
          [
           "PoS"
          ],
          [
           "X11"
          ],
          [
           "SHA-256"
          ],
          [
           "SHA-256"
          ],
          [
           "NIST5"
          ],
          [
           "X11"
          ],
          [
           "POS 3.0"
          ],
          [
           "Scrypt"
          ],
          [
           "Scrypt"
          ],
          [
           "Scrypt"
          ],
          [
           "X13"
          ],
          [
           "X11"
          ],
          [
           "X11"
          ],
          [
           "Scrypt"
          ],
          [
           "SHA-256"
          ],
          [
           "X11"
          ],
          [
           "Scrypt"
          ],
          [
           "Scrypt"
          ],
          [
           "Scrypt"
          ],
          [
           "Scrypt"
          ],
          [
           "SHA-256D"
          ],
          [
           "PoS"
          ],
          [
           "Scrypt"
          ],
          [
           "X11"
          ],
          [
           "PoS"
          ],
          [
           "X13"
          ],
          [
           "X14"
          ],
          [
           "PoS"
          ],
          [
           "SHA-256D"
          ],
          [
           "X11"
          ],
          [
           "X13"
          ],
          [
           "X11"
          ],
          [
           "PoS"
          ],
          [
           "Scrypt"
          ],
          [
           "Scrypt"
          ],
          [
           "PoS"
          ],
          [
           "X11"
          ],
          [
           "SHA-256"
          ],
          [
           "Scrypt"
          ],
          [
           "X11"
          ],
          [
           "Scrypt"
          ],
          [
           "Scrypt"
          ],
          [
           "X11"
          ],
          [
           "Scrypt"
          ],
          [
           "Scrypt"
          ],
          [
           "Scrypt"
          ],
          [
           "Scrypt"
          ],
          [
           "Quark"
          ],
          [
           "QuBit"
          ],
          [
           "Scrypt"
          ],
          [
           "SHA-256"
          ],
          [
           "X11"
          ],
          [
           "Scrypt"
          ],
          [
           "Scrypt"
          ],
          [
           "Scrypt"
          ],
          [
           "Scrypt"
          ],
          [
           "X13"
          ],
          [
           "Scrypt"
          ],
          [
           "Scrypt"
          ],
          [
           "X11"
          ],
          [
           "Blake2S"
          ],
          [
           "X11"
          ],
          [
           "PoS"
          ],
          [
           "X11"
          ],
          [
           "PoS"
          ],
          [
           "X11"
          ],
          [
           "Scrypt"
          ],
          [
           "Scrypt"
          ],
          [
           "Scrypt"
          ],
          [
           "SHA-256"
          ],
          [
           "X11"
          ],
          [
           "Scrypt"
          ],
          [
           "PoS"
          ],
          [
           "Scrypt"
          ],
          [
           "X15"
          ],
          [
           "SHA-256"
          ],
          [
           "POS 3.0"
          ],
          [
           "536"
          ],
          [
           "NIST5"
          ],
          [
           "NIST5"
          ],
          [
           "Skein"
          ],
          [
           "X13"
          ],
          [
           "Scrypt"
          ],
          [
           "X13"
          ],
          [
           "SkunkHash v2 Raptor"
          ],
          [
           "Skein"
          ],
          [
           "X11"
          ],
          [
           "Scrypt"
          ],
          [
           "PoS"
          ],
          [
           "Scrypt"
          ],
          [
           "Scrypt"
          ],
          [
           "SHA-512"
          ],
          [
           "Ouroboros"
          ],
          [
           "X11"
          ],
          [
           "NeoScrypt"
          ],
          [
           "Scrypt"
          ],
          [
           "Lyra2REv2"
          ],
          [
           "Scrypt"
          ],
          [
           "SHA-256"
          ],
          [
           "NIST5"
          ],
          [
           "PHI1612"
          ],
          [
           "Scrypt"
          ],
          [
           "Quark"
          ],
          [
           "POS 2.0"
          ],
          [
           "Scrypt"
          ],
          [
           "SHA-256"
          ],
          [
           "X11"
          ],
          [
           "NIST5"
          ],
          [
           "X13"
          ],
          [
           "Scrypt"
          ],
          [
           "NIST5"
          ],
          [
           "Quark"
          ],
          [
           "Scrypt"
          ],
          [
           "Scrypt"
          ],
          [
           "X11"
          ],
          [
           "Quark"
          ],
          [
           "Scrypt"
          ],
          [
           "Scrypt"
          ],
          [
           "X11"
          ],
          [
           "POS 3.0"
          ],
          [
           "Ethash"
          ],
          [
           "Scrypt"
          ],
          [
           "Scrypt"
          ],
          [
           "X13"
          ],
          [
           "C11"
          ],
          [
           "X11"
          ],
          [
           "XEVAN"
          ],
          [
           "Scrypt"
          ],
          [
           "VBFT"
          ],
          [
           "NIST5"
          ],
          [
           "Scrypt"
          ],
          [
           "Scrypt"
          ],
          [
           "Scrypt"
          ],
          [
           "Green Protocol"
          ],
          [
           "PoS"
          ],
          [
           "Scrypt"
          ],
          [
           "Quark"
          ],
          [
           "PoS"
          ],
          [
           "X16R"
          ],
          [
           "Scrypt"
          ],
          [
           "XEVAN"
          ],
          [
           "Scrypt"
          ],
          [
           "Scrypt"
          ],
          [
           "Scrypt"
          ],
          [
           "SHA-256D"
          ],
          [
           "Scrypt"
          ],
          [
           "X15"
          ],
          [
           "Quark"
          ],
          [
           "SHA-256"
          ],
          [
           "DPoS"
          ],
          [
           "X16R"
          ],
          [
           "Quark"
          ],
          [
           "Quark"
          ],
          [
           "Scrypt"
          ],
          [
           "Lyra2REv2"
          ],
          [
           "Quark"
          ],
          [
           "Scrypt"
          ],
          [
           "X11"
          ],
          [
           "X11"
          ],
          [
           "Scrypt"
          ],
          [
           "PoS"
          ],
          [
           "Keccak"
          ],
          [
           "X11"
          ],
          [
           "Scrypt"
          ],
          [
           "SHA-512"
          ],
          [
           "XEVAN"
          ],
          [
           "XEVAN"
          ],
          [
           "X11"
          ],
          [
           "Quark"
          ],
          [
           "Equihash"
          ],
          [
           "Scrypt"
          ],
          [
           "Quark"
          ],
          [
           "Quark"
          ],
          [
           "Scrypt"
          ],
          [
           "X11"
          ],
          [
           "Scrypt"
          ],
          [
           "XEVAN"
          ],
          [
           "SHA-256D"
          ],
          [
           "X11"
          ],
          [
           "X11"
          ],
          [
           "Scrypt"
          ],
          [
           "X11"
          ],
          [
           "Scrypt"
          ],
          [
           "Scrypt"
          ],
          [
           "SHA-256"
          ],
          [
           "Scrypt"
          ],
          [
           "X11"
          ],
          [
           "Scrypt"
          ],
          [
           "SHA-256"
          ],
          [
           "X11"
          ],
          [
           "Scrypt"
          ],
          [
           "Scrypt"
          ],
          [
           "X11"
          ],
          [
           "Scrypt"
          ],
          [
           "PoS"
          ],
          [
           "X11"
          ],
          [
           "SHA-256"
          ],
          [
           "Scrypt"
          ],
          [
           "Scrypt"
          ],
          [
           "NeoScrypt"
          ],
          [
           "X13"
          ],
          [
           "SHA-256"
          ],
          [
           "PoS"
          ],
          [
           "PoS"
          ],
          [
           "Scrypt"
          ],
          [
           "Scrypt"
          ]
         ],
         "hovertemplate": "Class=%{marker.color}<br>PC 1=%{x}<br>PC 2=%{y}<br>PC 3=%{z}<br>Algorithm=%{customdata[0]}<extra></extra>",
         "legendgroup": "0",
         "marker": {
          "color": [
           0,
           0,
           0,
           0,
           0,
           0,
           0,
           0,
           0,
           0,
           0,
           0,
           0,
           0,
           0,
           0,
           0,
           0,
           0,
           0,
           0,
           0,
           0,
           0,
           0,
           0,
           0,
           0,
           0,
           0,
           0,
           0,
           0,
           0,
           0,
           0,
           0,
           0,
           0,
           0,
           0,
           0,
           0,
           0,
           0,
           0,
           0,
           0,
           0,
           0,
           0,
           0,
           0,
           0,
           0,
           0,
           0,
           0,
           0,
           0,
           0,
           0,
           0,
           0,
           0,
           0,
           0,
           0,
           0,
           0,
           0,
           0,
           0,
           0,
           0,
           0,
           0,
           0,
           0,
           0,
           0,
           0,
           0,
           0,
           0,
           0,
           0,
           0,
           0,
           0,
           0,
           0,
           0,
           0,
           0,
           0,
           0,
           0,
           0,
           0,
           0,
           0,
           0,
           0,
           0,
           0,
           0,
           0,
           0,
           0,
           0,
           0,
           0,
           0,
           0,
           0,
           0,
           0,
           0,
           0,
           0,
           0,
           0,
           0,
           0,
           0,
           0,
           0,
           0,
           0,
           0,
           0,
           0,
           0,
           0,
           0,
           0,
           0,
           0,
           0,
           0,
           0,
           0,
           0,
           0,
           0,
           0,
           0,
           0,
           0,
           0,
           0,
           0,
           0,
           0,
           0,
           0,
           0,
           0,
           0,
           0,
           0,
           0,
           0,
           0,
           0,
           0,
           0,
           0,
           0,
           0,
           0,
           0,
           0,
           0,
           0,
           0,
           0,
           0,
           0,
           0,
           0,
           0,
           0,
           0,
           0,
           0,
           0,
           0,
           0,
           0,
           0,
           0,
           0,
           0,
           0,
           0,
           0,
           0,
           0,
           0,
           0,
           0,
           0,
           0,
           0,
           0,
           0,
           0,
           0,
           0,
           0,
           0,
           0,
           0,
           0,
           0,
           0,
           0,
           0,
           0,
           0,
           0,
           0,
           0,
           0,
           0,
           0,
           0,
           0,
           0,
           0,
           0,
           0,
           0,
           0,
           0,
           0,
           0,
           0,
           0,
           0,
           0,
           0,
           0,
           0,
           0,
           0,
           0,
           0,
           0,
           0,
           0,
           0,
           0,
           0,
           0,
           0,
           0,
           0,
           0,
           0,
           0,
           0,
           0,
           0,
           0,
           0,
           0,
           0,
           0,
           0,
           0,
           0,
           0,
           0,
           0
          ],
          "coloraxis": "coloraxis",
          "symbol": "circle"
         },
         "mode": "markers",
         "name": "0",
         "scene": "scene",
         "showlegend": true,
         "type": "scatter3d",
         "x": [
          -0.33373727275865883,
          -0.31706991259503314,
          -0.39550208959717414,
          -0.3165083865726448,
          -0.31871881775650956,
          -0.2805562701462869,
          -0.23839551664197448,
          -0.3333967026544745,
          -0.3259738801337777,
          -0.33223373405473305,
          -0.33373320497406894,
          -0.3337174812470629,
          0.7152729709764426,
          -0.37228412292873014,
          -0.35211242685990735,
          -0.26793978671478824,
          -0.33179503067726374,
          -0.3371618121945852,
          -0.3953967780119262,
          -0.4656138412100194,
          -0.03547616469279931,
          -0.28200493788567743,
          -0.29532560776475325,
          -0.2750204483407831,
          -0.2756427027280503,
          -0.3336650640658341,
          -0.3280360445042231,
          -0.3321381829226617,
          0.024430371266437788,
          -0.35704987168786406,
          -0.3957685378732257,
          -0.2441720345096909,
          -0.33975918064002736,
          -0.3956800979967238,
          -0.30895584650815006,
          -0.3324138419773696,
          -0.3238249616804973,
          -0.39564460433986887,
          -0.244640538400026,
          -0.27542355014143477,
          -0.32483243068214945,
          0.14172480060503856,
          -0.34164467306401464,
          -0.3179301386351811,
          -0.3717056756320994,
          -0.2953059840273329,
          -0.275718007270542,
          -0.28995597377823146,
          -0.33371933998697,
          -0.2756702038486758,
          -0.3574946025021595,
          -0.33345355604886634,
          -0.39575006542870467,
          -0.5403719211350124,
          -0.4201996082121223,
          -0.31001338509555926,
          -0.293706674015883,
          -0.27519151390904606,
          -0.31126785473508206,
          -0.24083950657957975,
          -0.10012263758778267,
          -0.3186897295859346,
          -0.07300060850318293,
          -0.31875351269015334,
          -0.2240712354973972,
          -0.3333292665473105,
          -0.29357482523007106,
          -0.3929162554710032,
          0.8586419855855348,
          -0.3185533454665527,
          -0.015825972454348636,
          -0.3517955313901345,
          -0.39359235663963615,
          -0.31729546329090236,
          -0.314961319506091,
          -0.3454380683922223,
          -0.3944841503841383,
          -0.3715917299191266,
          -0.30960969065524835,
          -0.3333673499696103,
          -0.33180583268598335,
          -0.23624828138571624,
          -0.34497983407295146,
          -0.39522356781425505,
          -0.33257118479154285,
          -0.3187343866338452,
          -0.3957392343273662,
          -0.3335566962204868,
          -0.3337135726648016,
          -0.2935660166009385,
          -0.24942669166251602,
          0.05693858348624855,
          -0.35075214027289703,
          -0.3333277014648,
          -0.38188968520415717,
          -0.3500809787968583,
          -0.23768043095353533,
          -0.4318667943920986,
          -0.34982799568641304,
          -0.25770145219345697,
          -0.3953315506372716,
          0.8565849597569456,
          -0.3956941346213985,
          -0.3512160991249699,
          -0.33325496995639653,
          -0.33340928203143727,
          -0.3517955313901345,
          -0.3952685995743521,
          -0.31859705689116813,
          -0.3332557462657305,
          -0.35642725594207203,
          -0.33340318411101183,
          -0.32898635577918023,
          -0.39572312223445477,
          -0.3326129837908681,
          0.348229579138596,
          -0.3336025841135297,
          -0.3336732310654964,
          -0.3684999331608078,
          -0.3430483166999411,
          -0.3298960985858666,
          -0.3187107986141569,
          -0.3956330354405606,
          -0.33345090474324796,
          -0.3335778529973147,
          -0.29521208623203304,
          -0.28254206584103186,
          -0.23744818045075897,
          -0.3144228647310389,
          -0.2949533481191793,
          -0.3948980665101823,
          -0.38545982935171424,
          -0.3936362725131964,
          -0.35004129905529,
          -0.3947959443045582,
          -0.3444386898366346,
          -0.3907337179695832,
          -0.3335211406713479,
          -0.3335202767325385,
          -0.3266344163257617,
          0.25269303038170093,
          -0.3952748952993018,
          -0.27783875316461765,
          -0.35182975520137766,
          -0.3327311608607587,
          0.8942740082078627,
          -0.2792452185584002,
          -0.3703695072852516,
          0.6044538842019352,
          -0.3469744124227328,
          -0.3454757297271927,
          -0.4170996646183076,
          -0.27535512926235994,
          0.1316080419562479,
          -0.27542598767363613,
          -0.33511900265428196,
          -0.4166045141126627,
          -0.39554752165831475,
          -0.2952865678396007,
          -0.35169578947130187,
          -0.33315611321437183,
          -0.3336561530527427,
          -0.37460229499481235,
          0.6344661745494534,
          -0.3954882175809589,
          -0.3286610538861029,
          -0.33361168095200444,
          -0.3413591487574249,
          0.4357428155918988,
          -0.3170563728422332,
          -0.33173147527031216,
          -0.41347461277370434,
          -0.3335619776951706,
          -0.4050394726546001,
          -0.37012619980732864,
          -0.3334324128772824,
          -0.10696185500250027,
          -0.39427993011816587,
          0.21277728157917264,
          -0.27209520448127633,
          -0.3308910773793924,
          -0.3086386418946513,
          -0.3683857922166736,
          0.08110718959335274,
          -0.3325698959092431,
          -0.39486179872153254,
          -0.36754973893315335,
          -0.320129284758887,
          -0.3336782876139411,
          -0.35746652265502527,
          -0.37187372886546377,
          -0.2718211518749761,
          -0.2926152939512796,
          -0.32922155601045244,
          -0.22923760657762834,
          -0.324272578720383,
          -0.39556465486444514,
          -0.2567344108150585,
          -0.29444571235890077,
          -0.36453258180246123,
          -0.3465730516891254,
          -0.3337056516089766,
          -0.33368734667776334,
          -0.28882398845125923,
          -0.3707121456700705,
          -0.35129002499706175,
          -0.3334036544946428,
          -0.4037074050120552,
          -0.35147876600017136,
          -0.32834960950364256,
          -0.28023255449523854,
          -0.17113192123081947,
          -0.2949806927868094,
          -0.13673030341383113,
          -0.2952326372203238,
          -0.3230753737104174,
          -0.33287725330557383,
          -0.20208358055821463,
          -0.3640888140909196,
          -0.2793736836064041,
          1.0209771184582244,
          -0.3657849996386371,
          -0.36849932498260257,
          -0.40672516796591374,
          -0.17583227071897156,
          -0.3793863805493447,
          -0.3672181882748008,
          -0.3265745033320756,
          -0.3570436511882945,
          -0.395037770761397,
          -0.292476337967858,
          -0.3505775466734021,
          -0.35573790114566006,
          -0.3569046896890323,
          -0.19304564309904174,
          -0.4196025392392917,
          -0.21862841598165686,
          0.694467050850699,
          -0.14740439662833252,
          -0.4060193889242408,
          -0.256811153439525,
          -0.33340769477276466,
          -0.4064757962320669,
          -0.3686163659083842,
          0.5737175649271291,
          -0.35752085105225984,
          -0.3328901161985668,
          -0.25118640538376474,
          -0.2777559629554896,
          -0.3925995258270561,
          -0.3952651702882681,
          0.10180988136010893,
          -0.392804871304653,
          -0.3322747081895154,
          -0.3331008344627099,
          -0.2805888395933198,
          -0.3336196028388654,
          -0.38688896473400225,
          -0.24723915821723966,
          -0.09836084218063211,
          -0.3826333463105379,
          -0.33289776271816124,
          -0.3259587728018879,
          -0.39183223470586614,
          -0.3313357769280392,
          -0.35207126214831624,
          -0.39110364975818096,
          -0.3172331677129918,
          -0.10242833284376991,
          -0.32852933063719925,
          -0.3332904805322809,
          -0.2758253064561233,
          -0.2614771255909387,
          -0.35200712702522513,
          -0.30841953121188453,
          -0.33178066401468603,
          -0.295629450295687
         ],
         "y": [
          1.0383005036998083,
          1.0383087546608676,
          1.1919587967663765,
          1.5967885807816076,
          0.794652189004675,
          0.5704987347248983,
          1.8154442711060745,
          1.038296471402131,
          1.0384808422667362,
          1.0383354299512024,
          1.038300242092992,
          1.038300251216179,
          0.5163815373526798,
          0.8818630247124192,
          1.5153288839472308,
          0.4369103024400218,
          1.0382601498523623,
          0.9682829611806464,
          1.1919612430856776,
          1.8605103262467233,
          0.8201822025795605,
          0.7937976049291857,
          0.8141345455131682,
          1.7734804428414501,
          1.7734659882786998,
          0.543903566285745,
          1.0381337914155495,
          1.0382678483134227,
          1.0466205040244054,
          0.9678209745562121,
          1.1919682762982597,
          0.07756640768678562,
          1.5735609371151618,
          1.1919632088367502,
          1.0377365481780738,
          1.0382600204188757,
          0.299582232724078,
          1.1919672384896376,
          0.07762675039058953,
          1.7734710790500627,
          1.0377950999616046,
          0.9583672240222214,
          1.449517516280707,
          0.7946377456634562,
          0.8818795813526258,
          0.8141465256849796,
          1.7734556919142332,
          0.8139146742116767,
          1.0383009202962958,
          1.7734582268713421,
          0.967796398601446,
          1.03829284913488,
          1.191968706113331,
          1.872448601402458,
          1.8742555040144722,
          0.8278853108675884,
          0.8141124508683448,
          1.7734408562286013,
          0.7941286822397234,
          1.815618057971641,
          0.8744877488574253,
          0.7946528647038671,
          1.1805555303046116,
          0.794659574024485,
          1.5197201530694866,
          1.0382800666353151,
          0.8140292929929187,
          1.1917610268135606,
          0.770438497309299,
          0.7946432121840897,
          0.5263593227107679,
          1.5153220000732923,
          1.1919654089711136,
          0.794542284726076,
          0.7943812077461199,
          1.5168367776904381,
          1.1918991087097353,
          1.4528408668198096,
          1.0374364568338832,
          1.0382775200485386,
          1.0382741440773573,
          1.5491919316890777,
          0.96763340051033,
          1.1919453234373332,
          1.0382634880224308,
          0.7946525396072593,
          1.1919668209404468,
          1.0382897409986693,
          1.0383010542674207,
          0.8141869439911604,
          0.34996571606847143,
          1.9197520881512047,
          1.5153077754658348,
          1.0383100178032152,
          1.1912222875427976,
          1.5153475829335616,
          1.549299334544669,
          1.8574315337711604,
          1.515167560304026,
          1.921342150080796,
          1.1919570602155236,
          1.7991614781094365,
          1.1919672607888048,
          1.5153140921832344,
          1.038284256907274,
          1.038278207927912,
          1.5153220000732923,
          1.1919371548046764,
          0.7946564419448614,
          1.0382881847802774,
          0.5883068993496369,
          1.0382883211826375,
          1.0379474271258595,
          1.191965770698975,
          1.0382240551577786,
          0.8059364450990242,
          1.0382943731123428,
          1.038299629681057,
          1.4318094242072994,
          0.5523760471039901,
          1.0380336029804549,
          0.7946530875415412,
          1.1919647621874725,
          1.0382929107229768,
          1.0382885847672068,
          0.8141095327107531,
          0.4443536876694555,
          1.5492961648705719,
          1.0380369073756057,
          0.814130196711098,
          1.191917271748404,
          1.8899371655768686,
          1.1919394598240245,
          1.5152984399992595,
          1.1919196439804995,
          1.515222236871241,
          1.1917291038714781,
          1.0382904158460806,
          1.0382851738431056,
          1.0377532410127688,
          0.5294753634520888,
          1.1919512537076986,
          0.813127763182602,
          1.5153140825022247,
          1.0382490880214448,
          1.7779015653344992,
          0.570395581356279,
          1.4528218931337367,
          1.7685197903368797,
          1.5168580700170609,
          1.5168145351193425,
          1.9692128377053824,
          1.773451300699471,
          1.013497299774241,
          1.7734575620532376,
          1.4984461909119497,
          1.9692243397280291,
          1.1919666394483386,
          0.8141345792350021,
          1.5152946871287267,
          1.0382796358406252,
          1.0382993966062777,
          1.597938537891689,
          1.393483497169735,
          1.1919555577170986,
          0.5437375884104568,
          1.0382922149619926,
          0.6208133588939312,
          1.0383685875501079,
          0.7946352504340302,
          1.516364567143682,
          1.798490744211195,
          1.0382896183134642,
          1.6558755787259742,
          1.4445542164114404,
          1.038297052366086,
          0.5681298058868658,
          1.1919002913258985,
          1.5085001357268486,
          1.7733988202842679,
          1.0382170449280124,
          1.2926892547080628,
          1.4318085143396866,
          1.012324197978058,
          1.0382207825165297,
          1.1919537270969272,
          1.4317567095680799,
          1.0379755767107104,
          1.0382990248863724,
          0.967796338620514,
          1.4528403703567376,
          -0.10633544606738464,
          0.44228845166827313,
          1.0382401571548596,
          1.5489274306251821,
          0.9431619138721875,
          1.191955206643818,
          1.5079015346204823,
          0.814078189312308,
          1.4409505746409814,
          1.5168389030674019,
          1.038299101496081,
          1.0382981021928102,
          0.8139409694910272,
          1.498458980659668,
          1.5152853091512022,
          1.038286885741073,
          1.6559065217867543,
          1.5152866228804882,
          0.6192978458832603,
          1.035895235555546,
          1.1438428002511087,
          0.8141355632947291,
          1.035611821091033,
          0.8141168901564548,
          1.9250985351342096,
          1.038260651795457,
          1.591426248816175,
          1.4314596081524666,
          0.5704636961547781,
          1.7861619250011118,
          0.8434482151823687,
          1.431805164790302,
          1.655975203773519,
          0.804898916547636,
          0.8449564235805648,
          1.4317786564217905,
          1.0377546327524567,
          0.9677819448957066,
          1.1919496393814455,
          0.8140270695818834,
          1.5152149641505797,
          0.9125390330102718,
          0.9677531212961717,
          1.0287480446010164,
          1.9170466475354562,
          1.2837471227853756,
          1.3017893593124963,
          0.9726909019306416,
          1.65595680549621,
          -0.11644338792827821,
          1.0382932022049218,
          1.6559711068222203,
          1.4318078805302767,
          1.0061032307958104,
          0.9677960025420107,
          1.038260352998859,
          1.5077170178916601,
          1.9226612140215331,
          1.1917427429687177,
          1.1919586021876487,
          1.0234889694265066,
          1.1920371210480376,
          1.0381920266628468,
          1.038276643451532,
          0.5704919239697749,
          1.0383032371250647,
          1.1918184149764497,
          1.032831095386669,
          0.7996513015168518,
          1.1915611414962637,
          1.0383093211378698,
          1.0381962902282176,
          1.1919115652151515,
          1.038242327719621,
          1.5153234298597102,
          0.6368104635776034,
          0.7946275823175751,
          0.8114980799233672,
          1.0382078035926507,
          0.5438720976186154,
          1.773461661042544,
          0.5702385765719415,
          1.5153251802632077,
          1.7157821500349002,
          1.0381678901146565,
          0.8141382995175331
         ],
         "z": [
          -0.6298423405462676,
          -0.6302806828305259,
          -0.6155327636957273,
          -0.11171814684756881,
          -0.42787170625629367,
          -0.041734931554890366,
          -0.7724634385992684,
          -0.6298502917845153,
          -0.6300887610688283,
          -0.6298900648925497,
          -0.6298423844240141,
          -0.6298427982698737,
          -0.4713795850187526,
          -0.5313645556606382,
          -0.04320543799435518,
          -0.3200873486056128,
          -0.6298835307992965,
          -0.23003858841463162,
          -0.615536106426975,
          -0.46193997549414284,
          -0.2519598240350889,
          -0.4286283489632131,
          -0.2437090949191814,
          -0.7233662597268669,
          -0.7233465085363463,
          -0.41639325991728765,
          -0.6299516982521499,
          -0.6298763895259947,
          -0.6412110629282848,
          -0.2294073146780855,
          -0.6155280569390054,
          0.09439671775921162,
          -0.16532387773931181,
          -0.6155291593826986,
          -0.6303561479533122,
          -0.6298672987516634,
          -0.2710678288267453,
          -0.6155310532163699,
          0.09439453942896006,
          -0.7233534647339722,
          -0.6299544994747681,
          -0.593210812949839,
          -0.11818596910805583,
          -0.4278888973257877,
          -0.5313836631134016,
          -0.24371247637541107,
          -0.723342072356159,
          -0.24379704652393222,
          -0.6298429097637049,
          -0.7233439306864812,
          -0.2293897884696774,
          -0.6298479362484225,
          -0.615528643449713,
          0.10976791414683212,
          -0.8386335083152066,
          -0.2478518775147124,
          -0.24374619135117212,
          -0.7233523052391451,
          -0.427941467942647,
          -0.7724410519129687,
          -0.38119931273490965,
          -0.4278726295539204,
          -0.6212465628869503,
          -0.42787256565890974,
          -0.6499691099641182,
          -0.6298481305240976,
          -0.2437297378146801,
          -0.6155531231764868,
          -0.26346155512525865,
          -0.42787388969995427,
          -0.45462710099584536,
          -0.043212086827777885,
          -0.6155843450714681,
          -0.42788266328595664,
          -0.42790521645554536,
          -0.6461014192330513,
          -0.6155451268045504,
          0.004580558393422835,
          -0.6302671969678854,
          -0.6298465238887703,
          -0.629886597783696,
          -0.33721311693504874,
          -0.22967842016727838,
          -0.615536830554889,
          -0.62986400940662,
          -0.4278713825719372,
          -0.6155284757652246,
          -0.629844491948028,
          -0.6298430928262614,
          -0.24376770527992542,
          -0.2458853186289164,
          -0.8914280736778557,
          -0.043235998856468255,
          -0.6298553408967347,
          -0.615712851444939,
          -0.043263099194050345,
          -0.33720133087681453,
          -0.7336407244054249,
          -0.04322663059708565,
          -0.8835711123047802,
          -0.6155368128896385,
          -0.7591400173586769,
          -0.6155297618044882,
          -0.04322536400458252,
          -0.6298510787026014,
          -0.6298455907250959,
          -0.043212086827777885,
          -0.6155336962589668,
          -0.42787591209526554,
          -0.6298519985912446,
          -0.6874061135366475,
          -0.6298481711795572,
          -0.6298822082696477,
          -0.6155286461992397,
          -0.6298534760425872,
          -0.2585956029517597,
          -0.6298443993465019,
          -0.6298438080049087,
          -0.16328619924758847,
          -0.45774802157392286,
          -0.6298790182171143,
          -0.42787213128738305,
          -0.6155307633497863,
          -0.629848020404426,
          -0.6298436612770038,
          -0.24370607971727354,
          -0.30169035065269123,
          -0.33720665269124134,
          -0.6302849130878206,
          -0.24371780005808671,
          -0.6155386377670481,
          -1.0605862339799252,
          -0.6155769838769426,
          -0.043252374725618464,
          -0.6155418792631,
          -0.04338081562699148,
          -0.6156026226928596,
          -0.6298455843638526,
          -0.6298443522067447,
          -0.629897302028691,
          -0.04587615713790308,
          -0.6155369062788695,
          -0.24392592429041657,
          -0.043209295590678064,
          -0.6298563741601808,
          -0.7931312179754952,
          -0.041744564351201566,
          0.0045531011712285855,
          -0.9879419862267941,
          -0.6460662930274736,
          -0.6460951090296547,
          -0.7338516181658745,
          -0.7233505217226165,
          -0.6360883895512965,
          -0.7233501653597547,
          0.007835647590928037,
          -0.7338673349083732,
          -0.6155334515405678,
          -0.2437101250933314,
          -0.0432081602785746,
          -0.6298525607230206,
          -0.6298441993324349,
          -0.11047245807638571,
          -0.16200268794990447,
          -0.615532351548497,
          -0.4164845395895804,
          -0.629843644587208,
          0.012065503874941569,
          -0.6500043543455769,
          -0.4279111760588608,
          -0.646347237985098,
          -0.5507156795096563,
          -0.6298443243069236,
          -0.5494445689330603,
          -0.014230044687436383,
          -0.6298494959221769,
          -0.045712748146893724,
          -0.6155507565665828,
          -0.6587204869808799,
          -0.7234233074242267,
          -0.6298968791457922,
          -0.25993037650341333,
          -0.16328896977088453,
          -0.634485424627511,
          -0.6298538207534552,
          -0.6155483135920856,
          -0.16329845795233483,
          -0.6301208329204565,
          -0.6298435308502617,
          -0.22939050926902907,
          0.00458806023073137,
          0.13276308861735062,
          -0.33000762751508117,
          -0.6299461211576268,
          -0.3373333495351261,
          -0.6773093636836002,
          -0.6155302663118599,
          -0.4730594098360235,
          -0.24371864145533798,
          0.04399151883830579,
          -0.6460722130472133,
          -0.6298428327730179,
          -0.6298430728106675,
          -0.24383297725952324,
          0.050814712933837346,
          -0.043216538774171,
          -0.629847815263481,
          -0.5494868505502447,
          -0.04321191182294637,
          -0.07059190184599318,
          -0.6306673967525868,
          -0.10538503372292336,
          -0.24371836874547922,
          -0.6343565806410962,
          -0.24370730282135653,
          -0.8827587253633138,
          -0.6298553173370511,
          -0.3863106314307044,
          -0.1633179512092265,
          -0.04175750562273895,
          -0.13150260886381868,
          -0.4567469757675447,
          -0.16328519559557983,
          -0.5494242830370828,
          -0.24462681525590974,
          -0.37407232657044986,
          -0.1633123916704868,
          -0.6298992037476298,
          -0.2293981350247491,
          -0.6155427280030457,
          -0.24375796503343627,
          -0.04321835368017701,
          -0.36811476403440235,
          -0.22939487367647476,
          -0.6312392127526578,
          -0.15534045829471257,
          -0.08692092531984774,
          0.061888035425410964,
          -0.2360617438060529,
          -0.5494383570128375,
          0.1308718745455906,
          -0.6298492214542267,
          -0.5494298311396174,
          -0.16328278141885838,
          -0.6458933201807577,
          -0.2293890064532411,
          -0.6298549090515406,
          -0.47316049418174083,
          -0.8833618099718841,
          -0.6155570388626365,
          -0.6155389198911266,
          -0.6376999468925324,
          -0.6156221278693554,
          -0.6298546657717078,
          -0.6298532916862278,
          -0.04173244856863365,
          -0.6298460755548259,
          -0.6157246603276495,
          -0.6307977332529774,
          -0.4348375217682791,
          -0.6157744930088347,
          -0.6298664303393567,
          -0.6300210435023709,
          -0.6156175381735529,
          -0.6298912884211558,
          -0.04320521018302064,
          -0.3927118910926043,
          -0.4279047118883939,
          -0.24812823849028104,
          -0.6299564998153878,
          -0.41639553422814213,
          -0.7233406919894819,
          -0.04217216766966292,
          -0.043207308294492146,
          0.04299115542972477,
          -0.6298618227610951,
          -0.24370203862860262
         ]
        },
        {
         "customdata": [
          [
           "X13"
          ],
          [
           "Scrypt"
          ],
          [
           "CryptoNight"
          ],
          [
           "DPoS"
          ],
          [
           "Scrypt"
          ],
          [
           "DPoS"
          ],
          [
           "CryptoNight"
          ],
          [
           "Semux BFT consensus"
          ],
          [
           "Scrypt"
          ],
          [
           "CryptoNight Heavy"
          ],
          [
           "DPoS"
          ],
          [
           "DPoS"
          ],
          [
           "DPoS"
          ],
          [
           "DPoS"
          ],
          [
           "SHA-256"
          ]
         ],
         "hovertemplate": "Class=%{marker.color}<br>PC 1=%{x}<br>PC 2=%{y}<br>PC 3=%{z}<br>Algorithm=%{customdata[0]}<extra></extra>",
         "legendgroup": "3",
         "marker": {
          "color": [
           3,
           3,
           3,
           3,
           3,
           3,
           3,
           3,
           3,
           3,
           3,
           3,
           3,
           3,
           3
          ],
          "coloraxis": "coloraxis",
          "symbol": "diamond"
         },
         "mode": "markers",
         "name": "3",
         "scene": "scene",
         "showlegend": true,
         "type": "scatter3d",
         "x": [
          2.3114074575803985,
          2.5582534827068724,
          3.8668819855480594,
          3.736020364049065,
          3.2446035852853137,
          3.7408794611099583,
          8.054889833723806,
          3.9306779787737964,
          2.2579605393359508,
          3.1265638216711222,
          3.7531257030165723,
          3.736412462402687,
          3.746279960609169,
          3.747524179782924,
          2.4710220804876077
         ],
         "y": [
          1.6097992018401286,
          -1.3135553625307723,
          -2.363544411966116,
          2.107944611410342,
          -1.166556531099494,
          2.1077903885232443,
          -2.847128851346093,
          2.158343946238744,
          0.3903706500981547,
          -2.260023118194288,
          2.1077187320043995,
          2.1079288487090033,
          2.1082719673121386,
          2.1083008697104013,
          0.8917906493833309
         ],
         "z": [
          -0.7519010854837974,
          -0.007285649297684081,
          0.3785789828025455,
          -0.2035492014238345,
          -0.060441986960813446,
          -0.20363950091971778,
          0.3846883607371516,
          -0.1751589689867696,
          -0.4263269841007746,
          0.2580955625808868,
          -0.20394296672912482,
          -0.20355569381906,
          -0.20389616639857844,
          -0.2039356595873012,
          -0.1146205719166978
         ]
        },
        {
         "customdata": [
          [
           "SHA-256"
          ],
          [
           "Ethash"
          ],
          [
           "Scrypt"
          ],
          [
           "CryptoNight-V7"
          ],
          [
           "Ethash"
          ],
          [
           "Equihash"
          ],
          [
           "Multiple"
          ],
          [
           "Scrypt"
          ],
          [
           "X11"
          ],
          [
           "Scrypt"
          ],
          [
           "Multiple"
          ],
          [
           "SHA-256"
          ],
          [
           "Scrypt"
          ],
          [
           "Scrypt"
          ],
          [
           "Quark"
          ],
          [
           "Groestl"
          ],
          [
           "Scrypt"
          ],
          [
           "Scrypt"
          ],
          [
           "Scrypt"
          ],
          [
           "X11"
          ],
          [
           "Multiple"
          ],
          [
           "SHA-256"
          ],
          [
           "Scrypt"
          ],
          [
           "Scrypt"
          ],
          [
           "Scrypt"
          ],
          [
           "Scrypt"
          ],
          [
           "Scrypt"
          ],
          [
           "NeoScrypt"
          ],
          [
           "Scrypt"
          ],
          [
           "Scrypt"
          ],
          [
           "Scrypt"
          ],
          [
           "Scrypt"
          ],
          [
           "SHA-256"
          ],
          [
           "Scrypt"
          ],
          [
           "Scrypt"
          ],
          [
           "Scrypt"
          ],
          [
           "Scrypt"
          ],
          [
           "HybridScryptHash256"
          ],
          [
           "Scrypt"
          ],
          [
           "Scrypt"
          ],
          [
           "SHA-256"
          ],
          [
           "Scrypt"
          ],
          [
           "Scrypt"
          ],
          [
           "Scrypt"
          ],
          [
           "Scrypt"
          ],
          [
           "SHA-256"
          ],
          [
           "SHA-256"
          ],
          [
           "SHA-256"
          ],
          [
           "SHA-256"
          ],
          [
           "SHA-256"
          ],
          [
           "X11"
          ],
          [
           "Scrypt"
          ],
          [
           "Lyra2REv2"
          ],
          [
           "Scrypt"
          ],
          [
           "SHA-256"
          ],
          [
           "CryptoNight"
          ],
          [
           "Scrypt"
          ],
          [
           "Scrypt"
          ],
          [
           "Scrypt"
          ],
          [
           "Scrypt"
          ],
          [
           "Scrypt"
          ],
          [
           "Scrypt"
          ],
          [
           "Stanford Folding"
          ],
          [
           "Multiple"
          ],
          [
           "QuBit"
          ],
          [
           "Scrypt"
          ],
          [
           "Scrypt"
          ],
          [
           "M7 POW"
          ],
          [
           "Scrypt"
          ],
          [
           "SHA-256"
          ],
          [
           "Scrypt"
          ],
          [
           "X11"
          ],
          [
           "Lyra2RE"
          ],
          [
           "SHA-256"
          ],
          [
           "X11"
          ],
          [
           "Scrypt"
          ],
          [
           "Scrypt"
          ],
          [
           "Ethash"
          ],
          [
           "Blake2b"
          ],
          [
           "X11"
          ],
          [
           "SHA-256"
          ],
          [
           "Scrypt"
          ],
          [
           "1GB AES Pattern Search"
          ],
          [
           "Scrypt"
          ],
          [
           "SHA-256"
          ],
          [
           "X11"
          ],
          [
           "Dagger"
          ],
          [
           "Scrypt"
          ],
          [
           "X11GOST"
          ],
          [
           "Scrypt"
          ],
          [
           "X11"
          ],
          [
           "Scrypt"
          ],
          [
           "X11"
          ],
          [
           "Equihash"
          ],
          [
           "CryptoNight"
          ],
          [
           "SHA-256"
          ],
          [
           "Multiple"
          ],
          [
           "Scrypt"
          ],
          [
           "SHA-256"
          ],
          [
           "Scrypt"
          ],
          [
           "Lyra2Z"
          ],
          [
           "Ethash"
          ],
          [
           "Equihash"
          ],
          [
           "Scrypt"
          ],
          [
           "X11"
          ],
          [
           "X11"
          ],
          [
           "CryptoNight"
          ],
          [
           "Scrypt"
          ],
          [
           "CryptoNight"
          ],
          [
           "Lyra2RE"
          ],
          [
           "X11"
          ],
          [
           "CryptoNight-V7"
          ],
          [
           "Scrypt"
          ],
          [
           "X11"
          ],
          [
           "Equihash"
          ],
          [
           "Scrypt"
          ],
          [
           "Lyra2RE"
          ],
          [
           "Dagger-Hashimoto"
          ],
          [
           "Scrypt"
          ],
          [
           "NIST5"
          ],
          [
           "Scrypt"
          ],
          [
           "SHA-256"
          ],
          [
           "Scrypt"
          ],
          [
           "CryptoNight-V7"
          ],
          [
           "Argon2d"
          ],
          [
           "Blake2b"
          ],
          [
           "Cloverhash"
          ],
          [
           "CryptoNight"
          ],
          [
           "X11"
          ],
          [
           "Scrypt"
          ],
          [
           "Scrypt"
          ],
          [
           "X11"
          ],
          [
           "X11"
          ],
          [
           "CryptoNight"
          ],
          [
           "Time Travel"
          ],
          [
           "Keccak"
          ],
          [
           "X11"
          ],
          [
           "SHA-256"
          ],
          [
           "Scrypt"
          ],
          [
           "Scrypt"
          ],
          [
           "Scrypt"
          ],
          [
           "Scrypt"
          ],
          [
           "Scrypt"
          ],
          [
           "Scrypt"
          ],
          [
           "CryptoNight"
          ],
          [
           "Equihash"
          ],
          [
           "X11"
          ],
          [
           "NeoScrypt"
          ],
          [
           "Equihash"
          ],
          [
           "Dagger"
          ],
          [
           "Scrypt"
          ],
          [
           "X11"
          ],
          [
           "NeoScrypt"
          ],
          [
           "Ethash"
          ],
          [
           "NeoScrypt"
          ],
          [
           "Multiple"
          ],
          [
           "CryptoNight"
          ],
          [
           "CryptoNight"
          ],
          [
           "Ethash"
          ],
          [
           "X11"
          ],
          [
           "CryptoNight-V7"
          ],
          [
           "Scrypt"
          ],
          [
           "BLAKE256"
          ],
          [
           "X11"
          ],
          [
           "NeoScrypt"
          ],
          [
           "NeoScrypt"
          ],
          [
           "Scrypt"
          ],
          [
           "X11"
          ],
          [
           "SHA-256"
          ],
          [
           "C11"
          ],
          [
           "SkunkHash"
          ],
          [
           "CryptoNight"
          ],
          [
           "Scrypt"
          ],
          [
           "Dagger"
          ],
          [
           "Lyra2REv2"
          ],
          [
           "Scrypt"
          ],
          [
           "Scrypt"
          ],
          [
           "X11"
          ],
          [
           "Ethash"
          ],
          [
           "CryptoNight"
          ],
          [
           "Scrypt"
          ],
          [
           "IMesh"
          ],
          [
           "Equihash"
          ],
          [
           "Lyra2Z"
          ],
          [
           "X11"
          ],
          [
           "CryptoNight"
          ],
          [
           "NIST5"
          ],
          [
           "Lyra2RE"
          ],
          [
           "Tribus"
          ],
          [
           "Lyra2Z"
          ],
          [
           "CryptoNight"
          ],
          [
           "CryptoNight Heavy"
          ],
          [
           "CryptoNight"
          ],
          [
           "Jump Consistent Hash"
          ],
          [
           "CryptoNight"
          ],
          [
           "X16R"
          ],
          [
           "HMQ1725"
          ],
          [
           "X11"
          ],
          [
           "Scrypt"
          ],
          [
           "CryptoNight-V7"
          ],
          [
           "Cryptonight-GPU"
          ],
          [
           "XEVAN"
          ],
          [
           "SHA-256"
          ],
          [
           "X11"
          ],
          [
           "X16R"
          ],
          [
           "Equihash"
          ],
          [
           "Lyra2Z"
          ],
          [
           "SHA-256"
          ],
          [
           "CryptoNight"
          ],
          [
           "Blake"
          ],
          [
           "Blake"
          ],
          [
           "Exosis"
          ],
          [
           "Scrypt"
          ],
          [
           "Equihash"
          ],
          [
           "Equihash"
          ],
          [
           "QuBit"
          ],
          [
           "SHA-256"
          ],
          [
           "X13"
          ],
          [
           "SHA-256"
          ],
          [
           "Scrypt"
          ],
          [
           "NeoScrypt"
          ],
          [
           "Blake"
          ],
          [
           "Scrypt"
          ],
          [
           "SHA-256"
          ],
          [
           "Scrypt"
          ],
          [
           "Groestl"
          ],
          [
           "Scrypt"
          ],
          [
           "Scrypt"
          ],
          [
           "Multiple"
          ],
          [
           "Equihash+Scrypt"
          ],
          [
           "Ethash"
          ],
          [
           "CryptoNight"
          ],
          [
           "Equihash"
          ]
         ],
         "hovertemplate": "Class=%{marker.color}<br>PC 1=%{x}<br>PC 2=%{y}<br>PC 3=%{z}<br>Algorithm=%{customdata[0]}<extra></extra>",
         "legendgroup": "4",
         "marker": {
          "color": [
           4,
           4,
           4,
           4,
           4,
           4,
           4,
           4,
           4,
           4,
           4,
           4,
           4,
           4,
           4,
           4,
           4,
           4,
           4,
           4,
           4,
           4,
           4,
           4,
           4,
           4,
           4,
           4,
           4,
           4,
           4,
           4,
           4,
           4,
           4,
           4,
           4,
           4,
           4,
           4,
           4,
           4,
           4,
           4,
           4,
           4,
           4,
           4,
           4,
           4,
           4,
           4,
           4,
           4,
           4,
           4,
           4,
           4,
           4,
           4,
           4,
           4,
           4,
           4,
           4,
           4,
           4,
           4,
           4,
           4,
           4,
           4,
           4,
           4,
           4,
           4,
           4,
           4,
           4,
           4,
           4,
           4,
           4,
           4,
           4,
           4,
           4,
           4,
           4,
           4,
           4,
           4,
           4,
           4,
           4,
           4,
           4,
           4,
           4,
           4,
           4,
           4,
           4,
           4,
           4,
           4,
           4,
           4,
           4,
           4,
           4,
           4,
           4,
           4,
           4,
           4,
           4,
           4,
           4,
           4,
           4,
           4,
           4,
           4,
           4,
           4,
           4,
           4,
           4,
           4,
           4,
           4,
           4,
           4,
           4,
           4,
           4,
           4,
           4,
           4,
           4,
           4,
           4,
           4,
           4,
           4,
           4,
           4,
           4,
           4,
           4,
           4,
           4,
           4,
           4,
           4,
           4,
           4,
           4,
           4,
           4,
           4,
           4,
           4,
           4,
           4,
           4,
           4,
           4,
           4,
           4,
           4,
           4,
           4,
           4,
           4,
           4,
           4,
           4,
           4,
           4,
           4,
           4,
           4,
           4,
           4,
           4,
           4,
           4,
           4,
           4,
           4,
           4,
           4,
           4,
           4,
           4,
           4,
           4,
           4,
           4,
           4,
           4,
           4,
           4,
           4,
           4,
           4,
           4,
           4,
           4,
           4,
           4,
           4,
           4,
           4,
           4,
           4,
           4,
           4,
           4,
           4,
           4,
           4,
           4,
           4,
           4,
           4,
           4,
           4,
           4,
           4,
           4
          ],
          "coloraxis": "coloraxis",
          "symbol": "square"
         },
         "mode": "markers",
         "name": "4",
         "scene": "scene",
         "showlegend": true,
         "type": "scatter3d",
         "x": [
          -0.15168326897951087,
          -0.14179654836291272,
          -0.16553159036788032,
          -0.16038218827816905,
          -0.14023689010477747,
          -0.1287415152495712,
          0.17126693004337465,
          -0.16667840233323447,
          -0.22865103645093748,
          -0.16629459114028033,
          -0.08230208488024883,
          -0.14876683282604908,
          -0.16354836544283646,
          -0.16609833942309177,
          -0.23507060320571724,
          -0.20431472087426583,
          -0.166147492243446,
          -0.16666066660745357,
          -0.1667471876259398,
          -0.22874040213096672,
          0.19498616759039766,
          0.22635300366011724,
          0.0821056239005026,
          -0.16649340045666258,
          -0.1620962551439253,
          -0.16643260823897116,
          -0.16680421005129076,
          -0.16195784734966384,
          -0.14601425145605879,
          -0.1655987699158648,
          -0.16587622853082098,
          1.5829356433187918,
          -0.1516446346113875,
          -0.16316394870390719,
          -0.1665198519298919,
          -0.16687483618958646,
          -0.1661337176889009,
          -0.16051644708584126,
          -0.1667560280142354,
          -0.0315388884276399,
          -0.15172225278495413,
          -0.1604169414536398,
          -0.1667353873656061,
          -0.16482786933181495,
          -0.1662218601946141,
          -0.13886676167463563,
          -0.15118577888500587,
          -0.1514730485193092,
          -0.15145575529652344,
          -0.15204709997358437,
          -0.2289144445794191,
          -0.16645183435017016,
          -0.21186113892548536,
          -0.16355296767171484,
          -0.15125309492047656,
          0.4642467844107963,
          -0.16531871972909892,
          -0.14990464679449494,
          -0.16403696571707485,
          -0.16687703642035726,
          -0.16390203828056285,
          -0.15011820989422833,
          -0.16709946004267062,
          -0.11632656663250363,
          -0.17705996950763783,
          -0.16675009615252587,
          -0.0396028487701423,
          -0.11395384949355326,
          -0.16688594445137342,
          -0.15175003305687512,
          0.4860040225317919,
          -0.2283013301258487,
          -0.14793394363214166,
          -0.15148963135618013,
          -0.22858634438672343,
          -0.16500801713915914,
          -0.1641998899150578,
          -0.1428639894400556,
          0.3483847154637445,
          -0.228621780999168,
          -0.1516457570739228,
          -0.16284188344657846,
          -0.14716571049221644,
          -0.16544854868076334,
          0.26703653413179146,
          -0.22778192559596894,
          -0.16176148012047867,
          -0.1656953863980513,
          -0.14977113420921076,
          -0.1666756944377862,
          -0.22858495542929497,
          -0.16688600297403197,
          -0.22873494145067952,
          -0.16115910771787295,
          0.3090634974640186,
          -0.1519059497733066,
          -0.09638834032388068,
          -0.1640509843019754,
          -0.15186456876903495,
          -0.1665491562405184,
          -0.1532637312366927,
          -0.14260605313473143,
          -0.12876313447605361,
          -0.09353212321203241,
          -0.2153134686859344,
          -0.22656140199738567,
          0.30905794051330404,
          -0.16686772379178771,
          0.30918869858725356,
          -0.1484748468322136,
          0.4873063109405624,
          -0.15914542813865812,
          -0.16683600306368118,
          -0.22146120645958647,
          -0.12877553950046064,
          -0.1649683816028717,
          -0.1481931189452608,
          -0.1429451486360001,
          -0.13772781184924987,
          -0.17979086604403585,
          -0.16639810346625672,
          -0.11820966631719532,
          -0.16621988638028692,
          -0.15900372880980757,
          -0.16787601948927247,
          -0.051956151390374294,
          -0.1302295431117326,
          0.3451979100841909,
          -0.22779020417740725,
          -0.16653956148397794,
          -0.16630251505158772,
          -0.22818521341361467,
          -0.22876302100752272,
          0.3094532066675651,
          -0.13520897486911207,
          -0.12868940312165816,
          -0.21962640606757267,
          -0.15168243311258786,
          -0.09237612277698265,
          1.5803090201020404,
          -0.16663741364454893,
          -0.16608853845260194,
          -0.16578936778723055,
          -0.16577629739596636,
          0.30963708739637646,
          0.08372395404419666,
          -0.1831324751983661,
          -0.16664929235193143,
          -0.12862154631743966,
          -0.1605195373211368,
          -0.1649665905772069,
          -0.2243046052718393,
          -0.1664945585075823,
          -0.14096925511266736,
          -0.1665948691918246,
          -0.1065526244137003,
          1.1476993197382497,
          0.30904064698024186,
          -0.06578063460372127,
          -0.22404470731164133,
          -0.14810823162682393,
          -0.08298090252555725,
          1.0727738046470292,
          -0.22873701048363126,
          -0.16664689413939326,
          -0.15968059914348853,
          -0.16588802095231864,
          -0.22866238726963747,
          -0.15166183446408824,
          -0.15739911682093427,
          -0.160591579736246,
          0.31291780703136135,
          0.02624617908553699,
          -0.16002310976235362,
          -0.19741038588708404,
          -0.16646197714272754,
          0.14077808908994208,
          -0.22279925808029122,
          -0.09395808807078318,
          0.3169717190793172,
          -0.1666991491161426,
          -0.1500463087562988,
          -0.12761218126400614,
          -0.15104500685386488,
          -0.2278309807878406,
          0.3092232269293963,
          -0.1798505303339394,
          -0.1483199520392558,
          -0.21500337872797964,
          -0.1533481950255318,
          0.31315604082638065,
          0.6024190679073284,
          2.119221089287639,
          -0.13873323976962687,
          0.32283664654230404,
          -0.1997266169697679,
          -0.17231763093801783,
          -0.22871916021278318,
          -0.1667237255043213,
          -0.14798268269521678,
          -0.1308457208139533,
          -0.08865549335895373,
          -0.11149107027119538,
          -0.22869049403733033,
          -0.19915371882728586,
          -0.023302308477238062,
          -0.15274535550904578,
          -0.15168247068189347,
          0.3890497277739055,
          -0.15966883913259117,
          -0.16006147993577657,
          -0.122511016379493,
          -0.16561520280044392,
          -0.12667970715648463,
          -0.12845427668781778,
          -0.17627014063877813,
          -0.15095822859600744,
          -0.10895931236555319,
          -0.14982530097589722,
          0.5299719853348273,
          -0.09177610657175717,
          -0.11047152801331646,
          -0.15026881149633928,
          -0.15147241890557062,
          0.5493866469542165,
          -0.2038755243805127,
          -0.16680069514815626,
          -0.16475492007795722,
          -0.11706150743459912,
          -0.1468776974241593,
          -0.1426392274656101,
          0.3308100125463276,
          -0.128742572306279
         ],
         "y": [
          -1.3469950405024662,
          -2.0237952636807073,
          -1.1033800862198329,
          -2.2169445378840553,
          -2.0239086078989437,
          -2.033889940940298,
          -1.8481507535897768,
          -1.1033618536942165,
          -0.9496920061962604,
          -1.1033835650805262,
          -1.8405081049212169,
          -1.3470332743597115,
          -1.1034522519343002,
          -1.1034046475488704,
          -0.48573770001562855,
          -1.2598199341873924,
          -1.103368870185142,
          -1.1033614417048982,
          -1.1033578531882136,
          -0.9496926575877436,
          -1.8444337869270098,
          -1.3531559535721134,
          -1.107183281252323,
          -1.1033575562215294,
          -1.1034539854092293,
          -1.1033639788897722,
          -1.1033578215105497,
          -1.5978724889716482,
          -1.1038787213206893,
          -1.103371675152808,
          -1.1033797198516135,
          -1.1272350285963961,
          -1.3469941430513417,
          -1.1034543057640607,
          -1.1033574584145356,
          -1.1033524208658252,
          -1.1033641584319296,
          -2.2270169547453915,
          -1.1033558220563262,
          -1.110891555147612,
          -1.346995946070787,
          -1.1034414773979366,
          -1.1033631774192767,
          -1.1034819739734372,
          -1.1033727586930877,
          -1.347314848605576,
          -1.3470020113501724,
          -1.3470051146245892,
          -1.3470317786966621,
          -1.3469887127170084,
          -0.9496838798463396,
          -1.1033580151829012,
          -1.2967025790482472,
          -1.103463342420444,
          -1.347002142018526,
          -2.3183196729970397,
          -1.1033901842509313,
          -1.1041538453915585,
          -1.1034040471066069,
          -1.1033533822407438,
          -1.1033963643544897,
          -1.1036744712704523,
          -2.2777613672373582,
          -1.8398739565362174,
          -1.5892400695120674,
          -1.1033509629485831,
          -1.1075175885267017,
          -2.1636918773588363,
          -1.1033521585837653,
          -1.3469965913883488,
          -1.1537131936630833,
          -0.9496931420934637,
          -2.225289312002942,
          -1.3470138759804278,
          -0.949691215699317,
          -1.1034578393338552,
          -1.1034673864219937,
          -2.0238321013461875,
          -2.2027447922838963,
          -0.9496884775815156,
          -1.3469941691254126,
          -1.1034073505220432,
          -2.171267515712787,
          -1.1033781572157104,
          -1.35265697433068,
          -0.9497174017946104,
          -2.2179232045642623,
          -1.103443970934713,
          -2.2171174122686055,
          -1.103361078534146,
          -0.9496940324644634,
          -1.1033521577850678,
          -0.9496975165417186,
          -1.3771265596208901,
          -2.3148090276098667,
          -1.3469921903640834,
          -1.8402655134853438,
          -1.1034283145704216,
          -1.3469918717788525,
          -1.1033652617088199,
          -2.1892861781168325,
          -2.023832733037367,
          -2.0338904431408,
          -1.1087703303271779,
          -0.9497240667800395,
          -0.9497916148989808,
          -2.3148169915259293,
          -1.1033532273723128,
          -2.314816803131047,
          -2.2252621406290842,
          -1.0042722827641115,
          -2.217047576378818,
          -1.1033529504351234,
          -0.9502230034257001,
          -2.03388788227169,
          -1.1033783993671766,
          -2.225263431106831,
          -2.226236263020876,
          -1.1055234227111976,
          -0.6248136791311522,
          -1.1033656847975088,
          -1.3479831567576313,
          -1.1033875277972127,
          -2.2169873042016195,
          -2.1807819551637047,
          -2.2122868176272656,
          -2.1595648817795836,
          -2.315387041105426,
          -0.9497289902195255,
          -1.103357401150023,
          -1.103391583979536,
          -0.9497096757287327,
          -0.9496938240411505,
          -2.3148313142466748,
          -2.1031418215028608,
          -1.231015448094226,
          -0.9502516079546959,
          -1.346995021085822,
          -1.1090996059075175,
          -1.062765520187008,
          -1.1033601892963365,
          -1.1033930237598526,
          -1.103397470339694,
          -1.103397166723047,
          -2.314851892687217,
          -2.043896955564924,
          -0.9499024579916999,
          -1.5977613806271715,
          -2.0338871541404084,
          -2.2179843179535106,
          -1.103378357762821,
          -0.9498260863923973,
          -1.5977706068948299,
          -2.0239754782795414,
          -1.5977635352483939,
          -1.8401170041498558,
          -2.355862824506795,
          -2.3148113390552467,
          -2.029152037982464,
          -0.9499625006186174,
          -2.2173713100283674,
          -1.1049639452159734,
          -1.307882913006187,
          -0.9496938608653664,
          -1.5977570513736825,
          -1.5979364002025918,
          -1.103374120720769,
          -0.9496944066406501,
          -1.346993948569983,
          -1.1984923995037304,
          -2.1799664388648767,
          -2.314951690439706,
          -1.1059879586444308,
          -2.217932681377027,
          -1.2970905510480673,
          -1.1033703591696518,
          -1.1093153910801086,
          -0.9498979567754258,
          -2.0273136808067824,
          -2.3153304596456787,
          -1.1033623356284248,
          -2.254113008325415,
          -2.0338986078639416,
          -2.1894330735194125,
          -0.9497299374335366,
          -2.3148113001611867,
          -0.6247956546541339,
          -2.2252701380759454,
          -2.2196498816915162,
          -2.189280376549461,
          -2.3151341927547886,
          -2.1873740617191215,
          -2.403808494287567,
          -2.2423505409951585,
          -2.315194221213664,
          -1.2981793546901002,
          -2.2381870814998686,
          -0.9496943009241562,
          -1.103363693753645,
          -2.2179029559752537,
          -2.196786645543312,
          -0.6338290089860391,
          -1.3475421851903726,
          -0.9496964840573547,
          -1.2982215488023066,
          -2.0368388561367743,
          -2.1893187239025695,
          -1.3469950219585323,
          -2.318698917213177,
          -2.1907021757272167,
          -2.1906543934146585,
          -2.2219689410336927,
          -1.1034076697494724,
          -2.034014270332317,
          -2.0338903099531818,
          -1.5892929480466178,
          -1.3470088253576833,
          -0.3681916296362923,
          -1.3470565829621897,
          -1.157036616944355,
          -1.5988519242229857,
          -2.1944702838495416,
          -1.1036779696472456,
          -1.3470050999990733,
          -1.122326044664333,
          -1.2598246893459024,
          -1.103353298357506,
          -1.1034318459047108,
          -1.839893023051542,
          -2.234426052816174,
          -2.0238322802855917,
          -2.3152940666598765,
          -2.033889965495034
         ],
         "z": [
          0.21570934518984017,
          0.3901690869048609,
          0.013716061161586784,
          0.5751004343382695,
          0.39015538472974454,
          0.38832588053300826,
          0.3463068546462839,
          0.013741721472382189,
          0.028053973396945,
          0.013736869976849732,
          0.35111611401980325,
          0.21564214215339342,
          0.013681412730933798,
          0.013736778422009694,
          0.09405155862397924,
          0.11220059915162411,
          0.01372950127822781,
          0.013741158516610412,
          0.013742564737128773,
          0.02805646899826318,
          0.3447961339682249,
          0.20728673290066488,
          0.008143053687900999,
          0.013735849264189621,
          0.013643810050788385,
          0.013735795057569961,
          0.01374405005549674,
          0.22709631980369419,
          0.013324436821481371,
          0.013715806632451479,
          0.013724996417308089,
          -0.026350318376922713,
          0.21570811888307556,
          0.01367183996135748,
          0.013736518376765284,
          0.013744606364760029,
          0.013728012797158594,
          0.48187142625183604,
          0.013742309995750367,
          0.01200602234039432,
          0.21571058258821826,
          0.013596849992922072,
          0.013743530253893832,
          0.013722025903938237,
          0.013732379091897626,
          0.2154503492235581,
          0.21569798903718151,
          0.21570625285732015,
          0.2157121826710682,
          0.21571735595033437,
          0.028058924470272348,
          0.013734870885574995,
          0.2694987223804567,
          0.01368418794621124,
          0.21569978271269116,
          0.4568377660918246,
          0.013712905167961835,
          0.013492147373957288,
          0.013682665980849981,
          0.013744894092755306,
          0.013677294436084345,
          0.013382991094850213,
          0.6164783180123026,
          0.35185511132988684,
          0.18585299912185568,
          0.013740991571612102,
          0.011409519610657393,
          0.5238524490446324,
          0.013744834407225069,
          0.2157114643713839,
          0.008706455297175572,
          0.02804508965374265,
          0.4294782299075604,
          0.21570878421339687,
          0.028052090476618705,
          0.013720965246358576,
          0.013702092993287849,
          0.3902058513370603,
          0.5572810496332645,
          0.028052362818653774,
          0.2157081545115449,
          0.013652168333560477,
          0.478841051722602,
          0.013713425306833591,
          0.20610215915678776,
          0.028037298185337012,
          0.5130560123881431,
          0.013735641551440891,
          0.4804258436128066,
          0.013741465027407796,
          0.028052728360177977,
          0.013744835748219796,
          0.028057489118067932,
          0.23487953696022928,
          0.46006026976600173,
          0.21571449294735273,
          0.35142683651162515,
          0.01368884189232489,
          0.2157133332939165,
          0.013739153462304572,
          0.5044287462046022,
          0.3901992495282209,
          0.3883265667563113,
          0.013121307258801807,
          0.02771245758344927,
          0.028023108079666348,
          0.4600623215711561,
          0.013744613208545007,
          0.4600588531050935,
          0.4294858872657292,
          0.02237438850568876,
          0.5750927190650498,
          0.013743716439549277,
          0.027992841409379285,
          0.38832627853752266,
          0.013700912042207577,
          0.4294788202642149,
          0.45835629183550913,
          0.013501181410092267,
          -0.002483247043331923,
          0.013735300032331482,
          0.21506949954185361,
          0.013735862689238678,
          0.5750745819192221,
          0.5190456529928078,
          0.5700464224496936,
          0.49212593931745835,
          0.4592525954872266,
          0.028040288842376786,
          0.013737020684155334,
          0.013738996912514448,
          0.028046007257052703,
          0.028057340395263745,
          0.46005540155242014,
          0.36054507136375624,
          0.2743516295698592,
          0.027951651652455643,
          0.21570931865830237,
          0.013169860618248961,
          -0.04171358749804995,
          0.013740249943583648,
          0.013733739442295374,
          0.013726971247050166,
          0.013726556375265615,
          0.4600555132328545,
          0.3851587080581784,
          0.02691263015483145,
          0.227192550318347,
          0.3883220725578718,
          0.5130381258347462,
          0.013700855192645979,
          0.027972274432122645,
          0.2271907077273817,
          0.39019056547070297,
          0.227191641219226,
          0.35165739847256716,
          0.44793101913228806,
          0.46006142130290045,
          0.3894611669786796,
          0.027998123468317686,
          0.574881246794706,
          0.011933933665468969,
          0.2457952983198674,
          0.02805666822973943,
          0.22719145123945603,
          0.22705199769348472,
          0.013723964892680447,
          0.02805484516538631,
          0.2157085226385759,
          -0.03372237298727064,
          0.5472814538050517,
          0.45999350943158024,
          0.009319382969803263,
          0.5130127686680803,
          0.26921325667559254,
          0.013738091207914494,
          0.0071173151979646125,
          0.027950066599229367,
          0.389758832652444,
          0.45997803999015807,
          0.013742380003153972,
          0.3560349639141134,
          0.3882983880985069,
          0.5044058201864785,
          0.02804158314679303,
          0.4600566318770678,
          -0.002485999486564182,
          0.4294837463187073,
          0.7157614377074362,
          0.5044295688279768,
          0.4600309577407648,
          0.30679008867488405,
          0.4339723931411377,
          0.44749490861091307,
          0.45979187931041043,
          0.18685495289393123,
          0.48814504782371776,
          0.028056306229433475,
          0.013743348530054312,
          0.575005219650907,
          0.3825164274093502,
          0.170514268088806,
          0.21478804518053246,
          0.02805607829743372,
          0.1868500538638795,
          0.3862712628353845,
          0.5044229651074732,
          0.21570931985080258,
          0.4588972756806443,
          0.49907280275920846,
          0.4990716448366536,
          0.194230729866187,
          0.013724852870977116,
          0.3883016611162058,
          0.3883184486861937,
          0.1858449781654493,
          0.215693662621212,
          -0.0797537505813823,
          0.21567543322027372,
          0.008350858743279137,
          0.2254933424080394,
          0.4986867409257657,
          0.013387771392099701,
          0.21570623287253402,
          -0.0004660891988746667,
          0.11219023881206902,
          0.013742875326942357,
          0.013708116890691189,
          0.35187891671831134,
          0.5978118767503171,
          0.3902000096886,
          0.4596070290046314,
          0.3883259140854084
         ]
        },
        {
         "customdata": [
          [
           "VeChainThor Authority"
          ],
          [
           "Proof-of-BibleHash"
          ],
          [
           "SHA-256 + Hive"
          ],
          [
           "Proof-of-Authority"
          ],
          [
           "ECC 256K1"
          ],
          [
           "SHA3-256"
          ],
          [
           "Leased POS"
          ]
         ],
         "hovertemplate": "Class=%{marker.color}<br>PC 1=%{x}<br>PC 2=%{y}<br>PC 3=%{z}<br>Algorithm=%{customdata[0]}<extra></extra>",
         "legendgroup": "1",
         "marker": {
          "color": [
           1,
           1,
           1,
           1,
           1,
           1,
           1
          ],
          "coloraxis": "coloraxis",
          "symbol": "x"
         },
         "mode": "markers",
         "name": "1",
         "scene": "scene",
         "showlegend": true,
         "type": "scatter3d",
         "x": [
          4.394199607915626,
          -0.15621427020497952,
          -0.3313565536273812,
          -0.3978644351414249,
          -0.3552316073431643,
          -0.5880504788240114,
          -0.41228907524472636
         ],
         "y": [
          2.5639934165432714,
          3.744357874911118,
          3.535369950849557,
          3.431195987723399,
          2.6901752912085586,
          2.7627293314031123,
          3.126693207186927
         ],
         "z": [
          7.638587205849448,
          8.464265447142765,
          17.338468913961194,
          13.36931142223118,
          9.898793728343138,
          13.846938774282052,
          8.794328594862233
         ]
        },
        {
         "customdata": [
          [
           "TRC10"
          ]
         ],
         "hovertemplate": "Class=%{marker.color}<br>PC 1=%{x}<br>PC 2=%{y}<br>PC 3=%{z}<br>Algorithm=%{customdata[0]}<extra></extra>",
         "legendgroup": "2",
         "marker": {
          "color": [
           2
          ],
          "coloraxis": "coloraxis",
          "symbol": "cross"
         },
         "mode": "markers",
         "name": "2",
         "scene": "scene",
         "showlegend": true,
         "type": "scatter3d",
         "x": [
          34.070224441661324
         ],
         "y": [
          1.5336324498544713
         ],
         "z": [
          -1.0462702632930505
         ]
        }
       ],
       "layout": {
        "coloraxis": {
         "colorbar": {
          "title": {
           "text": "Class"
          }
         },
         "colorscale": [
          [
           0,
           "#0d0887"
          ],
          [
           0.1111111111111111,
           "#46039f"
          ],
          [
           0.2222222222222222,
           "#7201a8"
          ],
          [
           0.3333333333333333,
           "#9c179e"
          ],
          [
           0.4444444444444444,
           "#bd3786"
          ],
          [
           0.5555555555555556,
           "#d8576b"
          ],
          [
           0.6666666666666666,
           "#ed7953"
          ],
          [
           0.7777777777777778,
           "#fb9f3a"
          ],
          [
           0.8888888888888888,
           "#fdca26"
          ],
          [
           1,
           "#f0f921"
          ]
         ]
        },
        "legend": {
         "title": {
          "text": "Class"
         },
         "tracegroupgap": 0,
         "x": 0,
         "y": 1
        },
        "margin": {
         "t": 60
        },
        "scene": {
         "domain": {
          "x": [
           0,
           1
          ],
          "y": [
           0,
           1
          ]
         },
         "xaxis": {
          "title": {
           "text": "PC 1"
          }
         },
         "yaxis": {
          "title": {
           "text": "PC 2"
          }
         },
         "zaxis": {
          "title": {
           "text": "PC 3"
          }
         }
        },
        "template": {
         "data": {
          "bar": [
           {
            "error_x": {
             "color": "#2a3f5f"
            },
            "error_y": {
             "color": "#2a3f5f"
            },
            "marker": {
             "line": {
              "color": "#E5ECF6",
              "width": 0.5
             },
             "pattern": {
              "fillmode": "overlay",
              "size": 10,
              "solidity": 0.2
             }
            },
            "type": "bar"
           }
          ],
          "barpolar": [
           {
            "marker": {
             "line": {
              "color": "#E5ECF6",
              "width": 0.5
             },
             "pattern": {
              "fillmode": "overlay",
              "size": 10,
              "solidity": 0.2
             }
            },
            "type": "barpolar"
           }
          ],
          "carpet": [
           {
            "aaxis": {
             "endlinecolor": "#2a3f5f",
             "gridcolor": "white",
             "linecolor": "white",
             "minorgridcolor": "white",
             "startlinecolor": "#2a3f5f"
            },
            "baxis": {
             "endlinecolor": "#2a3f5f",
             "gridcolor": "white",
             "linecolor": "white",
             "minorgridcolor": "white",
             "startlinecolor": "#2a3f5f"
            },
            "type": "carpet"
           }
          ],
          "choropleth": [
           {
            "colorbar": {
             "outlinewidth": 0,
             "ticks": ""
            },
            "type": "choropleth"
           }
          ],
          "contour": [
           {
            "colorbar": {
             "outlinewidth": 0,
             "ticks": ""
            },
            "colorscale": [
             [
              0,
              "#0d0887"
             ],
             [
              0.1111111111111111,
              "#46039f"
             ],
             [
              0.2222222222222222,
              "#7201a8"
             ],
             [
              0.3333333333333333,
              "#9c179e"
             ],
             [
              0.4444444444444444,
              "#bd3786"
             ],
             [
              0.5555555555555556,
              "#d8576b"
             ],
             [
              0.6666666666666666,
              "#ed7953"
             ],
             [
              0.7777777777777778,
              "#fb9f3a"
             ],
             [
              0.8888888888888888,
              "#fdca26"
             ],
             [
              1,
              "#f0f921"
             ]
            ],
            "type": "contour"
           }
          ],
          "contourcarpet": [
           {
            "colorbar": {
             "outlinewidth": 0,
             "ticks": ""
            },
            "type": "contourcarpet"
           }
          ],
          "heatmap": [
           {
            "colorbar": {
             "outlinewidth": 0,
             "ticks": ""
            },
            "colorscale": [
             [
              0,
              "#0d0887"
             ],
             [
              0.1111111111111111,
              "#46039f"
             ],
             [
              0.2222222222222222,
              "#7201a8"
             ],
             [
              0.3333333333333333,
              "#9c179e"
             ],
             [
              0.4444444444444444,
              "#bd3786"
             ],
             [
              0.5555555555555556,
              "#d8576b"
             ],
             [
              0.6666666666666666,
              "#ed7953"
             ],
             [
              0.7777777777777778,
              "#fb9f3a"
             ],
             [
              0.8888888888888888,
              "#fdca26"
             ],
             [
              1,
              "#f0f921"
             ]
            ],
            "type": "heatmap"
           }
          ],
          "heatmapgl": [
           {
            "colorbar": {
             "outlinewidth": 0,
             "ticks": ""
            },
            "colorscale": [
             [
              0,
              "#0d0887"
             ],
             [
              0.1111111111111111,
              "#46039f"
             ],
             [
              0.2222222222222222,
              "#7201a8"
             ],
             [
              0.3333333333333333,
              "#9c179e"
             ],
             [
              0.4444444444444444,
              "#bd3786"
             ],
             [
              0.5555555555555556,
              "#d8576b"
             ],
             [
              0.6666666666666666,
              "#ed7953"
             ],
             [
              0.7777777777777778,
              "#fb9f3a"
             ],
             [
              0.8888888888888888,
              "#fdca26"
             ],
             [
              1,
              "#f0f921"
             ]
            ],
            "type": "heatmapgl"
           }
          ],
          "histogram": [
           {
            "marker": {
             "pattern": {
              "fillmode": "overlay",
              "size": 10,
              "solidity": 0.2
             }
            },
            "type": "histogram"
           }
          ],
          "histogram2d": [
           {
            "colorbar": {
             "outlinewidth": 0,
             "ticks": ""
            },
            "colorscale": [
             [
              0,
              "#0d0887"
             ],
             [
              0.1111111111111111,
              "#46039f"
             ],
             [
              0.2222222222222222,
              "#7201a8"
             ],
             [
              0.3333333333333333,
              "#9c179e"
             ],
             [
              0.4444444444444444,
              "#bd3786"
             ],
             [
              0.5555555555555556,
              "#d8576b"
             ],
             [
              0.6666666666666666,
              "#ed7953"
             ],
             [
              0.7777777777777778,
              "#fb9f3a"
             ],
             [
              0.8888888888888888,
              "#fdca26"
             ],
             [
              1,
              "#f0f921"
             ]
            ],
            "type": "histogram2d"
           }
          ],
          "histogram2dcontour": [
           {
            "colorbar": {
             "outlinewidth": 0,
             "ticks": ""
            },
            "colorscale": [
             [
              0,
              "#0d0887"
             ],
             [
              0.1111111111111111,
              "#46039f"
             ],
             [
              0.2222222222222222,
              "#7201a8"
             ],
             [
              0.3333333333333333,
              "#9c179e"
             ],
             [
              0.4444444444444444,
              "#bd3786"
             ],
             [
              0.5555555555555556,
              "#d8576b"
             ],
             [
              0.6666666666666666,
              "#ed7953"
             ],
             [
              0.7777777777777778,
              "#fb9f3a"
             ],
             [
              0.8888888888888888,
              "#fdca26"
             ],
             [
              1,
              "#f0f921"
             ]
            ],
            "type": "histogram2dcontour"
           }
          ],
          "mesh3d": [
           {
            "colorbar": {
             "outlinewidth": 0,
             "ticks": ""
            },
            "type": "mesh3d"
           }
          ],
          "parcoords": [
           {
            "line": {
             "colorbar": {
              "outlinewidth": 0,
              "ticks": ""
             }
            },
            "type": "parcoords"
           }
          ],
          "pie": [
           {
            "automargin": true,
            "type": "pie"
           }
          ],
          "scatter": [
           {
            "marker": {
             "colorbar": {
              "outlinewidth": 0,
              "ticks": ""
             }
            },
            "type": "scatter"
           }
          ],
          "scatter3d": [
           {
            "line": {
             "colorbar": {
              "outlinewidth": 0,
              "ticks": ""
             }
            },
            "marker": {
             "colorbar": {
              "outlinewidth": 0,
              "ticks": ""
             }
            },
            "type": "scatter3d"
           }
          ],
          "scattercarpet": [
           {
            "marker": {
             "colorbar": {
              "outlinewidth": 0,
              "ticks": ""
             }
            },
            "type": "scattercarpet"
           }
          ],
          "scattergeo": [
           {
            "marker": {
             "colorbar": {
              "outlinewidth": 0,
              "ticks": ""
             }
            },
            "type": "scattergeo"
           }
          ],
          "scattergl": [
           {
            "marker": {
             "colorbar": {
              "outlinewidth": 0,
              "ticks": ""
             }
            },
            "type": "scattergl"
           }
          ],
          "scattermapbox": [
           {
            "marker": {
             "colorbar": {
              "outlinewidth": 0,
              "ticks": ""
             }
            },
            "type": "scattermapbox"
           }
          ],
          "scatterpolar": [
           {
            "marker": {
             "colorbar": {
              "outlinewidth": 0,
              "ticks": ""
             }
            },
            "type": "scatterpolar"
           }
          ],
          "scatterpolargl": [
           {
            "marker": {
             "colorbar": {
              "outlinewidth": 0,
              "ticks": ""
             }
            },
            "type": "scatterpolargl"
           }
          ],
          "scatterternary": [
           {
            "marker": {
             "colorbar": {
              "outlinewidth": 0,
              "ticks": ""
             }
            },
            "type": "scatterternary"
           }
          ],
          "surface": [
           {
            "colorbar": {
             "outlinewidth": 0,
             "ticks": ""
            },
            "colorscale": [
             [
              0,
              "#0d0887"
             ],
             [
              0.1111111111111111,
              "#46039f"
             ],
             [
              0.2222222222222222,
              "#7201a8"
             ],
             [
              0.3333333333333333,
              "#9c179e"
             ],
             [
              0.4444444444444444,
              "#bd3786"
             ],
             [
              0.5555555555555556,
              "#d8576b"
             ],
             [
              0.6666666666666666,
              "#ed7953"
             ],
             [
              0.7777777777777778,
              "#fb9f3a"
             ],
             [
              0.8888888888888888,
              "#fdca26"
             ],
             [
              1,
              "#f0f921"
             ]
            ],
            "type": "surface"
           }
          ],
          "table": [
           {
            "cells": {
             "fill": {
              "color": "#EBF0F8"
             },
             "line": {
              "color": "white"
             }
            },
            "header": {
             "fill": {
              "color": "#C8D4E3"
             },
             "line": {
              "color": "white"
             }
            },
            "type": "table"
           }
          ]
         },
         "layout": {
          "annotationdefaults": {
           "arrowcolor": "#2a3f5f",
           "arrowhead": 0,
           "arrowwidth": 1
          },
          "autotypenumbers": "strict",
          "coloraxis": {
           "colorbar": {
            "outlinewidth": 0,
            "ticks": ""
           }
          },
          "colorscale": {
           "diverging": [
            [
             0,
             "#8e0152"
            ],
            [
             0.1,
             "#c51b7d"
            ],
            [
             0.2,
             "#de77ae"
            ],
            [
             0.3,
             "#f1b6da"
            ],
            [
             0.4,
             "#fde0ef"
            ],
            [
             0.5,
             "#f7f7f7"
            ],
            [
             0.6,
             "#e6f5d0"
            ],
            [
             0.7,
             "#b8e186"
            ],
            [
             0.8,
             "#7fbc41"
            ],
            [
             0.9,
             "#4d9221"
            ],
            [
             1,
             "#276419"
            ]
           ],
           "sequential": [
            [
             0,
             "#0d0887"
            ],
            [
             0.1111111111111111,
             "#46039f"
            ],
            [
             0.2222222222222222,
             "#7201a8"
            ],
            [
             0.3333333333333333,
             "#9c179e"
            ],
            [
             0.4444444444444444,
             "#bd3786"
            ],
            [
             0.5555555555555556,
             "#d8576b"
            ],
            [
             0.6666666666666666,
             "#ed7953"
            ],
            [
             0.7777777777777778,
             "#fb9f3a"
            ],
            [
             0.8888888888888888,
             "#fdca26"
            ],
            [
             1,
             "#f0f921"
            ]
           ],
           "sequentialminus": [
            [
             0,
             "#0d0887"
            ],
            [
             0.1111111111111111,
             "#46039f"
            ],
            [
             0.2222222222222222,
             "#7201a8"
            ],
            [
             0.3333333333333333,
             "#9c179e"
            ],
            [
             0.4444444444444444,
             "#bd3786"
            ],
            [
             0.5555555555555556,
             "#d8576b"
            ],
            [
             0.6666666666666666,
             "#ed7953"
            ],
            [
             0.7777777777777778,
             "#fb9f3a"
            ],
            [
             0.8888888888888888,
             "#fdca26"
            ],
            [
             1,
             "#f0f921"
            ]
           ]
          },
          "colorway": [
           "#636efa",
           "#EF553B",
           "#00cc96",
           "#ab63fa",
           "#FFA15A",
           "#19d3f3",
           "#FF6692",
           "#B6E880",
           "#FF97FF",
           "#FECB52"
          ],
          "font": {
           "color": "#2a3f5f"
          },
          "geo": {
           "bgcolor": "white",
           "lakecolor": "white",
           "landcolor": "#E5ECF6",
           "showlakes": true,
           "showland": true,
           "subunitcolor": "white"
          },
          "hoverlabel": {
           "align": "left"
          },
          "hovermode": "closest",
          "mapbox": {
           "style": "light"
          },
          "paper_bgcolor": "white",
          "plot_bgcolor": "#E5ECF6",
          "polar": {
           "angularaxis": {
            "gridcolor": "white",
            "linecolor": "white",
            "ticks": ""
           },
           "bgcolor": "#E5ECF6",
           "radialaxis": {
            "gridcolor": "white",
            "linecolor": "white",
            "ticks": ""
           }
          },
          "scene": {
           "xaxis": {
            "backgroundcolor": "#E5ECF6",
            "gridcolor": "white",
            "gridwidth": 2,
            "linecolor": "white",
            "showbackground": true,
            "ticks": "",
            "zerolinecolor": "white"
           },
           "yaxis": {
            "backgroundcolor": "#E5ECF6",
            "gridcolor": "white",
            "gridwidth": 2,
            "linecolor": "white",
            "showbackground": true,
            "ticks": "",
            "zerolinecolor": "white"
           },
           "zaxis": {
            "backgroundcolor": "#E5ECF6",
            "gridcolor": "white",
            "gridwidth": 2,
            "linecolor": "white",
            "showbackground": true,
            "ticks": "",
            "zerolinecolor": "white"
           }
          },
          "shapedefaults": {
           "line": {
            "color": "#2a3f5f"
           }
          },
          "ternary": {
           "aaxis": {
            "gridcolor": "white",
            "linecolor": "white",
            "ticks": ""
           },
           "baxis": {
            "gridcolor": "white",
            "linecolor": "white",
            "ticks": ""
           },
           "bgcolor": "#E5ECF6",
           "caxis": {
            "gridcolor": "white",
            "linecolor": "white",
            "ticks": ""
           }
          },
          "title": {
           "x": 0.05
          },
          "xaxis": {
           "automargin": true,
           "gridcolor": "white",
           "linecolor": "white",
           "ticks": "",
           "title": {
            "standoff": 15
           },
           "zerolinecolor": "white",
           "zerolinewidth": 2
          },
          "yaxis": {
           "automargin": true,
           "gridcolor": "white",
           "linecolor": "white",
           "ticks": "",
           "title": {
            "standoff": 15
           },
           "zerolinecolor": "white",
           "zerolinewidth": 2
          }
         }
        }
       }
      },
      "text/html": [
       "<div>                            <div id=\"57bdd8eb-4055-4b97-b2e4-0168b11a8aa4\" class=\"plotly-graph-div\" style=\"height:525px; width:100%;\"></div>            <script type=\"text/javascript\">                require([\"plotly\"], function(Plotly) {                    window.PLOTLYENV=window.PLOTLYENV || {};                                    if (document.getElementById(\"57bdd8eb-4055-4b97-b2e4-0168b11a8aa4\")) {                    Plotly.newPlot(                        \"57bdd8eb-4055-4b97-b2e4-0168b11a8aa4\",                        [{\"customdata\":[[\"Scrypt\"],[\"Scrypt\"],[\"X11\"],[\"SHA-512\"],[\"SHA-256\"],[\"SHA-256\"],[\"X15\"],[\"Scrypt\"],[\"Scrypt\"],[\"Scrypt\"],[\"Scrypt\"],[\"Scrypt\"],[\"Scrypt\"],[\"Groestl\"],[\"PoS\"],[\"Scrypt\"],[\"Scrypt\"],[\"X11\"],[\"X11\"],[\"SHA3\"],[\"Scrypt\"],[\"SHA-256\"],[\"Scrypt\"],[\"X13\"],[\"X13\"],[\"NeoScrypt\"],[\"Scrypt\"],[\"Scrypt\"],[\"Scrypt\"],[\"X11\"],[\"X11\"],[\"Multiple\"],[\"PHI1612\"],[\"X11\"],[\"Scrypt\"],[\"Scrypt\"],[\"Scrypt\"],[\"X11\"],[\"Multiple\"],[\"X13\"],[\"Scrypt\"],[\"Shabal256\"],[\"Counterparty\"],[\"SHA-256\"],[\"Groestl\"],[\"Scrypt\"],[\"X13\"],[\"Scrypt\"],[\"Scrypt\"],[\"X13\"],[\"X11\"],[\"Scrypt\"],[\"X11\"],[\"SHA3\"],[\"QUAIT\"],[\"X11\"],[\"Scrypt\"],[\"X13\"],[\"SHA-256\"],[\"X15\"],[\"BLAKE256\"],[\"SHA-256\"],[\"X11\"],[\"SHA-256\"],[\"NIST5\"],[\"Scrypt\"],[\"Scrypt\"],[\"X11\"],[\"Scrypt\"],[\"SHA-256\"],[\"Scrypt\"],[\"PoS\"],[\"X11\"],[\"SHA-256\"],[\"SHA-256\"],[\"NIST5\"],[\"X11\"],[\"POS 3.0\"],[\"Scrypt\"],[\"Scrypt\"],[\"Scrypt\"],[\"X13\"],[\"X11\"],[\"X11\"],[\"Scrypt\"],[\"SHA-256\"],[\"X11\"],[\"Scrypt\"],[\"Scrypt\"],[\"Scrypt\"],[\"Scrypt\"],[\"SHA-256D\"],[\"PoS\"],[\"Scrypt\"],[\"X11\"],[\"PoS\"],[\"X13\"],[\"X14\"],[\"PoS\"],[\"SHA-256D\"],[\"X11\"],[\"X13\"],[\"X11\"],[\"PoS\"],[\"Scrypt\"],[\"Scrypt\"],[\"PoS\"],[\"X11\"],[\"SHA-256\"],[\"Scrypt\"],[\"X11\"],[\"Scrypt\"],[\"Scrypt\"],[\"X11\"],[\"Scrypt\"],[\"Scrypt\"],[\"Scrypt\"],[\"Scrypt\"],[\"Quark\"],[\"QuBit\"],[\"Scrypt\"],[\"SHA-256\"],[\"X11\"],[\"Scrypt\"],[\"Scrypt\"],[\"Scrypt\"],[\"Scrypt\"],[\"X13\"],[\"Scrypt\"],[\"Scrypt\"],[\"X11\"],[\"Blake2S\"],[\"X11\"],[\"PoS\"],[\"X11\"],[\"PoS\"],[\"X11\"],[\"Scrypt\"],[\"Scrypt\"],[\"Scrypt\"],[\"SHA-256\"],[\"X11\"],[\"Scrypt\"],[\"PoS\"],[\"Scrypt\"],[\"X15\"],[\"SHA-256\"],[\"POS 3.0\"],[\"536\"],[\"NIST5\"],[\"NIST5\"],[\"Skein\"],[\"X13\"],[\"Scrypt\"],[\"X13\"],[\"SkunkHash v2 Raptor\"],[\"Skein\"],[\"X11\"],[\"Scrypt\"],[\"PoS\"],[\"Scrypt\"],[\"Scrypt\"],[\"SHA-512\"],[\"Ouroboros\"],[\"X11\"],[\"NeoScrypt\"],[\"Scrypt\"],[\"Lyra2REv2\"],[\"Scrypt\"],[\"SHA-256\"],[\"NIST5\"],[\"PHI1612\"],[\"Scrypt\"],[\"Quark\"],[\"POS 2.0\"],[\"Scrypt\"],[\"SHA-256\"],[\"X11\"],[\"NIST5\"],[\"X13\"],[\"Scrypt\"],[\"NIST5\"],[\"Quark\"],[\"Scrypt\"],[\"Scrypt\"],[\"X11\"],[\"Quark\"],[\"Scrypt\"],[\"Scrypt\"],[\"X11\"],[\"POS 3.0\"],[\"Ethash\"],[\"Scrypt\"],[\"Scrypt\"],[\"X13\"],[\"C11\"],[\"X11\"],[\"XEVAN\"],[\"Scrypt\"],[\"VBFT\"],[\"NIST5\"],[\"Scrypt\"],[\"Scrypt\"],[\"Scrypt\"],[\"Green Protocol\"],[\"PoS\"],[\"Scrypt\"],[\"Quark\"],[\"PoS\"],[\"X16R\"],[\"Scrypt\"],[\"XEVAN\"],[\"Scrypt\"],[\"Scrypt\"],[\"Scrypt\"],[\"SHA-256D\"],[\"Scrypt\"],[\"X15\"],[\"Quark\"],[\"SHA-256\"],[\"DPoS\"],[\"X16R\"],[\"Quark\"],[\"Quark\"],[\"Scrypt\"],[\"Lyra2REv2\"],[\"Quark\"],[\"Scrypt\"],[\"X11\"],[\"X11\"],[\"Scrypt\"],[\"PoS\"],[\"Keccak\"],[\"X11\"],[\"Scrypt\"],[\"SHA-512\"],[\"XEVAN\"],[\"XEVAN\"],[\"X11\"],[\"Quark\"],[\"Equihash\"],[\"Scrypt\"],[\"Quark\"],[\"Quark\"],[\"Scrypt\"],[\"X11\"],[\"Scrypt\"],[\"XEVAN\"],[\"SHA-256D\"],[\"X11\"],[\"X11\"],[\"Scrypt\"],[\"X11\"],[\"Scrypt\"],[\"Scrypt\"],[\"SHA-256\"],[\"Scrypt\"],[\"X11\"],[\"Scrypt\"],[\"SHA-256\"],[\"X11\"],[\"Scrypt\"],[\"Scrypt\"],[\"X11\"],[\"Scrypt\"],[\"PoS\"],[\"X11\"],[\"SHA-256\"],[\"Scrypt\"],[\"Scrypt\"],[\"NeoScrypt\"],[\"X13\"],[\"SHA-256\"],[\"PoS\"],[\"PoS\"],[\"Scrypt\"],[\"Scrypt\"]],\"hovertemplate\":\"Class=%{marker.color}<br>PC 1=%{x}<br>PC 2=%{y}<br>PC 3=%{z}<br>Algorithm=%{customdata[0]}<extra></extra>\",\"legendgroup\":\"0\",\"marker\":{\"color\":[0,0,0,0,0,0,0,0,0,0,0,0,0,0,0,0,0,0,0,0,0,0,0,0,0,0,0,0,0,0,0,0,0,0,0,0,0,0,0,0,0,0,0,0,0,0,0,0,0,0,0,0,0,0,0,0,0,0,0,0,0,0,0,0,0,0,0,0,0,0,0,0,0,0,0,0,0,0,0,0,0,0,0,0,0,0,0,0,0,0,0,0,0,0,0,0,0,0,0,0,0,0,0,0,0,0,0,0,0,0,0,0,0,0,0,0,0,0,0,0,0,0,0,0,0,0,0,0,0,0,0,0,0,0,0,0,0,0,0,0,0,0,0,0,0,0,0,0,0,0,0,0,0,0,0,0,0,0,0,0,0,0,0,0,0,0,0,0,0,0,0,0,0,0,0,0,0,0,0,0,0,0,0,0,0,0,0,0,0,0,0,0,0,0,0,0,0,0,0,0,0,0,0,0,0,0,0,0,0,0,0,0,0,0,0,0,0,0,0,0,0,0,0,0,0,0,0,0,0,0,0,0,0,0,0,0,0,0,0,0,0,0,0,0,0,0,0,0,0,0,0,0,0,0,0,0,0,0,0,0,0,0,0,0,0,0,0,0,0,0,0,0,0,0,0,0,0],\"coloraxis\":\"coloraxis\",\"symbol\":\"circle\"},\"mode\":\"markers\",\"name\":\"0\",\"scene\":\"scene\",\"showlegend\":true,\"type\":\"scatter3d\",\"x\":[-0.33373727275865883,-0.31706991259503314,-0.39550208959717414,-0.3165083865726448,-0.31871881775650956,-0.2805562701462869,-0.23839551664197448,-0.3333967026544745,-0.3259738801337777,-0.33223373405473305,-0.33373320497406894,-0.3337174812470629,0.7152729709764426,-0.37228412292873014,-0.35211242685990735,-0.26793978671478824,-0.33179503067726374,-0.3371618121945852,-0.3953967780119262,-0.4656138412100194,-0.03547616469279931,-0.28200493788567743,-0.29532560776475325,-0.2750204483407831,-0.2756427027280503,-0.3336650640658341,-0.3280360445042231,-0.3321381829226617,0.024430371266437788,-0.35704987168786406,-0.3957685378732257,-0.2441720345096909,-0.33975918064002736,-0.3956800979967238,-0.30895584650815006,-0.3324138419773696,-0.3238249616804973,-0.39564460433986887,-0.244640538400026,-0.27542355014143477,-0.32483243068214945,0.14172480060503856,-0.34164467306401464,-0.3179301386351811,-0.3717056756320994,-0.2953059840273329,-0.275718007270542,-0.28995597377823146,-0.33371933998697,-0.2756702038486758,-0.3574946025021595,-0.33345355604886634,-0.39575006542870467,-0.5403719211350124,-0.4201996082121223,-0.31001338509555926,-0.293706674015883,-0.27519151390904606,-0.31126785473508206,-0.24083950657957975,-0.10012263758778267,-0.3186897295859346,-0.07300060850318293,-0.31875351269015334,-0.2240712354973972,-0.3333292665473105,-0.29357482523007106,-0.3929162554710032,0.8586419855855348,-0.3185533454665527,-0.015825972454348636,-0.3517955313901345,-0.39359235663963615,-0.31729546329090236,-0.314961319506091,-0.3454380683922223,-0.3944841503841383,-0.3715917299191266,-0.30960969065524835,-0.3333673499696103,-0.33180583268598335,-0.23624828138571624,-0.34497983407295146,-0.39522356781425505,-0.33257118479154285,-0.3187343866338452,-0.3957392343273662,-0.3335566962204868,-0.3337135726648016,-0.2935660166009385,-0.24942669166251602,0.05693858348624855,-0.35075214027289703,-0.3333277014648,-0.38188968520415717,-0.3500809787968583,-0.23768043095353533,-0.4318667943920986,-0.34982799568641304,-0.25770145219345697,-0.3953315506372716,0.8565849597569456,-0.3956941346213985,-0.3512160991249699,-0.33325496995639653,-0.33340928203143727,-0.3517955313901345,-0.3952685995743521,-0.31859705689116813,-0.3332557462657305,-0.35642725594207203,-0.33340318411101183,-0.32898635577918023,-0.39572312223445477,-0.3326129837908681,0.348229579138596,-0.3336025841135297,-0.3336732310654964,-0.3684999331608078,-0.3430483166999411,-0.3298960985858666,-0.3187107986141569,-0.3956330354405606,-0.33345090474324796,-0.3335778529973147,-0.29521208623203304,-0.28254206584103186,-0.23744818045075897,-0.3144228647310389,-0.2949533481191793,-0.3948980665101823,-0.38545982935171424,-0.3936362725131964,-0.35004129905529,-0.3947959443045582,-0.3444386898366346,-0.3907337179695832,-0.3335211406713479,-0.3335202767325385,-0.3266344163257617,0.25269303038170093,-0.3952748952993018,-0.27783875316461765,-0.35182975520137766,-0.3327311608607587,0.8942740082078627,-0.2792452185584002,-0.3703695072852516,0.6044538842019352,-0.3469744124227328,-0.3454757297271927,-0.4170996646183076,-0.27535512926235994,0.1316080419562479,-0.27542598767363613,-0.33511900265428196,-0.4166045141126627,-0.39554752165831475,-0.2952865678396007,-0.35169578947130187,-0.33315611321437183,-0.3336561530527427,-0.37460229499481235,0.6344661745494534,-0.3954882175809589,-0.3286610538861029,-0.33361168095200444,-0.3413591487574249,0.4357428155918988,-0.3170563728422332,-0.33173147527031216,-0.41347461277370434,-0.3335619776951706,-0.4050394726546001,-0.37012619980732864,-0.3334324128772824,-0.10696185500250027,-0.39427993011816587,0.21277728157917264,-0.27209520448127633,-0.3308910773793924,-0.3086386418946513,-0.3683857922166736,0.08110718959335274,-0.3325698959092431,-0.39486179872153254,-0.36754973893315335,-0.320129284758887,-0.3336782876139411,-0.35746652265502527,-0.37187372886546377,-0.2718211518749761,-0.2926152939512796,-0.32922155601045244,-0.22923760657762834,-0.324272578720383,-0.39556465486444514,-0.2567344108150585,-0.29444571235890077,-0.36453258180246123,-0.3465730516891254,-0.3337056516089766,-0.33368734667776334,-0.28882398845125923,-0.3707121456700705,-0.35129002499706175,-0.3334036544946428,-0.4037074050120552,-0.35147876600017136,-0.32834960950364256,-0.28023255449523854,-0.17113192123081947,-0.2949806927868094,-0.13673030341383113,-0.2952326372203238,-0.3230753737104174,-0.33287725330557383,-0.20208358055821463,-0.3640888140909196,-0.2793736836064041,1.0209771184582244,-0.3657849996386371,-0.36849932498260257,-0.40672516796591374,-0.17583227071897156,-0.3793863805493447,-0.3672181882748008,-0.3265745033320756,-0.3570436511882945,-0.395037770761397,-0.292476337967858,-0.3505775466734021,-0.35573790114566006,-0.3569046896890323,-0.19304564309904174,-0.4196025392392917,-0.21862841598165686,0.694467050850699,-0.14740439662833252,-0.4060193889242408,-0.256811153439525,-0.33340769477276466,-0.4064757962320669,-0.3686163659083842,0.5737175649271291,-0.35752085105225984,-0.3328901161985668,-0.25118640538376474,-0.2777559629554896,-0.3925995258270561,-0.3952651702882681,0.10180988136010893,-0.392804871304653,-0.3322747081895154,-0.3331008344627099,-0.2805888395933198,-0.3336196028388654,-0.38688896473400225,-0.24723915821723966,-0.09836084218063211,-0.3826333463105379,-0.33289776271816124,-0.3259587728018879,-0.39183223470586614,-0.3313357769280392,-0.35207126214831624,-0.39110364975818096,-0.3172331677129918,-0.10242833284376991,-0.32852933063719925,-0.3332904805322809,-0.2758253064561233,-0.2614771255909387,-0.35200712702522513,-0.30841953121188453,-0.33178066401468603,-0.295629450295687],\"y\":[1.0383005036998083,1.0383087546608676,1.1919587967663765,1.5967885807816076,0.794652189004675,0.5704987347248983,1.8154442711060745,1.038296471402131,1.0384808422667362,1.0383354299512024,1.038300242092992,1.038300251216179,0.5163815373526798,0.8818630247124192,1.5153288839472308,0.4369103024400218,1.0382601498523623,0.9682829611806464,1.1919612430856776,1.8605103262467233,0.8201822025795605,0.7937976049291857,0.8141345455131682,1.7734804428414501,1.7734659882786998,0.543903566285745,1.0381337914155495,1.0382678483134227,1.0466205040244054,0.9678209745562121,1.1919682762982597,0.07756640768678562,1.5735609371151618,1.1919632088367502,1.0377365481780738,1.0382600204188757,0.299582232724078,1.1919672384896376,0.07762675039058953,1.7734710790500627,1.0377950999616046,0.9583672240222214,1.449517516280707,0.7946377456634562,0.8818795813526258,0.8141465256849796,1.7734556919142332,0.8139146742116767,1.0383009202962958,1.7734582268713421,0.967796398601446,1.03829284913488,1.191968706113331,1.872448601402458,1.8742555040144722,0.8278853108675884,0.8141124508683448,1.7734408562286013,0.7941286822397234,1.815618057971641,0.8744877488574253,0.7946528647038671,1.1805555303046116,0.794659574024485,1.5197201530694866,1.0382800666353151,0.8140292929929187,1.1917610268135606,0.770438497309299,0.7946432121840897,0.5263593227107679,1.5153220000732923,1.1919654089711136,0.794542284726076,0.7943812077461199,1.5168367776904381,1.1918991087097353,1.4528408668198096,1.0374364568338832,1.0382775200485386,1.0382741440773573,1.5491919316890777,0.96763340051033,1.1919453234373332,1.0382634880224308,0.7946525396072593,1.1919668209404468,1.0382897409986693,1.0383010542674207,0.8141869439911604,0.34996571606847143,1.9197520881512047,1.5153077754658348,1.0383100178032152,1.1912222875427976,1.5153475829335616,1.549299334544669,1.8574315337711604,1.515167560304026,1.921342150080796,1.1919570602155236,1.7991614781094365,1.1919672607888048,1.5153140921832344,1.038284256907274,1.038278207927912,1.5153220000732923,1.1919371548046764,0.7946564419448614,1.0382881847802774,0.5883068993496369,1.0382883211826375,1.0379474271258595,1.191965770698975,1.0382240551577786,0.8059364450990242,1.0382943731123428,1.038299629681057,1.4318094242072994,0.5523760471039901,1.0380336029804549,0.7946530875415412,1.1919647621874725,1.0382929107229768,1.0382885847672068,0.8141095327107531,0.4443536876694555,1.5492961648705719,1.0380369073756057,0.814130196711098,1.191917271748404,1.8899371655768686,1.1919394598240245,1.5152984399992595,1.1919196439804995,1.515222236871241,1.1917291038714781,1.0382904158460806,1.0382851738431056,1.0377532410127688,0.5294753634520888,1.1919512537076986,0.813127763182602,1.5153140825022247,1.0382490880214448,1.7779015653344992,0.570395581356279,1.4528218931337367,1.7685197903368797,1.5168580700170609,1.5168145351193425,1.9692128377053824,1.773451300699471,1.013497299774241,1.7734575620532376,1.4984461909119497,1.9692243397280291,1.1919666394483386,0.8141345792350021,1.5152946871287267,1.0382796358406252,1.0382993966062777,1.597938537891689,1.393483497169735,1.1919555577170986,0.5437375884104568,1.0382922149619926,0.6208133588939312,1.0383685875501079,0.7946352504340302,1.516364567143682,1.798490744211195,1.0382896183134642,1.6558755787259742,1.4445542164114404,1.038297052366086,0.5681298058868658,1.1919002913258985,1.5085001357268486,1.7733988202842679,1.0382170449280124,1.2926892547080628,1.4318085143396866,1.012324197978058,1.0382207825165297,1.1919537270969272,1.4317567095680799,1.0379755767107104,1.0382990248863724,0.967796338620514,1.4528403703567376,-0.10633544606738464,0.44228845166827313,1.0382401571548596,1.5489274306251821,0.9431619138721875,1.191955206643818,1.5079015346204823,0.814078189312308,1.4409505746409814,1.5168389030674019,1.038299101496081,1.0382981021928102,0.8139409694910272,1.498458980659668,1.5152853091512022,1.038286885741073,1.6559065217867543,1.5152866228804882,0.6192978458832603,1.035895235555546,1.1438428002511087,0.8141355632947291,1.035611821091033,0.8141168901564548,1.9250985351342096,1.038260651795457,1.591426248816175,1.4314596081524666,0.5704636961547781,1.7861619250011118,0.8434482151823687,1.431805164790302,1.655975203773519,0.804898916547636,0.8449564235805648,1.4317786564217905,1.0377546327524567,0.9677819448957066,1.1919496393814455,0.8140270695818834,1.5152149641505797,0.9125390330102718,0.9677531212961717,1.0287480446010164,1.9170466475354562,1.2837471227853756,1.3017893593124963,0.9726909019306416,1.65595680549621,-0.11644338792827821,1.0382932022049218,1.6559711068222203,1.4318078805302767,1.0061032307958104,0.9677960025420107,1.038260352998859,1.5077170178916601,1.9226612140215331,1.1917427429687177,1.1919586021876487,1.0234889694265066,1.1920371210480376,1.0381920266628468,1.038276643451532,0.5704919239697749,1.0383032371250647,1.1918184149764497,1.032831095386669,0.7996513015168518,1.1915611414962637,1.0383093211378698,1.0381962902282176,1.1919115652151515,1.038242327719621,1.5153234298597102,0.6368104635776034,0.7946275823175751,0.8114980799233672,1.0382078035926507,0.5438720976186154,1.773461661042544,0.5702385765719415,1.5153251802632077,1.7157821500349002,1.0381678901146565,0.8141382995175331],\"z\":[-0.6298423405462676,-0.6302806828305259,-0.6155327636957273,-0.11171814684756881,-0.42787170625629367,-0.041734931554890366,-0.7724634385992684,-0.6298502917845153,-0.6300887610688283,-0.6298900648925497,-0.6298423844240141,-0.6298427982698737,-0.4713795850187526,-0.5313645556606382,-0.04320543799435518,-0.3200873486056128,-0.6298835307992965,-0.23003858841463162,-0.615536106426975,-0.46193997549414284,-0.2519598240350889,-0.4286283489632131,-0.2437090949191814,-0.7233662597268669,-0.7233465085363463,-0.41639325991728765,-0.6299516982521499,-0.6298763895259947,-0.6412110629282848,-0.2294073146780855,-0.6155280569390054,0.09439671775921162,-0.16532387773931181,-0.6155291593826986,-0.6303561479533122,-0.6298672987516634,-0.2710678288267453,-0.6155310532163699,0.09439453942896006,-0.7233534647339722,-0.6299544994747681,-0.593210812949839,-0.11818596910805583,-0.4278888973257877,-0.5313836631134016,-0.24371247637541107,-0.723342072356159,-0.24379704652393222,-0.6298429097637049,-0.7233439306864812,-0.2293897884696774,-0.6298479362484225,-0.615528643449713,0.10976791414683212,-0.8386335083152066,-0.2478518775147124,-0.24374619135117212,-0.7233523052391451,-0.427941467942647,-0.7724410519129687,-0.38119931273490965,-0.4278726295539204,-0.6212465628869503,-0.42787256565890974,-0.6499691099641182,-0.6298481305240976,-0.2437297378146801,-0.6155531231764868,-0.26346155512525865,-0.42787388969995427,-0.45462710099584536,-0.043212086827777885,-0.6155843450714681,-0.42788266328595664,-0.42790521645554536,-0.6461014192330513,-0.6155451268045504,0.004580558393422835,-0.6302671969678854,-0.6298465238887703,-0.629886597783696,-0.33721311693504874,-0.22967842016727838,-0.615536830554889,-0.62986400940662,-0.4278713825719372,-0.6155284757652246,-0.629844491948028,-0.6298430928262614,-0.24376770527992542,-0.2458853186289164,-0.8914280736778557,-0.043235998856468255,-0.6298553408967347,-0.615712851444939,-0.043263099194050345,-0.33720133087681453,-0.7336407244054249,-0.04322663059708565,-0.8835711123047802,-0.6155368128896385,-0.7591400173586769,-0.6155297618044882,-0.04322536400458252,-0.6298510787026014,-0.6298455907250959,-0.043212086827777885,-0.6155336962589668,-0.42787591209526554,-0.6298519985912446,-0.6874061135366475,-0.6298481711795572,-0.6298822082696477,-0.6155286461992397,-0.6298534760425872,-0.2585956029517597,-0.6298443993465019,-0.6298438080049087,-0.16328619924758847,-0.45774802157392286,-0.6298790182171143,-0.42787213128738305,-0.6155307633497863,-0.629848020404426,-0.6298436612770038,-0.24370607971727354,-0.30169035065269123,-0.33720665269124134,-0.6302849130878206,-0.24371780005808671,-0.6155386377670481,-1.0605862339799252,-0.6155769838769426,-0.043252374725618464,-0.6155418792631,-0.04338081562699148,-0.6156026226928596,-0.6298455843638526,-0.6298443522067447,-0.629897302028691,-0.04587615713790308,-0.6155369062788695,-0.24392592429041657,-0.043209295590678064,-0.6298563741601808,-0.7931312179754952,-0.041744564351201566,0.0045531011712285855,-0.9879419862267941,-0.6460662930274736,-0.6460951090296547,-0.7338516181658745,-0.7233505217226165,-0.6360883895512965,-0.7233501653597547,0.007835647590928037,-0.7338673349083732,-0.6155334515405678,-0.2437101250933314,-0.0432081602785746,-0.6298525607230206,-0.6298441993324349,-0.11047245807638571,-0.16200268794990447,-0.615532351548497,-0.4164845395895804,-0.629843644587208,0.012065503874941569,-0.6500043543455769,-0.4279111760588608,-0.646347237985098,-0.5507156795096563,-0.6298443243069236,-0.5494445689330603,-0.014230044687436383,-0.6298494959221769,-0.045712748146893724,-0.6155507565665828,-0.6587204869808799,-0.7234233074242267,-0.6298968791457922,-0.25993037650341333,-0.16328896977088453,-0.634485424627511,-0.6298538207534552,-0.6155483135920856,-0.16329845795233483,-0.6301208329204565,-0.6298435308502617,-0.22939050926902907,0.00458806023073137,0.13276308861735062,-0.33000762751508117,-0.6299461211576268,-0.3373333495351261,-0.6773093636836002,-0.6155302663118599,-0.4730594098360235,-0.24371864145533798,0.04399151883830579,-0.6460722130472133,-0.6298428327730179,-0.6298430728106675,-0.24383297725952324,0.050814712933837346,-0.043216538774171,-0.629847815263481,-0.5494868505502447,-0.04321191182294637,-0.07059190184599318,-0.6306673967525868,-0.10538503372292336,-0.24371836874547922,-0.6343565806410962,-0.24370730282135653,-0.8827587253633138,-0.6298553173370511,-0.3863106314307044,-0.1633179512092265,-0.04175750562273895,-0.13150260886381868,-0.4567469757675447,-0.16328519559557983,-0.5494242830370828,-0.24462681525590974,-0.37407232657044986,-0.1633123916704868,-0.6298992037476298,-0.2293981350247491,-0.6155427280030457,-0.24375796503343627,-0.04321835368017701,-0.36811476403440235,-0.22939487367647476,-0.6312392127526578,-0.15534045829471257,-0.08692092531984774,0.061888035425410964,-0.2360617438060529,-0.5494383570128375,0.1308718745455906,-0.6298492214542267,-0.5494298311396174,-0.16328278141885838,-0.6458933201807577,-0.2293890064532411,-0.6298549090515406,-0.47316049418174083,-0.8833618099718841,-0.6155570388626365,-0.6155389198911266,-0.6376999468925324,-0.6156221278693554,-0.6298546657717078,-0.6298532916862278,-0.04173244856863365,-0.6298460755548259,-0.6157246603276495,-0.6307977332529774,-0.4348375217682791,-0.6157744930088347,-0.6298664303393567,-0.6300210435023709,-0.6156175381735529,-0.6298912884211558,-0.04320521018302064,-0.3927118910926043,-0.4279047118883939,-0.24812823849028104,-0.6299564998153878,-0.41639553422814213,-0.7233406919894819,-0.04217216766966292,-0.043207308294492146,0.04299115542972477,-0.6298618227610951,-0.24370203862860262]},{\"customdata\":[[\"X13\"],[\"Scrypt\"],[\"CryptoNight\"],[\"DPoS\"],[\"Scrypt\"],[\"DPoS\"],[\"CryptoNight\"],[\"Semux BFT consensus\"],[\"Scrypt\"],[\"CryptoNight Heavy\"],[\"DPoS\"],[\"DPoS\"],[\"DPoS\"],[\"DPoS\"],[\"SHA-256\"]],\"hovertemplate\":\"Class=%{marker.color}<br>PC 1=%{x}<br>PC 2=%{y}<br>PC 3=%{z}<br>Algorithm=%{customdata[0]}<extra></extra>\",\"legendgroup\":\"3\",\"marker\":{\"color\":[3,3,3,3,3,3,3,3,3,3,3,3,3,3,3],\"coloraxis\":\"coloraxis\",\"symbol\":\"diamond\"},\"mode\":\"markers\",\"name\":\"3\",\"scene\":\"scene\",\"showlegend\":true,\"type\":\"scatter3d\",\"x\":[2.3114074575803985,2.5582534827068724,3.8668819855480594,3.736020364049065,3.2446035852853137,3.7408794611099583,8.054889833723806,3.9306779787737964,2.2579605393359508,3.1265638216711222,3.7531257030165723,3.736412462402687,3.746279960609169,3.747524179782924,2.4710220804876077],\"y\":[1.6097992018401286,-1.3135553625307723,-2.363544411966116,2.107944611410342,-1.166556531099494,2.1077903885232443,-2.847128851346093,2.158343946238744,0.3903706500981547,-2.260023118194288,2.1077187320043995,2.1079288487090033,2.1082719673121386,2.1083008697104013,0.8917906493833309],\"z\":[-0.7519010854837974,-0.007285649297684081,0.3785789828025455,-0.2035492014238345,-0.060441986960813446,-0.20363950091971778,0.3846883607371516,-0.1751589689867696,-0.4263269841007746,0.2580955625808868,-0.20394296672912482,-0.20355569381906,-0.20389616639857844,-0.2039356595873012,-0.1146205719166978]},{\"customdata\":[[\"SHA-256\"],[\"Ethash\"],[\"Scrypt\"],[\"CryptoNight-V7\"],[\"Ethash\"],[\"Equihash\"],[\"Multiple\"],[\"Scrypt\"],[\"X11\"],[\"Scrypt\"],[\"Multiple\"],[\"SHA-256\"],[\"Scrypt\"],[\"Scrypt\"],[\"Quark\"],[\"Groestl\"],[\"Scrypt\"],[\"Scrypt\"],[\"Scrypt\"],[\"X11\"],[\"Multiple\"],[\"SHA-256\"],[\"Scrypt\"],[\"Scrypt\"],[\"Scrypt\"],[\"Scrypt\"],[\"Scrypt\"],[\"NeoScrypt\"],[\"Scrypt\"],[\"Scrypt\"],[\"Scrypt\"],[\"Scrypt\"],[\"SHA-256\"],[\"Scrypt\"],[\"Scrypt\"],[\"Scrypt\"],[\"Scrypt\"],[\"HybridScryptHash256\"],[\"Scrypt\"],[\"Scrypt\"],[\"SHA-256\"],[\"Scrypt\"],[\"Scrypt\"],[\"Scrypt\"],[\"Scrypt\"],[\"SHA-256\"],[\"SHA-256\"],[\"SHA-256\"],[\"SHA-256\"],[\"SHA-256\"],[\"X11\"],[\"Scrypt\"],[\"Lyra2REv2\"],[\"Scrypt\"],[\"SHA-256\"],[\"CryptoNight\"],[\"Scrypt\"],[\"Scrypt\"],[\"Scrypt\"],[\"Scrypt\"],[\"Scrypt\"],[\"Scrypt\"],[\"Stanford Folding\"],[\"Multiple\"],[\"QuBit\"],[\"Scrypt\"],[\"Scrypt\"],[\"M7 POW\"],[\"Scrypt\"],[\"SHA-256\"],[\"Scrypt\"],[\"X11\"],[\"Lyra2RE\"],[\"SHA-256\"],[\"X11\"],[\"Scrypt\"],[\"Scrypt\"],[\"Ethash\"],[\"Blake2b\"],[\"X11\"],[\"SHA-256\"],[\"Scrypt\"],[\"1GB AES Pattern Search\"],[\"Scrypt\"],[\"SHA-256\"],[\"X11\"],[\"Dagger\"],[\"Scrypt\"],[\"X11GOST\"],[\"Scrypt\"],[\"X11\"],[\"Scrypt\"],[\"X11\"],[\"Equihash\"],[\"CryptoNight\"],[\"SHA-256\"],[\"Multiple\"],[\"Scrypt\"],[\"SHA-256\"],[\"Scrypt\"],[\"Lyra2Z\"],[\"Ethash\"],[\"Equihash\"],[\"Scrypt\"],[\"X11\"],[\"X11\"],[\"CryptoNight\"],[\"Scrypt\"],[\"CryptoNight\"],[\"Lyra2RE\"],[\"X11\"],[\"CryptoNight-V7\"],[\"Scrypt\"],[\"X11\"],[\"Equihash\"],[\"Scrypt\"],[\"Lyra2RE\"],[\"Dagger-Hashimoto\"],[\"Scrypt\"],[\"NIST5\"],[\"Scrypt\"],[\"SHA-256\"],[\"Scrypt\"],[\"CryptoNight-V7\"],[\"Argon2d\"],[\"Blake2b\"],[\"Cloverhash\"],[\"CryptoNight\"],[\"X11\"],[\"Scrypt\"],[\"Scrypt\"],[\"X11\"],[\"X11\"],[\"CryptoNight\"],[\"Time Travel\"],[\"Keccak\"],[\"X11\"],[\"SHA-256\"],[\"Scrypt\"],[\"Scrypt\"],[\"Scrypt\"],[\"Scrypt\"],[\"Scrypt\"],[\"Scrypt\"],[\"CryptoNight\"],[\"Equihash\"],[\"X11\"],[\"NeoScrypt\"],[\"Equihash\"],[\"Dagger\"],[\"Scrypt\"],[\"X11\"],[\"NeoScrypt\"],[\"Ethash\"],[\"NeoScrypt\"],[\"Multiple\"],[\"CryptoNight\"],[\"CryptoNight\"],[\"Ethash\"],[\"X11\"],[\"CryptoNight-V7\"],[\"Scrypt\"],[\"BLAKE256\"],[\"X11\"],[\"NeoScrypt\"],[\"NeoScrypt\"],[\"Scrypt\"],[\"X11\"],[\"SHA-256\"],[\"C11\"],[\"SkunkHash\"],[\"CryptoNight\"],[\"Scrypt\"],[\"Dagger\"],[\"Lyra2REv2\"],[\"Scrypt\"],[\"Scrypt\"],[\"X11\"],[\"Ethash\"],[\"CryptoNight\"],[\"Scrypt\"],[\"IMesh\"],[\"Equihash\"],[\"Lyra2Z\"],[\"X11\"],[\"CryptoNight\"],[\"NIST5\"],[\"Lyra2RE\"],[\"Tribus\"],[\"Lyra2Z\"],[\"CryptoNight\"],[\"CryptoNight Heavy\"],[\"CryptoNight\"],[\"Jump Consistent Hash\"],[\"CryptoNight\"],[\"X16R\"],[\"HMQ1725\"],[\"X11\"],[\"Scrypt\"],[\"CryptoNight-V7\"],[\"Cryptonight-GPU\"],[\"XEVAN\"],[\"SHA-256\"],[\"X11\"],[\"X16R\"],[\"Equihash\"],[\"Lyra2Z\"],[\"SHA-256\"],[\"CryptoNight\"],[\"Blake\"],[\"Blake\"],[\"Exosis\"],[\"Scrypt\"],[\"Equihash\"],[\"Equihash\"],[\"QuBit\"],[\"SHA-256\"],[\"X13\"],[\"SHA-256\"],[\"Scrypt\"],[\"NeoScrypt\"],[\"Blake\"],[\"Scrypt\"],[\"SHA-256\"],[\"Scrypt\"],[\"Groestl\"],[\"Scrypt\"],[\"Scrypt\"],[\"Multiple\"],[\"Equihash+Scrypt\"],[\"Ethash\"],[\"CryptoNight\"],[\"Equihash\"]],\"hovertemplate\":\"Class=%{marker.color}<br>PC 1=%{x}<br>PC 2=%{y}<br>PC 3=%{z}<br>Algorithm=%{customdata[0]}<extra></extra>\",\"legendgroup\":\"4\",\"marker\":{\"color\":[4,4,4,4,4,4,4,4,4,4,4,4,4,4,4,4,4,4,4,4,4,4,4,4,4,4,4,4,4,4,4,4,4,4,4,4,4,4,4,4,4,4,4,4,4,4,4,4,4,4,4,4,4,4,4,4,4,4,4,4,4,4,4,4,4,4,4,4,4,4,4,4,4,4,4,4,4,4,4,4,4,4,4,4,4,4,4,4,4,4,4,4,4,4,4,4,4,4,4,4,4,4,4,4,4,4,4,4,4,4,4,4,4,4,4,4,4,4,4,4,4,4,4,4,4,4,4,4,4,4,4,4,4,4,4,4,4,4,4,4,4,4,4,4,4,4,4,4,4,4,4,4,4,4,4,4,4,4,4,4,4,4,4,4,4,4,4,4,4,4,4,4,4,4,4,4,4,4,4,4,4,4,4,4,4,4,4,4,4,4,4,4,4,4,4,4,4,4,4,4,4,4,4,4,4,4,4,4,4,4,4,4,4,4,4,4,4,4,4,4,4,4,4,4,4,4,4,4,4,4,4,4,4],\"coloraxis\":\"coloraxis\",\"symbol\":\"square\"},\"mode\":\"markers\",\"name\":\"4\",\"scene\":\"scene\",\"showlegend\":true,\"type\":\"scatter3d\",\"x\":[-0.15168326897951087,-0.14179654836291272,-0.16553159036788032,-0.16038218827816905,-0.14023689010477747,-0.1287415152495712,0.17126693004337465,-0.16667840233323447,-0.22865103645093748,-0.16629459114028033,-0.08230208488024883,-0.14876683282604908,-0.16354836544283646,-0.16609833942309177,-0.23507060320571724,-0.20431472087426583,-0.166147492243446,-0.16666066660745357,-0.1667471876259398,-0.22874040213096672,0.19498616759039766,0.22635300366011724,0.0821056239005026,-0.16649340045666258,-0.1620962551439253,-0.16643260823897116,-0.16680421005129076,-0.16195784734966384,-0.14601425145605879,-0.1655987699158648,-0.16587622853082098,1.5829356433187918,-0.1516446346113875,-0.16316394870390719,-0.1665198519298919,-0.16687483618958646,-0.1661337176889009,-0.16051644708584126,-0.1667560280142354,-0.0315388884276399,-0.15172225278495413,-0.1604169414536398,-0.1667353873656061,-0.16482786933181495,-0.1662218601946141,-0.13886676167463563,-0.15118577888500587,-0.1514730485193092,-0.15145575529652344,-0.15204709997358437,-0.2289144445794191,-0.16645183435017016,-0.21186113892548536,-0.16355296767171484,-0.15125309492047656,0.4642467844107963,-0.16531871972909892,-0.14990464679449494,-0.16403696571707485,-0.16687703642035726,-0.16390203828056285,-0.15011820989422833,-0.16709946004267062,-0.11632656663250363,-0.17705996950763783,-0.16675009615252587,-0.0396028487701423,-0.11395384949355326,-0.16688594445137342,-0.15175003305687512,0.4860040225317919,-0.2283013301258487,-0.14793394363214166,-0.15148963135618013,-0.22858634438672343,-0.16500801713915914,-0.1641998899150578,-0.1428639894400556,0.3483847154637445,-0.228621780999168,-0.1516457570739228,-0.16284188344657846,-0.14716571049221644,-0.16544854868076334,0.26703653413179146,-0.22778192559596894,-0.16176148012047867,-0.1656953863980513,-0.14977113420921076,-0.1666756944377862,-0.22858495542929497,-0.16688600297403197,-0.22873494145067952,-0.16115910771787295,0.3090634974640186,-0.1519059497733066,-0.09638834032388068,-0.1640509843019754,-0.15186456876903495,-0.1665491562405184,-0.1532637312366927,-0.14260605313473143,-0.12876313447605361,-0.09353212321203241,-0.2153134686859344,-0.22656140199738567,0.30905794051330404,-0.16686772379178771,0.30918869858725356,-0.1484748468322136,0.4873063109405624,-0.15914542813865812,-0.16683600306368118,-0.22146120645958647,-0.12877553950046064,-0.1649683816028717,-0.1481931189452608,-0.1429451486360001,-0.13772781184924987,-0.17979086604403585,-0.16639810346625672,-0.11820966631719532,-0.16621988638028692,-0.15900372880980757,-0.16787601948927247,-0.051956151390374294,-0.1302295431117326,0.3451979100841909,-0.22779020417740725,-0.16653956148397794,-0.16630251505158772,-0.22818521341361467,-0.22876302100752272,0.3094532066675651,-0.13520897486911207,-0.12868940312165816,-0.21962640606757267,-0.15168243311258786,-0.09237612277698265,1.5803090201020404,-0.16663741364454893,-0.16608853845260194,-0.16578936778723055,-0.16577629739596636,0.30963708739637646,0.08372395404419666,-0.1831324751983661,-0.16664929235193143,-0.12862154631743966,-0.1605195373211368,-0.1649665905772069,-0.2243046052718393,-0.1664945585075823,-0.14096925511266736,-0.1665948691918246,-0.1065526244137003,1.1476993197382497,0.30904064698024186,-0.06578063460372127,-0.22404470731164133,-0.14810823162682393,-0.08298090252555725,1.0727738046470292,-0.22873701048363126,-0.16664689413939326,-0.15968059914348853,-0.16588802095231864,-0.22866238726963747,-0.15166183446408824,-0.15739911682093427,-0.160591579736246,0.31291780703136135,0.02624617908553699,-0.16002310976235362,-0.19741038588708404,-0.16646197714272754,0.14077808908994208,-0.22279925808029122,-0.09395808807078318,0.3169717190793172,-0.1666991491161426,-0.1500463087562988,-0.12761218126400614,-0.15104500685386488,-0.2278309807878406,0.3092232269293963,-0.1798505303339394,-0.1483199520392558,-0.21500337872797964,-0.1533481950255318,0.31315604082638065,0.6024190679073284,2.119221089287639,-0.13873323976962687,0.32283664654230404,-0.1997266169697679,-0.17231763093801783,-0.22871916021278318,-0.1667237255043213,-0.14798268269521678,-0.1308457208139533,-0.08865549335895373,-0.11149107027119538,-0.22869049403733033,-0.19915371882728586,-0.023302308477238062,-0.15274535550904578,-0.15168247068189347,0.3890497277739055,-0.15966883913259117,-0.16006147993577657,-0.122511016379493,-0.16561520280044392,-0.12667970715648463,-0.12845427668781778,-0.17627014063877813,-0.15095822859600744,-0.10895931236555319,-0.14982530097589722,0.5299719853348273,-0.09177610657175717,-0.11047152801331646,-0.15026881149633928,-0.15147241890557062,0.5493866469542165,-0.2038755243805127,-0.16680069514815626,-0.16475492007795722,-0.11706150743459912,-0.1468776974241593,-0.1426392274656101,0.3308100125463276,-0.128742572306279],\"y\":[-1.3469950405024662,-2.0237952636807073,-1.1033800862198329,-2.2169445378840553,-2.0239086078989437,-2.033889940940298,-1.8481507535897768,-1.1033618536942165,-0.9496920061962604,-1.1033835650805262,-1.8405081049212169,-1.3470332743597115,-1.1034522519343002,-1.1034046475488704,-0.48573770001562855,-1.2598199341873924,-1.103368870185142,-1.1033614417048982,-1.1033578531882136,-0.9496926575877436,-1.8444337869270098,-1.3531559535721134,-1.107183281252323,-1.1033575562215294,-1.1034539854092293,-1.1033639788897722,-1.1033578215105497,-1.5978724889716482,-1.1038787213206893,-1.103371675152808,-1.1033797198516135,-1.1272350285963961,-1.3469941430513417,-1.1034543057640607,-1.1033574584145356,-1.1033524208658252,-1.1033641584319296,-2.2270169547453915,-1.1033558220563262,-1.110891555147612,-1.346995946070787,-1.1034414773979366,-1.1033631774192767,-1.1034819739734372,-1.1033727586930877,-1.347314848605576,-1.3470020113501724,-1.3470051146245892,-1.3470317786966621,-1.3469887127170084,-0.9496838798463396,-1.1033580151829012,-1.2967025790482472,-1.103463342420444,-1.347002142018526,-2.3183196729970397,-1.1033901842509313,-1.1041538453915585,-1.1034040471066069,-1.1033533822407438,-1.1033963643544897,-1.1036744712704523,-2.2777613672373582,-1.8398739565362174,-1.5892400695120674,-1.1033509629485831,-1.1075175885267017,-2.1636918773588363,-1.1033521585837653,-1.3469965913883488,-1.1537131936630833,-0.9496931420934637,-2.225289312002942,-1.3470138759804278,-0.949691215699317,-1.1034578393338552,-1.1034673864219937,-2.0238321013461875,-2.2027447922838963,-0.9496884775815156,-1.3469941691254126,-1.1034073505220432,-2.171267515712787,-1.1033781572157104,-1.35265697433068,-0.9497174017946104,-2.2179232045642623,-1.103443970934713,-2.2171174122686055,-1.103361078534146,-0.9496940324644634,-1.1033521577850678,-0.9496975165417186,-1.3771265596208901,-2.3148090276098667,-1.3469921903640834,-1.8402655134853438,-1.1034283145704216,-1.3469918717788525,-1.1033652617088199,-2.1892861781168325,-2.023832733037367,-2.0338904431408,-1.1087703303271779,-0.9497240667800395,-0.9497916148989808,-2.3148169915259293,-1.1033532273723128,-2.314816803131047,-2.2252621406290842,-1.0042722827641115,-2.217047576378818,-1.1033529504351234,-0.9502230034257001,-2.03388788227169,-1.1033783993671766,-2.225263431106831,-2.226236263020876,-1.1055234227111976,-0.6248136791311522,-1.1033656847975088,-1.3479831567576313,-1.1033875277972127,-2.2169873042016195,-2.1807819551637047,-2.2122868176272656,-2.1595648817795836,-2.315387041105426,-0.9497289902195255,-1.103357401150023,-1.103391583979536,-0.9497096757287327,-0.9496938240411505,-2.3148313142466748,-2.1031418215028608,-1.231015448094226,-0.9502516079546959,-1.346995021085822,-1.1090996059075175,-1.062765520187008,-1.1033601892963365,-1.1033930237598526,-1.103397470339694,-1.103397166723047,-2.314851892687217,-2.043896955564924,-0.9499024579916999,-1.5977613806271715,-2.0338871541404084,-2.2179843179535106,-1.103378357762821,-0.9498260863923973,-1.5977706068948299,-2.0239754782795414,-1.5977635352483939,-1.8401170041498558,-2.355862824506795,-2.3148113390552467,-2.029152037982464,-0.9499625006186174,-2.2173713100283674,-1.1049639452159734,-1.307882913006187,-0.9496938608653664,-1.5977570513736825,-1.5979364002025918,-1.103374120720769,-0.9496944066406501,-1.346993948569983,-1.1984923995037304,-2.1799664388648767,-2.314951690439706,-1.1059879586444308,-2.217932681377027,-1.2970905510480673,-1.1033703591696518,-1.1093153910801086,-0.9498979567754258,-2.0273136808067824,-2.3153304596456787,-1.1033623356284248,-2.254113008325415,-2.0338986078639416,-2.1894330735194125,-0.9497299374335366,-2.3148113001611867,-0.6247956546541339,-2.2252701380759454,-2.2196498816915162,-2.189280376549461,-2.3151341927547886,-2.1873740617191215,-2.403808494287567,-2.2423505409951585,-2.315194221213664,-1.2981793546901002,-2.2381870814998686,-0.9496943009241562,-1.103363693753645,-2.2179029559752537,-2.196786645543312,-0.6338290089860391,-1.3475421851903726,-0.9496964840573547,-1.2982215488023066,-2.0368388561367743,-2.1893187239025695,-1.3469950219585323,-2.318698917213177,-2.1907021757272167,-2.1906543934146585,-2.2219689410336927,-1.1034076697494724,-2.034014270332317,-2.0338903099531818,-1.5892929480466178,-1.3470088253576833,-0.3681916296362923,-1.3470565829621897,-1.157036616944355,-1.5988519242229857,-2.1944702838495416,-1.1036779696472456,-1.3470050999990733,-1.122326044664333,-1.2598246893459024,-1.103353298357506,-1.1034318459047108,-1.839893023051542,-2.234426052816174,-2.0238322802855917,-2.3152940666598765,-2.033889965495034],\"z\":[0.21570934518984017,0.3901690869048609,0.013716061161586784,0.5751004343382695,0.39015538472974454,0.38832588053300826,0.3463068546462839,0.013741721472382189,0.028053973396945,0.013736869976849732,0.35111611401980325,0.21564214215339342,0.013681412730933798,0.013736778422009694,0.09405155862397924,0.11220059915162411,0.01372950127822781,0.013741158516610412,0.013742564737128773,0.02805646899826318,0.3447961339682249,0.20728673290066488,0.008143053687900999,0.013735849264189621,0.013643810050788385,0.013735795057569961,0.01374405005549674,0.22709631980369419,0.013324436821481371,0.013715806632451479,0.013724996417308089,-0.026350318376922713,0.21570811888307556,0.01367183996135748,0.013736518376765284,0.013744606364760029,0.013728012797158594,0.48187142625183604,0.013742309995750367,0.01200602234039432,0.21571058258821826,0.013596849992922072,0.013743530253893832,0.013722025903938237,0.013732379091897626,0.2154503492235581,0.21569798903718151,0.21570625285732015,0.2157121826710682,0.21571735595033437,0.028058924470272348,0.013734870885574995,0.2694987223804567,0.01368418794621124,0.21569978271269116,0.4568377660918246,0.013712905167961835,0.013492147373957288,0.013682665980849981,0.013744894092755306,0.013677294436084345,0.013382991094850213,0.6164783180123026,0.35185511132988684,0.18585299912185568,0.013740991571612102,0.011409519610657393,0.5238524490446324,0.013744834407225069,0.2157114643713839,0.008706455297175572,0.02804508965374265,0.4294782299075604,0.21570878421339687,0.028052090476618705,0.013720965246358576,0.013702092993287849,0.3902058513370603,0.5572810496332645,0.028052362818653774,0.2157081545115449,0.013652168333560477,0.478841051722602,0.013713425306833591,0.20610215915678776,0.028037298185337012,0.5130560123881431,0.013735641551440891,0.4804258436128066,0.013741465027407796,0.028052728360177977,0.013744835748219796,0.028057489118067932,0.23487953696022928,0.46006026976600173,0.21571449294735273,0.35142683651162515,0.01368884189232489,0.2157133332939165,0.013739153462304572,0.5044287462046022,0.3901992495282209,0.3883265667563113,0.013121307258801807,0.02771245758344927,0.028023108079666348,0.4600623215711561,0.013744613208545007,0.4600588531050935,0.4294858872657292,0.02237438850568876,0.5750927190650498,0.013743716439549277,0.027992841409379285,0.38832627853752266,0.013700912042207577,0.4294788202642149,0.45835629183550913,0.013501181410092267,-0.002483247043331923,0.013735300032331482,0.21506949954185361,0.013735862689238678,0.5750745819192221,0.5190456529928078,0.5700464224496936,0.49212593931745835,0.4592525954872266,0.028040288842376786,0.013737020684155334,0.013738996912514448,0.028046007257052703,0.028057340395263745,0.46005540155242014,0.36054507136375624,0.2743516295698592,0.027951651652455643,0.21570931865830237,0.013169860618248961,-0.04171358749804995,0.013740249943583648,0.013733739442295374,0.013726971247050166,0.013726556375265615,0.4600555132328545,0.3851587080581784,0.02691263015483145,0.227192550318347,0.3883220725578718,0.5130381258347462,0.013700855192645979,0.027972274432122645,0.2271907077273817,0.39019056547070297,0.227191641219226,0.35165739847256716,0.44793101913228806,0.46006142130290045,0.3894611669786796,0.027998123468317686,0.574881246794706,0.011933933665468969,0.2457952983198674,0.02805666822973943,0.22719145123945603,0.22705199769348472,0.013723964892680447,0.02805484516538631,0.2157085226385759,-0.03372237298727064,0.5472814538050517,0.45999350943158024,0.009319382969803263,0.5130127686680803,0.26921325667559254,0.013738091207914494,0.0071173151979646125,0.027950066599229367,0.389758832652444,0.45997803999015807,0.013742380003153972,0.3560349639141134,0.3882983880985069,0.5044058201864785,0.02804158314679303,0.4600566318770678,-0.002485999486564182,0.4294837463187073,0.7157614377074362,0.5044295688279768,0.4600309577407648,0.30679008867488405,0.4339723931411377,0.44749490861091307,0.45979187931041043,0.18685495289393123,0.48814504782371776,0.028056306229433475,0.013743348530054312,0.575005219650907,0.3825164274093502,0.170514268088806,0.21478804518053246,0.02805607829743372,0.1868500538638795,0.3862712628353845,0.5044229651074732,0.21570931985080258,0.4588972756806443,0.49907280275920846,0.4990716448366536,0.194230729866187,0.013724852870977116,0.3883016611162058,0.3883184486861937,0.1858449781654493,0.215693662621212,-0.0797537505813823,0.21567543322027372,0.008350858743279137,0.2254933424080394,0.4986867409257657,0.013387771392099701,0.21570623287253402,-0.0004660891988746667,0.11219023881206902,0.013742875326942357,0.013708116890691189,0.35187891671831134,0.5978118767503171,0.3902000096886,0.4596070290046314,0.3883259140854084]},{\"customdata\":[[\"VeChainThor Authority\"],[\"Proof-of-BibleHash\"],[\"SHA-256 + Hive\"],[\"Proof-of-Authority\"],[\"ECC 256K1\"],[\"SHA3-256\"],[\"Leased POS\"]],\"hovertemplate\":\"Class=%{marker.color}<br>PC 1=%{x}<br>PC 2=%{y}<br>PC 3=%{z}<br>Algorithm=%{customdata[0]}<extra></extra>\",\"legendgroup\":\"1\",\"marker\":{\"color\":[1,1,1,1,1,1,1],\"coloraxis\":\"coloraxis\",\"symbol\":\"x\"},\"mode\":\"markers\",\"name\":\"1\",\"scene\":\"scene\",\"showlegend\":true,\"type\":\"scatter3d\",\"x\":[4.394199607915626,-0.15621427020497952,-0.3313565536273812,-0.3978644351414249,-0.3552316073431643,-0.5880504788240114,-0.41228907524472636],\"y\":[2.5639934165432714,3.744357874911118,3.535369950849557,3.431195987723399,2.6901752912085586,2.7627293314031123,3.126693207186927],\"z\":[7.638587205849448,8.464265447142765,17.338468913961194,13.36931142223118,9.898793728343138,13.846938774282052,8.794328594862233]},{\"customdata\":[[\"TRC10\"]],\"hovertemplate\":\"Class=%{marker.color}<br>PC 1=%{x}<br>PC 2=%{y}<br>PC 3=%{z}<br>Algorithm=%{customdata[0]}<extra></extra>\",\"legendgroup\":\"2\",\"marker\":{\"color\":[2],\"coloraxis\":\"coloraxis\",\"symbol\":\"cross\"},\"mode\":\"markers\",\"name\":\"2\",\"scene\":\"scene\",\"showlegend\":true,\"type\":\"scatter3d\",\"x\":[34.070224441661324],\"y\":[1.5336324498544713],\"z\":[-1.0462702632930505]}],                        {\"coloraxis\":{\"colorbar\":{\"title\":{\"text\":\"Class\"}},\"colorscale\":[[0.0,\"#0d0887\"],[0.1111111111111111,\"#46039f\"],[0.2222222222222222,\"#7201a8\"],[0.3333333333333333,\"#9c179e\"],[0.4444444444444444,\"#bd3786\"],[0.5555555555555556,\"#d8576b\"],[0.6666666666666666,\"#ed7953\"],[0.7777777777777778,\"#fb9f3a\"],[0.8888888888888888,\"#fdca26\"],[1.0,\"#f0f921\"]]},\"legend\":{\"title\":{\"text\":\"Class\"},\"tracegroupgap\":0,\"x\":0,\"y\":1},\"margin\":{\"t\":60},\"scene\":{\"domain\":{\"x\":[0.0,1.0],\"y\":[0.0,1.0]},\"xaxis\":{\"title\":{\"text\":\"PC 1\"}},\"yaxis\":{\"title\":{\"text\":\"PC 2\"}},\"zaxis\":{\"title\":{\"text\":\"PC 3\"}}},\"template\":{\"data\":{\"bar\":[{\"error_x\":{\"color\":\"#2a3f5f\"},\"error_y\":{\"color\":\"#2a3f5f\"},\"marker\":{\"line\":{\"color\":\"#E5ECF6\",\"width\":0.5},\"pattern\":{\"fillmode\":\"overlay\",\"size\":10,\"solidity\":0.2}},\"type\":\"bar\"}],\"barpolar\":[{\"marker\":{\"line\":{\"color\":\"#E5ECF6\",\"width\":0.5},\"pattern\":{\"fillmode\":\"overlay\",\"size\":10,\"solidity\":0.2}},\"type\":\"barpolar\"}],\"carpet\":[{\"aaxis\":{\"endlinecolor\":\"#2a3f5f\",\"gridcolor\":\"white\",\"linecolor\":\"white\",\"minorgridcolor\":\"white\",\"startlinecolor\":\"#2a3f5f\"},\"baxis\":{\"endlinecolor\":\"#2a3f5f\",\"gridcolor\":\"white\",\"linecolor\":\"white\",\"minorgridcolor\":\"white\",\"startlinecolor\":\"#2a3f5f\"},\"type\":\"carpet\"}],\"choropleth\":[{\"colorbar\":{\"outlinewidth\":0,\"ticks\":\"\"},\"type\":\"choropleth\"}],\"contour\":[{\"colorbar\":{\"outlinewidth\":0,\"ticks\":\"\"},\"colorscale\":[[0.0,\"#0d0887\"],[0.1111111111111111,\"#46039f\"],[0.2222222222222222,\"#7201a8\"],[0.3333333333333333,\"#9c179e\"],[0.4444444444444444,\"#bd3786\"],[0.5555555555555556,\"#d8576b\"],[0.6666666666666666,\"#ed7953\"],[0.7777777777777778,\"#fb9f3a\"],[0.8888888888888888,\"#fdca26\"],[1.0,\"#f0f921\"]],\"type\":\"contour\"}],\"contourcarpet\":[{\"colorbar\":{\"outlinewidth\":0,\"ticks\":\"\"},\"type\":\"contourcarpet\"}],\"heatmap\":[{\"colorbar\":{\"outlinewidth\":0,\"ticks\":\"\"},\"colorscale\":[[0.0,\"#0d0887\"],[0.1111111111111111,\"#46039f\"],[0.2222222222222222,\"#7201a8\"],[0.3333333333333333,\"#9c179e\"],[0.4444444444444444,\"#bd3786\"],[0.5555555555555556,\"#d8576b\"],[0.6666666666666666,\"#ed7953\"],[0.7777777777777778,\"#fb9f3a\"],[0.8888888888888888,\"#fdca26\"],[1.0,\"#f0f921\"]],\"type\":\"heatmap\"}],\"heatmapgl\":[{\"colorbar\":{\"outlinewidth\":0,\"ticks\":\"\"},\"colorscale\":[[0.0,\"#0d0887\"],[0.1111111111111111,\"#46039f\"],[0.2222222222222222,\"#7201a8\"],[0.3333333333333333,\"#9c179e\"],[0.4444444444444444,\"#bd3786\"],[0.5555555555555556,\"#d8576b\"],[0.6666666666666666,\"#ed7953\"],[0.7777777777777778,\"#fb9f3a\"],[0.8888888888888888,\"#fdca26\"],[1.0,\"#f0f921\"]],\"type\":\"heatmapgl\"}],\"histogram\":[{\"marker\":{\"pattern\":{\"fillmode\":\"overlay\",\"size\":10,\"solidity\":0.2}},\"type\":\"histogram\"}],\"histogram2d\":[{\"colorbar\":{\"outlinewidth\":0,\"ticks\":\"\"},\"colorscale\":[[0.0,\"#0d0887\"],[0.1111111111111111,\"#46039f\"],[0.2222222222222222,\"#7201a8\"],[0.3333333333333333,\"#9c179e\"],[0.4444444444444444,\"#bd3786\"],[0.5555555555555556,\"#d8576b\"],[0.6666666666666666,\"#ed7953\"],[0.7777777777777778,\"#fb9f3a\"],[0.8888888888888888,\"#fdca26\"],[1.0,\"#f0f921\"]],\"type\":\"histogram2d\"}],\"histogram2dcontour\":[{\"colorbar\":{\"outlinewidth\":0,\"ticks\":\"\"},\"colorscale\":[[0.0,\"#0d0887\"],[0.1111111111111111,\"#46039f\"],[0.2222222222222222,\"#7201a8\"],[0.3333333333333333,\"#9c179e\"],[0.4444444444444444,\"#bd3786\"],[0.5555555555555556,\"#d8576b\"],[0.6666666666666666,\"#ed7953\"],[0.7777777777777778,\"#fb9f3a\"],[0.8888888888888888,\"#fdca26\"],[1.0,\"#f0f921\"]],\"type\":\"histogram2dcontour\"}],\"mesh3d\":[{\"colorbar\":{\"outlinewidth\":0,\"ticks\":\"\"},\"type\":\"mesh3d\"}],\"parcoords\":[{\"line\":{\"colorbar\":{\"outlinewidth\":0,\"ticks\":\"\"}},\"type\":\"parcoords\"}],\"pie\":[{\"automargin\":true,\"type\":\"pie\"}],\"scatter\":[{\"marker\":{\"colorbar\":{\"outlinewidth\":0,\"ticks\":\"\"}},\"type\":\"scatter\"}],\"scatter3d\":[{\"line\":{\"colorbar\":{\"outlinewidth\":0,\"ticks\":\"\"}},\"marker\":{\"colorbar\":{\"outlinewidth\":0,\"ticks\":\"\"}},\"type\":\"scatter3d\"}],\"scattercarpet\":[{\"marker\":{\"colorbar\":{\"outlinewidth\":0,\"ticks\":\"\"}},\"type\":\"scattercarpet\"}],\"scattergeo\":[{\"marker\":{\"colorbar\":{\"outlinewidth\":0,\"ticks\":\"\"}},\"type\":\"scattergeo\"}],\"scattergl\":[{\"marker\":{\"colorbar\":{\"outlinewidth\":0,\"ticks\":\"\"}},\"type\":\"scattergl\"}],\"scattermapbox\":[{\"marker\":{\"colorbar\":{\"outlinewidth\":0,\"ticks\":\"\"}},\"type\":\"scattermapbox\"}],\"scatterpolar\":[{\"marker\":{\"colorbar\":{\"outlinewidth\":0,\"ticks\":\"\"}},\"type\":\"scatterpolar\"}],\"scatterpolargl\":[{\"marker\":{\"colorbar\":{\"outlinewidth\":0,\"ticks\":\"\"}},\"type\":\"scatterpolargl\"}],\"scatterternary\":[{\"marker\":{\"colorbar\":{\"outlinewidth\":0,\"ticks\":\"\"}},\"type\":\"scatterternary\"}],\"surface\":[{\"colorbar\":{\"outlinewidth\":0,\"ticks\":\"\"},\"colorscale\":[[0.0,\"#0d0887\"],[0.1111111111111111,\"#46039f\"],[0.2222222222222222,\"#7201a8\"],[0.3333333333333333,\"#9c179e\"],[0.4444444444444444,\"#bd3786\"],[0.5555555555555556,\"#d8576b\"],[0.6666666666666666,\"#ed7953\"],[0.7777777777777778,\"#fb9f3a\"],[0.8888888888888888,\"#fdca26\"],[1.0,\"#f0f921\"]],\"type\":\"surface\"}],\"table\":[{\"cells\":{\"fill\":{\"color\":\"#EBF0F8\"},\"line\":{\"color\":\"white\"}},\"header\":{\"fill\":{\"color\":\"#C8D4E3\"},\"line\":{\"color\":\"white\"}},\"type\":\"table\"}]},\"layout\":{\"annotationdefaults\":{\"arrowcolor\":\"#2a3f5f\",\"arrowhead\":0,\"arrowwidth\":1},\"autotypenumbers\":\"strict\",\"coloraxis\":{\"colorbar\":{\"outlinewidth\":0,\"ticks\":\"\"}},\"colorscale\":{\"diverging\":[[0,\"#8e0152\"],[0.1,\"#c51b7d\"],[0.2,\"#de77ae\"],[0.3,\"#f1b6da\"],[0.4,\"#fde0ef\"],[0.5,\"#f7f7f7\"],[0.6,\"#e6f5d0\"],[0.7,\"#b8e186\"],[0.8,\"#7fbc41\"],[0.9,\"#4d9221\"],[1,\"#276419\"]],\"sequential\":[[0.0,\"#0d0887\"],[0.1111111111111111,\"#46039f\"],[0.2222222222222222,\"#7201a8\"],[0.3333333333333333,\"#9c179e\"],[0.4444444444444444,\"#bd3786\"],[0.5555555555555556,\"#d8576b\"],[0.6666666666666666,\"#ed7953\"],[0.7777777777777778,\"#fb9f3a\"],[0.8888888888888888,\"#fdca26\"],[1.0,\"#f0f921\"]],\"sequentialminus\":[[0.0,\"#0d0887\"],[0.1111111111111111,\"#46039f\"],[0.2222222222222222,\"#7201a8\"],[0.3333333333333333,\"#9c179e\"],[0.4444444444444444,\"#bd3786\"],[0.5555555555555556,\"#d8576b\"],[0.6666666666666666,\"#ed7953\"],[0.7777777777777778,\"#fb9f3a\"],[0.8888888888888888,\"#fdca26\"],[1.0,\"#f0f921\"]]},\"colorway\":[\"#636efa\",\"#EF553B\",\"#00cc96\",\"#ab63fa\",\"#FFA15A\",\"#19d3f3\",\"#FF6692\",\"#B6E880\",\"#FF97FF\",\"#FECB52\"],\"font\":{\"color\":\"#2a3f5f\"},\"geo\":{\"bgcolor\":\"white\",\"lakecolor\":\"white\",\"landcolor\":\"#E5ECF6\",\"showlakes\":true,\"showland\":true,\"subunitcolor\":\"white\"},\"hoverlabel\":{\"align\":\"left\"},\"hovermode\":\"closest\",\"mapbox\":{\"style\":\"light\"},\"paper_bgcolor\":\"white\",\"plot_bgcolor\":\"#E5ECF6\",\"polar\":{\"angularaxis\":{\"gridcolor\":\"white\",\"linecolor\":\"white\",\"ticks\":\"\"},\"bgcolor\":\"#E5ECF6\",\"radialaxis\":{\"gridcolor\":\"white\",\"linecolor\":\"white\",\"ticks\":\"\"}},\"scene\":{\"xaxis\":{\"backgroundcolor\":\"#E5ECF6\",\"gridcolor\":\"white\",\"gridwidth\":2,\"linecolor\":\"white\",\"showbackground\":true,\"ticks\":\"\",\"zerolinecolor\":\"white\"},\"yaxis\":{\"backgroundcolor\":\"#E5ECF6\",\"gridcolor\":\"white\",\"gridwidth\":2,\"linecolor\":\"white\",\"showbackground\":true,\"ticks\":\"\",\"zerolinecolor\":\"white\"},\"zaxis\":{\"backgroundcolor\":\"#E5ECF6\",\"gridcolor\":\"white\",\"gridwidth\":2,\"linecolor\":\"white\",\"showbackground\":true,\"ticks\":\"\",\"zerolinecolor\":\"white\"}},\"shapedefaults\":{\"line\":{\"color\":\"#2a3f5f\"}},\"ternary\":{\"aaxis\":{\"gridcolor\":\"white\",\"linecolor\":\"white\",\"ticks\":\"\"},\"baxis\":{\"gridcolor\":\"white\",\"linecolor\":\"white\",\"ticks\":\"\"},\"bgcolor\":\"#E5ECF6\",\"caxis\":{\"gridcolor\":\"white\",\"linecolor\":\"white\",\"ticks\":\"\"}},\"title\":{\"x\":0.05},\"xaxis\":{\"automargin\":true,\"gridcolor\":\"white\",\"linecolor\":\"white\",\"ticks\":\"\",\"title\":{\"standoff\":15},\"zerolinecolor\":\"white\",\"zerolinewidth\":2},\"yaxis\":{\"automargin\":true,\"gridcolor\":\"white\",\"linecolor\":\"white\",\"ticks\":\"\",\"title\":{\"standoff\":15},\"zerolinecolor\":\"white\",\"zerolinewidth\":2}}}},                        {\"responsive\": true}                    ).then(function(){\n",
       "                            \n",
       "var gd = document.getElementById('57bdd8eb-4055-4b97-b2e4-0168b11a8aa4');\n",
       "var x = new MutationObserver(function (mutations, observer) {{\n",
       "        var display = window.getComputedStyle(gd).display;\n",
       "        if (!display || display === 'none') {{\n",
       "            console.log([gd, 'removed!']);\n",
       "            Plotly.purge(gd);\n",
       "            observer.disconnect();\n",
       "        }}\n",
       "}});\n",
       "\n",
       "// Listen for the removal of the full notebook cells\n",
       "var notebookContainer = gd.closest('#notebook-container');\n",
       "if (notebookContainer) {{\n",
       "    x.observe(notebookContainer, {childList: true});\n",
       "}}\n",
       "\n",
       "// Listen for the clearing of the current output cell\n",
       "var outputEl = gd.closest('.output');\n",
       "if (outputEl) {{\n",
       "    x.observe(outputEl, {childList: true});\n",
       "}}\n",
       "\n",
       "                        })                };                });            </script>        </div>"
      ]
     },
     "metadata": {},
     "output_type": "display_data"
    }
   ],
   "source": [
    "# 3D scatter with clusters\n",
    "fig = px.scatter_3d(\n",
    "    clustered_df,\n",
    "    x=\"PC 1\",\n",
    "    y=\"PC 2\",\n",
    "    z=\"PC 3\",\n",
    "    hover_data= ['Algorithm'],\n",
    "    color=\"Class\",\n",
    "    symbol=\"Class\",\n",
    ")\n",
    "fig.update_layout(legend=dict(x=0, y=1))\n",
    "fig.show()\n"
   ]
  },
  {
   "cell_type": "code",
   "execution_count": 86,
   "id": "f5837998",
   "metadata": {},
   "outputs": [],
   "source": []
  },
  {
   "cell_type": "code",
   "execution_count": 99,
   "id": "5f80b1d6",
   "metadata": {},
   "outputs": [],
   "source": [
    "# Table with tradable cryptos\n",
    "# columns = ['Algorithm', 'ProofType', 'TotalCoinSupply', 'TotalCoinsMined', 'Class']\n",
    "# clustered_df.plot.table(columns)"
   ]
  },
  {
   "cell_type": "code",
   "execution_count": 97,
   "id": "a0262d8d",
   "metadata": {},
   "outputs": [],
   "source": [
    "# Data to create the scatter plot\n",
    "# clustered_df['TotalCoinsMined'] = clustered_df['TotalCoinsMined'].astype(float) \n",
    "# clustered_df['TotalCoinSupply'] = clustered_df['TotalCoinSupply'].astype(float) "
   ]
  },
  {
   "cell_type": "code",
   "execution_count": 107,
   "id": "dd2dc84a",
   "metadata": {},
   "outputs": [
    {
     "data": {
      "text/plain": [
       "<AxesSubplot:xlabel='TotalCoinsMined', ylabel='TotalCoinSupply'>"
      ]
     },
     "execution_count": 107,
     "metadata": {},
     "output_type": "execute_result"
    },
    {
     "data": {
      "image/png": "[encoded data removed]",
      "text/plain": [
       "<Figure size 432x288 with 2 Axes>"
      ]
     },
     "metadata": {
      "needs_background": "light"
     },
     "output_type": "display_data"
    }
   ],
   "source": [
    "# Plot the scatter with x=\"TotalCoinsMined\" and y=\"TotalCoinSupply\"\n",
    "clustered_df.plot(\n",
    "    kind=\"scatter\", \n",
    "    x=\"TotalCoinsMined\", \n",
    "    y=\"TotalCoinSupply\", \n",
    "    c='Class', \n",
    "    colormap=\"Accent_r\" \n",
    ")"
   ]
  },
  {
   "cell_type": "code",
   "execution_count": null,
   "id": "20d40314",
   "metadata": {},
   "outputs": [],
   "source": []
  }
 ],
 "metadata": {
  "kernelspec": {
   "display_name": "Python 3",
   "language": "python",
   "name": "python3"
  },
  "language_info": {
   "codemirror_mode": {
    "name": "ipython",
    "version": 3
   },
   "file_extension": ".py",
   "mimetype": "text/x-python",
   "name": "python",
   "nbconvert_exporter": "python",
   "pygments_lexer": "ipython3",
   "version": "3.8.8"
  }
 },
 "nbformat": 4,
 "nbformat_minor": 5
}
